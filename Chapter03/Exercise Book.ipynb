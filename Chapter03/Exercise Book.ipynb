{
 "cells": [
  {
   "cell_type": "markdown",
   "id": "7e1ddb91-6844-4f49-af99-0581c680edf6",
   "metadata": {},
   "source": [
    "## Exercise 34: Writing and Executing Our First Script"
   ]
  },
  {
   "cell_type": "code",
   "execution_count": 4,
   "id": "2e360474-f79f-4fd2-bbb9-565b17b2350b",
   "metadata": {},
   "outputs": [],
   "source": [
    "import math"
   ]
  },
  {
   "cell_type": "code",
   "execution_count": 5,
   "id": "d78dbbb0-0bdc-4be5-b2fc-80efbf7d6ee3",
   "metadata": {},
   "outputs": [],
   "source": [
    "# Initialize a new list\n",
    "numbers = [5, 7, 11]"
   ]
  },
  {
   "cell_type": "code",
   "execution_count": 6,
   "id": "fac84567-6687-4e76-9f08-edd4c6589b6e",
   "metadata": {},
   "outputs": [],
   "source": [
    "# Compute the sum of the factorials for each element in the numbers list.\n",
    "result = sum([math.factorial(n) for n in numbers])"
   ]
  },
  {
   "cell_type": "code",
   "execution_count": 7,
   "id": "9a66d8bc-c108-4820-a7b8-b43caa0aaeb1",
   "metadata": {},
   "outputs": [
    {
     "name": "stdout",
     "output_type": "stream",
     "text": [
      "39921960\n"
     ]
    }
   ],
   "source": [
    "# Print out the result\n",
    "print(result)"
   ]
  },
  {
   "cell_type": "markdown",
   "id": "d5a5abbb-8d07-49fd-b10b-407fdabfa563",
   "metadata": {},
   "source": [
    "## Exercise 35: Writing and Importing Our First Module"
   ]
  },
  {
   "cell_type": "code",
   "execution_count": 8,
   "id": "60636eed-9c0c-4441-acc2-eabdaef368e4",
   "metadata": {},
   "outputs": [],
   "source": [
    "import math"
   ]
  },
  {
   "cell_type": "code",
   "execution_count": 9,
   "id": "576c5c1f-6151-42db-a13b-9fbcbdfc3637",
   "metadata": {},
   "outputs": [],
   "source": [
    "# Compute the factorials of each element in a given list.\n",
    "def compute(numbers):\n",
    "    return ([math.factorial(n) for n in numbers])"
   ]
  },
  {
   "cell_type": "code",
   "execution_count": 10,
   "id": "fafa122d-0042-427b-a6cd-29a1120f9d24",
   "metadata": {},
   "outputs": [
    {
     "data": {
      "text/plain": [
       "[120, 5040, 39916800]"
      ]
     },
     "execution_count": 10,
     "metadata": {},
     "output_type": "execute_result"
    }
   ],
   "source": [
    "# Execute the function\n",
    "compute([5, 7, 11])"
   ]
  },
  {
   "cell_type": "markdown",
   "id": "7a4ff643-0f44-4196-aa1b-315f2fde2708",
   "metadata": {},
   "source": [
    "## Exercise 36: Adding a Docstring "
   ]
  },
  {
   "cell_type": "code",
   "execution_count": 11,
   "id": "4be614ce-593a-4d56-990d-2d09456371cf",
   "metadata": {},
   "outputs": [],
   "source": [
    "import math"
   ]
  },
  {
   "cell_type": "code",
   "execution_count": 12,
   "id": "ada45909-f5e7-4da6-86d4-6cc0e426c3af",
   "metadata": {},
   "outputs": [],
   "source": [
    "# This is an example of how to input Doctrings into a function.\n",
    "def compute(numbers):\n",
    "    \"\"\" This script computes the sum of the factorial of a list of numbers\"\"\"\n",
    "    return ([math.factorial(n) for n in numbers])"
   ]
  },
  {
   "cell_type": "markdown",
   "id": "157dedd7-9161-41d5-9778-5652fda91241",
   "metadata": {},
   "source": [
    "## Exercise 37: Finding the System Date"
   ]
  },
  {
   "cell_type": "code",
   "execution_count": 1,
   "id": "17167e24-cf8b-41af-8136-2ff32b270db1",
   "metadata": {},
   "outputs": [
    {
     "data": {
      "text/plain": [
       "' This script prints the current system date.'"
      ]
     },
     "execution_count": 1,
     "metadata": {},
     "output_type": "execute_result"
    }
   ],
   "source": [
    "# Create a docstring\n",
    "\"\"\" This script prints the current system date.\"\"\""
   ]
  },
  {
   "cell_type": "code",
   "execution_count": 2,
   "id": "109ab5c5-5368-4fa6-ad93-182c7ec79ad0",
   "metadata": {},
   "outputs": [],
   "source": [
    "# Import the datetime module\n",
    "import datetime"
   ]
  },
  {
   "cell_type": "code",
   "execution_count": 3,
   "id": "6ae8b15c-5128-4977-bdc9-71ffb7cf2f36",
   "metadata": {},
   "outputs": [
    {
     "name": "stdout",
     "output_type": "stream",
     "text": [
      "2021-06-12\n"
     ]
    }
   ],
   "source": [
    "# Print out the current date\n",
    "print(datetime.date.today())"
   ]
  },
  {
   "cell_type": "markdown",
   "id": "6eb6de57-11d5-43f1-a39b-391e34e7dda3",
   "metadata": {},
   "source": [
    "## Exercise 38: The Maximum Number"
   ]
  },
  {
   "cell_type": "code",
   "execution_count": 1,
   "id": "f5ed7637-38d4-49ad-8c59-e33cc3235c64",
   "metadata": {},
   "outputs": [],
   "source": [
    "# STEP 1: Initialize a list of numbers\n",
    "l = [4, 2, 7, 3]"
   ]
  },
  {
   "cell_type": "code",
   "execution_count": 2,
   "id": "3827b158-86ce-4ba3-885e-543be363bd35",
   "metadata": {},
   "outputs": [],
   "source": [
    "# STEP 2: Intialize a variable maximum to 0\n",
    "maximum = 0"
   ]
  },
  {
   "cell_type": "code",
   "execution_count": 3,
   "id": "0851a31b-b5f9-47bd-b357-89ea21c20a49",
   "metadata": {},
   "outputs": [],
   "source": [
    "# STEP 3: Look through each number, and campare to maximum\n",
    "for number in l:\n",
    "    if number > maximum:\n",
    "        maximum = number"
   ]
  },
  {
   "cell_type": "code",
   "execution_count": 4,
   "id": "b2a69819-0dd7-4bdc-9d62-9306819d3f38",
   "metadata": {},
   "outputs": [
    {
     "name": "stdout",
     "output_type": "stream",
     "text": [
      "7\n"
     ]
    }
   ],
   "source": [
    "# STEP 4: Print out maximum\n",
    "print(maximum)"
   ]
  },
  {
   "cell_type": "markdown",
   "id": "e0babe00-1f33-47d1-ab63-4bd44d60f6f6",
   "metadata": {},
   "source": [
    "## Exercise 39: Using Bubble Sort in Python"
   ]
  },
  {
   "cell_type": "code",
   "execution_count": 5,
   "id": "6b051650-8bad-4959-a356-168e2cc67186",
   "metadata": {},
   "outputs": [],
   "source": [
    "# Initialize your list\n",
    "l = [5, 8, 1, 3, 2]"
   ]
  },
  {
   "cell_type": "code",
   "execution_count": 6,
   "id": "0e16b687-7ae4-49b4-9c84-e62cb718d574",
   "metadata": {},
   "outputs": [],
   "source": [
    "# Create an indicator that will tell us when you can stop looping through the array:\n",
    "still_swapping = True"
   ]
  },
  {
   "cell_type": "code",
   "execution_count": 8,
   "id": "029cb056-b03c-4c08-b563-a3302eae76dc",
   "metadata": {},
   "outputs": [],
   "source": [
    "# Look through each number and compare it to maximum\n",
    "while still_swapping:\n",
    "    still_swapping = False\n",
    "    for i in range(len(l) - 1):\n",
    "        if l[i] > l[i+1]:\n",
    "            l[i], l[i+1] = l[i+1], l[i]\n",
    "            still_swapping = True"
   ]
  },
  {
   "cell_type": "code",
   "execution_count": 10,
   "id": "91e6f9ff-92c0-4e21-98c4-710f04104b50",
   "metadata": {},
   "outputs": [
    {
     "data": {
      "text/plain": [
       "[1, 2, 3, 5, 8]"
      ]
     },
     "execution_count": 10,
     "metadata": {},
     "output_type": "execute_result"
    }
   ],
   "source": [
    "# Print out the result\n",
    "l"
   ]
  },
  {
   "cell_type": "markdown",
   "id": "0f7f3f39-9d83-4787-b090-038464fa412a",
   "metadata": {},
   "source": [
    "## Exercise 40: Linear Search in Python"
   ]
  },
  {
   "cell_type": "code",
   "execution_count": 5,
   "id": "2faddf17-354b-4168-931d-984cd3c36bcf",
   "metadata": {},
   "outputs": [],
   "source": [
    "# Initialise a list of numbers,\n",
    "l = [5, 8, 1, 3, 2]"
   ]
  },
  {
   "cell_type": "code",
   "execution_count": 6,
   "id": "f2d4a272-825f-457c-8559-5eb778c0edb2",
   "metadata": {},
   "outputs": [],
   "source": [
    "# Initialise your search variable.\n",
    "search_for = 8"
   ]
  },
  {
   "cell_type": "code",
   "execution_count": 7,
   "id": "4c52446f-c53d-4e40-8004-3826a870ce2a",
   "metadata": {},
   "outputs": [],
   "source": [
    "# Initialise a variable result to -1 and print this out if your search criteria is not met.\n",
    "result = -1 "
   ]
  },
  {
   "cell_type": "code",
   "execution_count": 8,
   "id": "cd9dc211-658f-4143-95cf-13db37f5b686",
   "metadata": {},
   "outputs": [],
   "source": [
    "# Perform a linear search through the list l.\n",
    "for i in range(len(l)):\n",
    "    if search_for == l[i]:\n",
    "        result = i\n",
    "        break"
   ]
  },
  {
   "cell_type": "code",
   "execution_count": 9,
   "id": "97611921-16c2-4ac6-80ff-5f8a8e8cff81",
   "metadata": {},
   "outputs": [
    {
     "name": "stdout",
     "output_type": "stream",
     "text": [
      "1\n"
     ]
    }
   ],
   "source": [
    "# Print out the result.  Note: The value of result is the index position in the list l of the search_for variable.\n",
    "print(result)"
   ]
  },
  {
   "cell_type": "markdown",
   "id": "b072a3f2-7873-46e6-9033-c52e922322cc",
   "metadata": {},
   "source": [
    "## Exercise 41: Binary Search in Python"
   ]
  },
  {
   "cell_type": "code",
   "execution_count": 10,
   "id": "6f253dae-4e78-4356-b117-84f79b49b8d7",
   "metadata": {},
   "outputs": [],
   "source": [
    "# Initilise a list of numbers.\n",
    "l = [2, 3, 5, 8, 11, 12, 18]"
   ]
  },
  {
   "cell_type": "code",
   "execution_count": 11,
   "id": "c0ab4dc4-4c72-4490-a328-0d0ffd39b4b1",
   "metadata": {},
   "outputs": [],
   "source": [
    "# Initialise your search variable.\n",
    "search_for = 11"
   ]
  },
  {
   "cell_type": "code",
   "execution_count": 12,
   "id": "6cfc5749-dd3f-4984-a9ae-0aa995c72a9f",
   "metadata": {},
   "outputs": [],
   "source": [
    "# Initialize the start and end values for your list.\n",
    "slice_start = 0\n",
    "slice_end = len(l) - 1 "
   ]
  },
  {
   "cell_type": "code",
   "execution_count": 13,
   "id": "6880b4f3-b231-403b-9728-ffb1db4c1420",
   "metadata": {},
   "outputs": [],
   "source": [
    "# Create an indicator that will tell us when you can stop looping through the array.\n",
    "found = False"
   ]
  },
  {
   "cell_type": "code",
   "execution_count": 16,
   "id": "307c636a-6a3c-4d07-9406-806503bafb38",
   "metadata": {},
   "outputs": [],
   "source": [
    "while slice_start <= slice_end and not found:\n",
    "    location = (slice_start + slice_end) // 2  # Find the mid-point of the list.\n",
    "    if l[location] == search_for:  # Check if the mid-point value is equal to search_for variable.\n",
    "        found = True\n",
    "    else:\n",
    "        if search_for < l[location]:  # If the search_for variable is less than the value in location remove either the left ot right side if the list upto search_for\n",
    "            slice_end = location - 1\n",
    "        else:\n",
    "            slice_start = location + 1"
   ]
  },
  {
   "cell_type": "code",
   "execution_count": 17,
   "id": "9c4224cd-f0bc-41f3-b484-73b76fc89eb7",
   "metadata": {},
   "outputs": [
    {
     "name": "stdout",
     "output_type": "stream",
     "text": [
      "True\n",
      "4\n"
     ]
    }
   ],
   "source": [
    "# Print out the values of found and location where location returns the index position of the value search_for in the l list.\n",
    "print(found)\n",
    "print(location)"
   ]
  },
  {
   "cell_type": "markdown",
   "id": "bad62fbb-22b0-4842-8c0b-e63904cf9068",
   "metadata": {},
   "source": [
    "## Exercise 42: Defining and Calling the Function in Shell"
   ]
  },
  {
   "cell_type": "code",
   "execution_count": 1,
   "id": "41074fcf-fce5-4256-ab62-b54ed0ec52cc",
   "metadata": {},
   "outputs": [],
   "source": [
    "def get_second_element(mylist):\n",
    "    \"\"\"This function returns the second element of a list.\"\"\"\n",
    "    if len(mylist) > 1:\n",
    "        return mylist[1]\n",
    "    else:\n",
    "        return \"List was too small\""
   ]
  },
  {
   "cell_type": "code",
   "execution_count": 2,
   "id": "13472c29-c4a4-4b0f-9636-332f12576219",
   "metadata": {},
   "outputs": [
    {
     "data": {
      "text/plain": [
       "2"
      ]
     },
     "execution_count": 2,
     "metadata": {},
     "output_type": "execute_result"
    }
   ],
   "source": [
    "# Call the function\n",
    "get_second_element([1, 2, 3])"
   ]
  },
  {
   "cell_type": "code",
   "execution_count": 3,
   "id": "6cbb8558-e27b-43c9-a68a-d3f529c48bc4",
   "metadata": {},
   "outputs": [
    {
     "data": {
      "text/plain": [
       "'List was too small'"
      ]
     },
     "execution_count": 3,
     "metadata": {},
     "output_type": "execute_result"
    }
   ],
   "source": [
    "# Call the function with a length of 1\n",
    "get_second_element([1])"
   ]
  },
  {
   "cell_type": "markdown",
   "id": "eebfd852-8c65-4a27-988f-655fc8c7df25",
   "metadata": {},
   "source": [
    "## Exercise 43: Defining and Calling the Function in Python Script"
   ]
  },
  {
   "cell_type": "code",
   "execution_count": 8,
   "id": "3c1d526a-f542-43b2-be68-1ee47f100964",
   "metadata": {},
   "outputs": [],
   "source": [
    "def list_product(my_list): \n",
    "    \"\"\"This function returns the product of the elements of my_list\"\"\"\n",
    "    result = 1\n",
    "    for number in my_list: \n",
    "        result = result * number\n",
    "    return result"
   ]
  },
  {
   "cell_type": "code",
   "execution_count": 13,
   "id": "970092ba-dcc8-4663-a25f-56ca26a618e9",
   "metadata": {},
   "outputs": [
    {
     "name": "stdout",
     "output_type": "stream",
     "text": [
      "6\n",
      "300\n"
     ]
    }
   ],
   "source": [
    "# Print out some test cases\n",
    "print(list_product([2, 3]))\n",
    "print(list_product([2, 10, 15]))"
   ]
  },
  {
   "cell_type": "markdown",
   "id": "d12a26b4-fa4c-46b4-b3e3-f5a67471875e",
   "metadata": {},
   "source": [
    "## Exercise 45: Defining the Function with Keyword Arguments"
   ]
  },
  {
   "cell_type": "code",
   "execution_count": 14,
   "id": "dbad0450-b955-44e5-ab07-95d8686a90f7",
   "metadata": {},
   "outputs": [],
   "source": [
    "def add_suffix(suffix='.com'):\n",
    "    \"\"\"This function concatenates the string 'google' with a suffix\"\"\"\n",
    "    return 'google' + suffix"
   ]
  },
  {
   "cell_type": "code",
   "execution_count": 15,
   "id": "20ca0226-64bc-4371-9754-b1168d327fe7",
   "metadata": {},
   "outputs": [
    {
     "data": {
      "text/plain": [
       "'google.com'"
      ]
     },
     "execution_count": 15,
     "metadata": {},
     "output_type": "execute_result"
    }
   ],
   "source": [
    "# Call the function without an argument.\n",
    "add_suffix()"
   ]
  },
  {
   "cell_type": "code",
   "execution_count": 16,
   "id": "b6ae99ba-8f45-4037-a610-8bad4a6cc83a",
   "metadata": {},
   "outputs": [
    {
     "data": {
      "text/plain": [
       "'google.co.uk'"
      ]
     },
     "execution_count": 16,
     "metadata": {},
     "output_type": "execute_result"
    }
   ],
   "source": [
    "# Call the function with an argument.\n",
    "add_suffix('.co.uk')"
   ]
  },
  {
   "cell_type": "markdown",
   "id": "8aa3f00a-95af-40d2-bdc1-75a707511362",
   "metadata": {},
   "source": [
    "## Exercise 46: Defining the Function with Positional and Keyword Arguments"
   ]
  },
  {
   "cell_type": "code",
   "execution_count": 19,
   "id": "7dbfe778-82cf-4066-a734-3ea794d8271d",
   "metadata": {},
   "outputs": [],
   "source": [
    "def convert_usd_to_aud(amount, rate=0.75):\n",
    "    \"\"\"Return amount divided by rate\"\"\"\n",
    "    return amount / rate"
   ]
  },
  {
   "cell_type": "code",
   "execution_count": 20,
   "id": "811a9e09-b624-4d90-921e-f89d3edb66bf",
   "metadata": {},
   "outputs": [
    {
     "data": {
      "text/plain": [
       "133.33333333333334"
      ]
     },
     "execution_count": 20,
     "metadata": {},
     "output_type": "execute_result"
    }
   ],
   "source": [
    "# Call the function using the keyword argument.\n",
    "convert_usd_to_aud(100)"
   ]
  },
  {
   "cell_type": "code",
   "execution_count": 21,
   "id": "b9f8b3e4-3a91-40a2-8d19-668f465cebb7",
   "metadata": {},
   "outputs": [
    {
     "data": {
      "text/plain": [
       "128.2051282051282"
      ]
     },
     "execution_count": 21,
     "metadata": {},
     "output_type": "execute_result"
    }
   ],
   "source": [
    "# Call the function with a different rate value.\n",
    "convert_usd_to_aud(100, rate=0.78)"
   ]
  },
  {
   "cell_type": "markdown",
   "id": "44786576-4ac8-4c96-9a47-f1f317b1bda0",
   "metadata": {},
   "source": [
    "## Exercise 47: Using **kwargs"
   ]
  },
  {
   "cell_type": "code",
   "execution_count": 22,
   "id": "654a95de-dcbf-4dd6-8d9d-4c4f66119dd9",
   "metadata": {},
   "outputs": [],
   "source": [
    "def convert_usd_to_aud(amount, rate=0.75):\n",
    "    \"\"\"Return amount divided by rate\"\"\"\n",
    "    return amount / rate"
   ]
  },
  {
   "cell_type": "code",
   "execution_count": 23,
   "id": "2b2be329-0e10-44f8-9e08-f2f7a6828092",
   "metadata": {},
   "outputs": [],
   "source": [
    "def convert_and_sum_list(usd_list, rate=0.75):\n",
    "    \"\"\"Call the function convert_usd_to_aud on usd_list and sum the results\"\"\"\n",
    "    total = 0\n",
    "    for amount in usd_list:\n",
    "        total += convert_usd_to_aud(amount, rate=rate)\n",
    "    return total"
   ]
  },
  {
   "cell_type": "code",
   "execution_count": 24,
   "id": "70e1f16c-506d-4a52-b3f1-2c22d2f70551",
   "metadata": {},
   "outputs": [
    {
     "name": "stdout",
     "output_type": "stream",
     "text": [
      "5.333333333333333\n"
     ]
    }
   ],
   "source": [
    "print(convert_and_sum_list([1, 3]))"
   ]
  },
  {
   "cell_type": "code",
   "execution_count": 27,
   "id": "449789f0-ff0b-420c-a702-04e07279bf2a",
   "metadata": {},
   "outputs": [],
   "source": [
    "def convert_and_sum_list_kwargs(usd_list, **kwargs):\n",
    "    \"\"\"Call the function convert_usd_to_aud on usd_list specifying a rate then sum the results\"\"\"\n",
    "    total = 0\n",
    "    for amount in usd_list:\n",
    "        total += convert_usd_to_aud(amount, **kwargs)\n",
    "    return total"
   ]
  },
  {
   "cell_type": "code",
   "execution_count": 28,
   "id": "d188fc80-e9a3-497b-a3c6-43d9b423f5b3",
   "metadata": {},
   "outputs": [
    {
     "name": "stdout",
     "output_type": "stream",
     "text": [
      "5.0\n"
     ]
    }
   ],
   "source": [
    "print(convert_and_sum_list_kwargs([1, 3], rate=0.8))"
   ]
  },
  {
   "cell_type": "markdown",
   "id": "e47d8d73-e681-4353-9a08-295b4a83e089",
   "metadata": {},
   "source": [
    "## Exercise 48: A Simple Function with a for Loop"
   ]
  },
  {
   "cell_type": "code",
   "execution_count": 1,
   "id": "bba2bdc1-a656-490e-81b7-73c02523670e",
   "metadata": {},
   "outputs": [],
   "source": [
    "def sum_first_n(n):\n",
    "    \"\"\"Sum the first n consecutive numbers and return the result\"\"\"\n",
    "    result = 0\n",
    "    for i in range(n):\n",
    "        result += i + 1\n",
    "    return result"
   ]
  },
  {
   "cell_type": "code",
   "execution_count": 3,
   "id": "b608880d-f1b6-4794-b2d5-94e1875e6988",
   "metadata": {},
   "outputs": [
    {
     "data": {
      "text/plain": [
       "5050"
      ]
     },
     "execution_count": 3,
     "metadata": {},
     "output_type": "execute_result"
    }
   ],
   "source": [
    "# Print out the sum of the first 100 numbers\n",
    "sum_first_n(100)"
   ]
  },
  {
   "cell_type": "markdown",
   "id": "8a9ec105-3b2e-49d5-bd62-08209982f9ee",
   "metadata": {},
   "source": [
    "## Exercise 49: Exiting the Function During the for Loop"
   ]
  },
  {
   "cell_type": "code",
   "execution_count": 2,
   "id": "c4cb39aa-f8ee-436e-b5e7-60996c6c2bd8",
   "metadata": {},
   "outputs": [],
   "source": [
    "def is_prime(x):\n",
    "    \"\"\"This function checks whether a given input is prime\"\"\"\n",
    "    for i in range(2, x):\n",
    "        if (x % i) == 0:\n",
    "            return False\n",
    "    return True"
   ]
  },
  {
   "cell_type": "code",
   "execution_count": 3,
   "id": "bf931c77-dc15-4dc4-8502-20c2b169158e",
   "metadata": {},
   "outputs": [
    {
     "data": {
      "text/plain": [
       "True"
      ]
     },
     "execution_count": 3,
     "metadata": {},
     "output_type": "execute_result"
    }
   ],
   "source": [
    "# Test case 1\n",
    "is_prime(7)"
   ]
  },
  {
   "cell_type": "code",
   "execution_count": 4,
   "id": "d8504340-f775-4ad5-9a1e-4035dd78bba7",
   "metadata": {},
   "outputs": [
    {
     "data": {
      "text/plain": [
       "False"
      ]
     },
     "execution_count": 4,
     "metadata": {},
     "output_type": "execute_result"
    }
   ],
   "source": [
    "# Test case 2\n",
    "is_prime(1000)"
   ]
  },
  {
   "cell_type": "markdown",
   "id": "6d59fc96-63d4-49e7-a41f-1132ae870e51",
   "metadata": {},
   "source": [
    "## Exercise 50: Recursive Countdown"
   ]
  },
  {
   "cell_type": "code",
   "execution_count": 1,
   "id": "05177d36-216b-4586-bea0-5efcffa3f4f1",
   "metadata": {},
   "outputs": [],
   "source": [
    "def countdown(n):\n",
    "    \"\"\"Tnis function counts down from n to 0.\"\"\"\n",
    "    if n == 0:\n",
    "        print('liftoff!')\n",
    "    else:\n",
    "        print(n)\n",
    "        return countdown(n - 1)"
   ]
  },
  {
   "cell_type": "code",
   "execution_count": 2,
   "id": "a5753425-08b3-445a-be91-a4d99d64ab54",
   "metadata": {},
   "outputs": [
    {
     "name": "stdout",
     "output_type": "stream",
     "text": [
      "3\n",
      "2\n",
      "1\n",
      "liftoff!\n"
     ]
    }
   ],
   "source": [
    "# Call the function\n",
    "countdown(3)"
   ]
  },
  {
   "cell_type": "markdown",
   "id": "e4dd6b58-77a8-4bc1-b0b1-5ef495705cb6",
   "metadata": {},
   "source": [
    "## Exercise 51: Factorials with Iteration and Recursion"
   ]
  },
  {
   "cell_type": "code",
   "execution_count": 3,
   "id": "65f34b26-b6a1-4471-a443-fe20c4c05d22",
   "metadata": {},
   "outputs": [],
   "source": [
    "def factorial_iterative(n):\n",
    "    \"\"\"An iterative approach to the factorial problem.\"\"\"\n",
    "    result = 1\n",
    "    for i in range(n):\n",
    "        result *= i + 1\n",
    "    return result"
   ]
  },
  {
   "cell_type": "code",
   "execution_count": 4,
   "id": "0aa857f2-4cec-4f33-924b-a33e3b06825c",
   "metadata": {},
   "outputs": [
    {
     "data": {
      "text/plain": [
       "120"
      ]
     },
     "execution_count": 4,
     "metadata": {},
     "output_type": "execute_result"
    }
   ],
   "source": [
    "# Call the function\n",
    "factorial_iterative(5)"
   ]
  },
  {
   "cell_type": "code",
   "execution_count": 9,
   "id": "5836b34a-bc03-47a1-9acf-68c79b1ee66e",
   "metadata": {},
   "outputs": [],
   "source": [
    "def factorial_recursive(n):\n",
    "    \"\"\"A recursive approach to the factorial problem.\"\"\"\n",
    "    if n == 1:\n",
    "        return 1\n",
    "    else:\n",
    "        return n * factorial_recursive(n - 1)"
   ]
  },
  {
   "cell_type": "code",
   "execution_count": 10,
   "id": "1f2e6c3e-ec04-4e98-ba54-4ed6627e2dab",
   "metadata": {},
   "outputs": [
    {
     "data": {
      "text/plain": [
       "120"
      ]
     },
     "execution_count": 10,
     "metadata": {},
     "output_type": "execute_result"
    }
   ],
   "source": [
    "# Call the function\n",
    "factorial_recursive(5)"
   ]
  },
  {
   "cell_type": "markdown",
   "id": "d753580c-d0bd-42f7-adc6-b6907e337107",
   "metadata": {},
   "source": [
    "## Exercise 52: Summing Integers"
   ]
  },
  {
   "cell_type": "code",
   "execution_count": 3,
   "id": "d44d9a6e-7d21-4f91-9974-db02dee1f3ac",
   "metadata": {},
   "outputs": [],
   "source": [
    "# Initialize an empty dictionary\n",
    "stored_results = {}"
   ]
  },
  {
   "cell_type": "code",
   "execution_count": 4,
   "id": "1ce0f19c-18a8-4502-b4e5-edeff56526aa",
   "metadata": {},
   "outputs": [],
   "source": [
    "# Write a sum_to_n function that starts with result = 0.\n",
    "def sum_to_n(n):\n",
    "    result = 0"
   ]
  },
  {
   "cell_type": "code",
   "execution_count": 5,
   "id": "27b3bd48-2a65-4f8d-9d6e-617fdab7ab9f",
   "metadata": {},
   "outputs": [],
   "source": [
    "# Add in a loop that computes the sum, returns the result, and stores the result in our dictionary.\n",
    "def sum_to_n(n):\n",
    "    result = 0\n",
    "    for i in reversed(range(n)):\n",
    "        result += i + 1\n",
    "        stored_results[n] = result\n",
    "    return result"
   ]
  },
  {
   "cell_type": "code",
   "execution_count": 6,
   "id": "3415e1ee-456c-47ce-a2e7-881b3ad1e116",
   "metadata": {},
   "outputs": [],
   "source": [
    "# Check in each loop whether you already have a result for this number; if so, use the stored result and exit the loop.\n",
    "def sum_to_n(n):\n",
    "    result = 0\n",
    "    for i in reversed(range(n)):\n",
    "        if i + 1 in stored_results:\n",
    "            print('Stopping sum at %s because we have previously computed it' % str(i + 1))\n",
    "            result += stored_results[i + 1]\n",
    "            break\n",
    "        else:\n",
    "            result += i + 1\n",
    "    stored_results[n] = result\n",
    "    return result"
   ]
  },
  {
   "cell_type": "code",
   "execution_count": 7,
   "id": "3ebbb325-949d-40f5-9d75-ed61e761d158",
   "metadata": {},
   "outputs": [
    {
     "data": {
      "text/plain": [
       "15"
      ]
     },
     "execution_count": 7,
     "metadata": {},
     "output_type": "execute_result"
    }
   ],
   "source": [
    "# Test case 1\n",
    "sum_to_n(5)"
   ]
  },
  {
   "cell_type": "code",
   "execution_count": 8,
   "id": "21695f8f-6c75-4b5a-9550-b0777448e346",
   "metadata": {},
   "outputs": [
    {
     "name": "stdout",
     "output_type": "stream",
     "text": [
      "Stopping sum at 5 because we have previously computed it\n"
     ]
    },
    {
     "data": {
      "text/plain": [
       "21"
      ]
     },
     "execution_count": 8,
     "metadata": {},
     "output_type": "execute_result"
    }
   ],
   "source": [
    "# Test case 2\n",
    "sum_to_n(6)"
   ]
  },
  {
   "cell_type": "markdown",
   "id": "aaeeac48-1904-49dd-8fea-099739cbc46a",
   "metadata": {},
   "source": [
    "## Exercise 53: Timing Your Code"
   ]
  },
  {
   "cell_type": "code",
   "execution_count": 11,
   "id": "3101cfd5-d344-4f76-a5ae-ef6a7d54569e",
   "metadata": {},
   "outputs": [],
   "source": [
    "# Import your time module\n",
    "import time"
   ]
  },
  {
   "cell_type": "code",
   "execution_count": null,
   "id": "8d6bfe03-8c87-46c0-b896-6c65dfe16519",
   "metadata": {},
   "outputs": [],
   "source": [
    "stored_results = {}"
   ]
  },
  {
   "cell_type": "code",
   "execution_count": 14,
   "id": "b00f5229-8981-4751-9535-040cae9372b2",
   "metadata": {},
   "outputs": [],
   "source": [
    "def sum_to_n(n):\n",
    "    # Start time\n",
    "    start_time = time.perf_counter()  \n",
    "    \n",
    "    result = 0\n",
    "    for i in reversed(range(n)):\n",
    "        if i + 1 in stored_results:\n",
    "            print('Stopping sum at %s because we have previously computed it' % str(i + 1))\n",
    "            result += stored_results[i + 1]\n",
    "            break\n",
    "        else:\n",
    "            result += i + 1\n",
    "    stored_results[n] = result\n",
    "    \n",
    "    # End time\n",
    "    print(time.perf_counter() - start_time, \"seconds\") "
   ]
  },
  {
   "cell_type": "code",
   "execution_count": 15,
   "id": "0399afce-9f2d-456f-b972-89f712791e25",
   "metadata": {},
   "outputs": [
    {
     "name": "stdout",
     "output_type": "stream",
     "text": [
      "Stopping sum at 6 because we have previously computed it\n",
      "0.17620420000002923 seconds\n"
     ]
    }
   ],
   "source": [
    "sum_to_n(1000000)"
   ]
  },
  {
   "cell_type": "markdown",
   "id": "1aa78161-5b43-4324-95fc-92881841d0ff",
   "metadata": {},
   "source": [
    "## Exercise 54: Helper Currency Conversion"
   ]
  },
  {
   "cell_type": "code",
   "execution_count": 1,
   "id": "bc464d83-b6e4-4fd8-a199-1143bf3b44b0",
   "metadata": {},
   "outputs": [],
   "source": [
    "# Currency converter function\n",
    "def compute_usd_total(amount_in_aud=0, amount_in_gbp=0):\n",
    "    total = 0\n",
    "    total += amount_in_aud * 0.78\n",
    "    total += amount_in_gbp * 1.29\n",
    "    return total"
   ]
  },
  {
   "cell_type": "code",
   "execution_count": 2,
   "id": "aef5b1d3-9f1c-4782-8ce8-611e7b548046",
   "metadata": {},
   "outputs": [
    {
     "data": {
      "text/plain": [
       "12.9"
      ]
     },
     "execution_count": 2,
     "metadata": {},
     "output_type": "execute_result"
    }
   ],
   "source": [
    "# Test case 1\n",
    "compute_usd_total(amount_in_gbp=10)"
   ]
  },
  {
   "cell_type": "code",
   "execution_count": 3,
   "id": "01d620b7-d25c-48d6-a4ec-2c2a80ae3fb5",
   "metadata": {},
   "outputs": [],
   "source": [
    "# Create a currency conversion function with an optional margin:\n",
    "def convert_currency(amount, rate, margin=0):\n",
    "    return amount * rate * (1 + margin)"
   ]
  },
  {
   "cell_type": "code",
   "execution_count": 4,
   "id": "95d8c048-9d29-49b5-b1bb-ed3ac3babb65",
   "metadata": {},
   "outputs": [],
   "source": [
    "# Modify the original function to use the helper function:\n",
    "def compute_usd_total(amount_in_aud=0, amount_in_gbp=0):\n",
    "    total = 0\n",
    "    total += convert_currency(amount_in_aud, 0.78)\n",
    "    total += convert_currency(amount_in_gbp, 1.29)\n",
    "    return total"
   ]
  },
  {
   "cell_type": "code",
   "execution_count": 11,
   "id": "73496867-4725-417f-abd4-bcc6c81b44eb",
   "metadata": {},
   "outputs": [
    {
     "data": {
      "text/plain": [
       "12.9"
      ]
     },
     "execution_count": 11,
     "metadata": {},
     "output_type": "execute_result"
    }
   ],
   "source": [
    "# Test case 2\n",
    "compute_usd_total(amount_in_gbp=10)"
   ]
  },
  {
   "cell_type": "code",
   "execution_count": 13,
   "id": "1e7f83bb-8c00-4383-bf4e-20cb71344283",
   "metadata": {},
   "outputs": [],
   "source": [
    "# This example adds a 1% margin for the conversion of the GBP component\n",
    "def compute_usd_total(amount_in_aud=0, amount_in_gbp=0):\n",
    "    total = 0\n",
    "    total += convert_currency(amount_in_aud, 0.78)\n",
    "    total += convert_currency(amount_in_gbp, 1.29, 0.01)\n",
    "    return total"
   ]
  },
  {
   "cell_type": "code",
   "execution_count": 14,
   "id": "891d70e3-3188-4ff2-87de-45a69b1492d6",
   "metadata": {},
   "outputs": [
    {
     "data": {
      "text/plain": [
       "13.029"
      ]
     },
     "execution_count": 14,
     "metadata": {},
     "output_type": "execute_result"
    }
   ],
   "source": [
    "# Test case 3\n",
    "compute_usd_total(amount_in_gbp=10)"
   ]
  },
  {
   "cell_type": "markdown",
   "id": "cb6a8cb9-b9ef-4de1-9250-69a12bb0aaf1",
   "metadata": {},
   "source": [
    "## Exercise 55: The First Item in a List"
   ]
  },
  {
   "cell_type": "code",
   "execution_count": 4,
   "id": "bc4757f2-c98f-48ee-90af-3a98443ab711",
   "metadata": {},
   "outputs": [],
   "source": [
    "# Store the 0th index in the variable first_item using lambda function syntax\n",
    "first_item = lambda my_list: my_list[0]"
   ]
  },
  {
   "cell_type": "code",
   "execution_count": 6,
   "id": "2b64bbcb-40e9-49e1-ae39-fb4fc0ebb736",
   "metadata": {},
   "outputs": [
    {
     "data": {
      "text/plain": [
       "'cat'"
      ]
     },
     "execution_count": 6,
     "metadata": {},
     "output_type": "execute_result"
    }
   ],
   "source": [
    "# Test the function\n",
    "first_item(['cat', 'dog', 'mouse'])"
   ]
  },
  {
   "cell_type": "markdown",
   "id": "b17e255b-c8c1-4702-8ffb-1c9b61508165",
   "metadata": {},
   "source": [
    "## Exercise 56: Mapping with a Logistic Transform"
   ]
  },
  {
   "cell_type": "code",
   "execution_count": 1,
   "id": "a0a3fcc6-88a4-4037-aad7-831b757f4be5",
   "metadata": {},
   "outputs": [],
   "source": [
    "import math"
   ]
  },
  {
   "cell_type": "code",
   "execution_count": 3,
   "id": "4e3cda07-771f-44ca-bbde-d7ea55c006b6",
   "metadata": {},
   "outputs": [],
   "source": [
    "# Initialize a list \n",
    "nums = [-3, -5, 1, 4] "
   ]
  },
  {
   "cell_type": "code",
   "execution_count": 5,
   "id": "efe65be8-5052-4cc3-be14-228221794550",
   "metadata": {},
   "outputs": [
    {
     "data": {
      "text/plain": [
       "[0.04742587317756678,\n",
       " 0.0066928509242848554,\n",
       " 0.7310585786300049,\n",
       " 0.9820137900379085]"
      ]
     },
     "execution_count": 5,
     "metadata": {},
     "output_type": "execute_result"
    }
   ],
   "source": [
    "# Use a lambda function to map the list of values using a logistic transform\n",
    "list(map(lambda x: 1 / (1 + math.exp(-x)), nums))"
   ]
  },
  {
   "cell_type": "markdown",
   "id": "605fdd79-c452-4268-8b95-b497721171e5",
   "metadata": {},
   "source": [
    "## Exercise 57: Using the Filter Lambda"
   ]
  },
  {
   "cell_type": "code",
   "execution_count": 1,
   "id": "0231fafe-2b79-4954-a7b3-47e2800e31f8",
   "metadata": {},
   "outputs": [],
   "source": [
    "# Initialize a list of numbers from 0 to 999\n",
    "nums = list(range(1000))"
   ]
  },
  {
   "cell_type": "code",
   "execution_count": 2,
   "id": "e9ca5d4c-45f3-4017-bf96-50f68cf30e66",
   "metadata": {},
   "outputs": [],
   "source": [
    "# Filter out the values that are divisible by 3 or 7\n",
    "filtered = filter(lambda x: x % 3 == 0 or x % 7 == 0, nums)"
   ]
  },
  {
   "cell_type": "code",
   "execution_count": 3,
   "id": "a35c289b-4d32-4f14-93e8-b517bfa18e57",
   "metadata": {},
   "outputs": [
    {
     "data": {
      "text/plain": [
       "214216"
      ]
     },
     "execution_count": 3,
     "metadata": {},
     "output_type": "execute_result"
    }
   ],
   "source": [
    "# Add up the list\n",
    "sum(filtered)"
   ]
  },
  {
   "cell_type": "code",
   "execution_count": null,
   "id": "8efd3615-5f60-4d9c-9024-786bccad078e",
   "metadata": {},
   "outputs": [],
   "source": []
  }
 ],
 "metadata": {
  "kernelspec": {
   "display_name": "Python 3",
   "language": "python",
   "name": "python3"
  },
  "language_info": {
   "codemirror_mode": {
    "name": "ipython",
    "version": 3
   },
   "file_extension": ".py",
   "mimetype": "text/x-python",
   "name": "python",
   "nbconvert_exporter": "python",
   "pygments_lexer": "ipython3",
   "version": "3.8.8"
  }
 },
 "nbformat": 4,
 "nbformat_minor": 5
}
