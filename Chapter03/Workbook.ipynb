{
 "cells": [
  {
   "cell_type": "markdown",
   "id": "7879b546-c202-43c4-abd5-99b11dfc1d62",
   "metadata": {},
   "source": [
    "# Python Functions\n",
    "\n",
    "By the end of this chapter, you will be able to write and execute Python scripts from the command line; write and import Python modules; document your code with docstrings; implement basic algorithms in Python, including bubble sort and binary search; write functions utilizing iterative, recursive, and dynamic programming algorithms; modularize code to make it structured and readable and use helper functions and lambda functions.  \n",
    "\n",
    "This chapter will leave you empowered to write more powerful and concise code through an increased appreciation of well-written algorithms and an understanding of functions."
   ]
  },
  {
   "cell_type": "markdown",
   "id": "580878d8-cbb6-462e-9c17-820e74f5c4a7",
   "metadata": {},
   "source": [
    "## Imports"
   ]
  },
  {
   "cell_type": "code",
   "execution_count": 24,
   "id": "b29a2251-0f48-4978-b33b-1e80a6ffba60",
   "metadata": {},
   "outputs": [],
   "source": [
    "import math"
   ]
  },
  {
   "cell_type": "code",
   "execution_count": 25,
   "id": "506c3a3e-ceb4-43c2-ab94-d8fb145c82cf",
   "metadata": {},
   "outputs": [
    {
     "data": {
      "text/plain": [
       "7.38905609893065"
      ]
     },
     "execution_count": 25,
     "metadata": {},
     "output_type": "execute_result"
    }
   ],
   "source": [
    "# A example of importing a function from the math library\n",
    "math.exp(2)"
   ]
  },
  {
   "cell_type": "code",
   "execution_count": 26,
   "id": "3d85abca-ec43-4949-a587-e8dc57501667",
   "metadata": {},
   "outputs": [],
   "source": [
    "# Alternatively\n",
    "from math import exp"
   ]
  },
  {
   "cell_type": "code",
   "execution_count": 27,
   "id": "2a41abe7-4eb0-4810-8043-25daa1506c21",
   "metadata": {},
   "outputs": [
    {
     "data": {
      "text/plain": [
       "7.38905609893065"
      ]
     },
     "execution_count": 27,
     "metadata": {},
     "output_type": "execute_result"
    }
   ],
   "source": [
    "exp(2)"
   ]
  },
  {
   "cell_type": "code",
   "execution_count": 28,
   "id": "e0685106-37a6-4242-931f-83be1d5f6156",
   "metadata": {},
   "outputs": [],
   "source": [
    "# An example of how to alias a function in your import statement.\n",
    "from math import exp as exponential"
   ]
  },
  {
   "cell_type": "code",
   "execution_count": 29,
   "id": "227c465f-7b15-4944-b15f-2aa49518f5cc",
   "metadata": {},
   "outputs": [
    {
     "data": {
      "text/plain": [
       "7.38905609893065"
      ]
     },
     "execution_count": 29,
     "metadata": {},
     "output_type": "execute_result"
    }
   ],
   "source": [
    "exponential(2)"
   ]
  },
  {
   "cell_type": "markdown",
   "id": "f20f9e13-2ebe-4390-9b52-f23dd35512a0",
   "metadata": {},
   "source": [
    "## Basic Functions"
   ]
  },
  {
   "cell_type": "code",
   "execution_count": 30,
   "id": "76492fc3-160c-4bc4-a8da-749ca8f9fd5f",
   "metadata": {},
   "outputs": [],
   "source": [
    "# An example of how a function is coded.\n",
    "def add_up(x, y):\n",
    "    return x + y"
   ]
  },
  {
   "cell_type": "code",
   "execution_count": 31,
   "id": "d7505df7-1fa4-4361-bf93-feff94559937",
   "metadata": {},
   "outputs": [
    {
     "data": {
      "text/plain": [
       "4"
      ]
     },
     "execution_count": 31,
     "metadata": {},
     "output_type": "execute_result"
    }
   ],
   "source": [
    "# Call the function.\n",
    "add_up(1, 3)"
   ]
  },
  {
   "cell_type": "markdown",
   "id": "3c62b057-97f0-4eb0-ab64-e8df494759ef",
   "metadata": {},
   "source": [
    "## Positional Arguments"
   ]
  },
  {
   "cell_type": "code",
   "execution_count": 32,
   "id": "10f41142-be27-4cc1-884b-798a771dbf7d",
   "metadata": {},
   "outputs": [],
   "source": [
    "# This example also has two positional arguments namely x and y\n",
    "def add_up(x, y):\n",
    "    return x + y"
   ]
  },
  {
   "cell_type": "code",
   "execution_count": 33,
   "id": "117bc72d-8701-4b5b-acd7-bdeef4485738",
   "metadata": {},
   "outputs": [],
   "source": [
    "from datetime import datetime"
   ]
  },
  {
   "cell_type": "code",
   "execution_count": 34,
   "id": "acfe3c7e-873b-4610-b12d-194364204f75",
   "metadata": {},
   "outputs": [],
   "source": [
    "# An example of a function without any arguments\n",
    "def get_the_time():\n",
    "    return datetime.now()"
   ]
  },
  {
   "cell_type": "code",
   "execution_count": 35,
   "id": "d353a7a3-ab06-4992-b47e-410d84437996",
   "metadata": {},
   "outputs": [
    {
     "name": "stdout",
     "output_type": "stream",
     "text": [
      "2021-06-19 14:32:13.320461\n"
     ]
    }
   ],
   "source": [
    "# Some output\n",
    "print(get_the_time())"
   ]
  },
  {
   "cell_type": "markdown",
   "id": "eb0d27ca-ec5f-47a1-82c2-e32b7addd2ef",
   "metadata": {},
   "source": [
    "## Recursive Functions"
   ]
  },
  {
   "cell_type": "code",
   "execution_count": 36,
   "id": "14ba154f-e810-4b01-b83c-3226bffc08db",
   "metadata": {},
   "outputs": [],
   "source": [
    "# This is an example of an infinite recursive function\n",
    "def print_the_next_number(start):\n",
    "    print(start + 1)\n",
    "    return print_the_next_number(start + 1)"
   ]
  },
  {
   "cell_type": "code",
   "execution_count": 37,
   "id": "a66c58c6-c5d7-4177-b581-19d31b1eb55b",
   "metadata": {},
   "outputs": [],
   "source": [
    "# print_the_next_number(5)"
   ]
  },
  {
   "cell_type": "markdown",
   "id": "635590f7-7d14-42ba-8dc7-0b1b240cbf01",
   "metadata": {},
   "source": [
    "### A Terminating Case"
   ]
  },
  {
   "cell_type": "code",
   "execution_count": 38,
   "id": "5f8eb8d4-4205-4c9d-83b4-a70e31ba6b3e",
   "metadata": {},
   "outputs": [],
   "source": [
    "# This is an example of a terminating recursive function\n",
    "def print_the_next_number(start):\n",
    "    print(start + 1)\n",
    "    if start >= 7:\n",
    "        return \"I'm bored\"\n",
    "    return print_the_next_number(start + 1)"
   ]
  },
  {
   "cell_type": "code",
   "execution_count": 39,
   "id": "c1f60678-53c8-48ef-b627-10085f12b8d7",
   "metadata": {},
   "outputs": [
    {
     "name": "stdout",
     "output_type": "stream",
     "text": [
      "6\n",
      "7\n",
      "8\n"
     ]
    },
    {
     "data": {
      "text/plain": [
       "\"I'm bored\""
      ]
     },
     "execution_count": 39,
     "metadata": {},
     "output_type": "execute_result"
    }
   ],
   "source": [
    "print_the_next_number(5)"
   ]
  },
  {
   "cell_type": "markdown",
   "id": "f24209eb-c31f-4ed8-950b-952ddc9205fb",
   "metadata": {},
   "source": [
    "## Helper Functions"
   ]
  },
  {
   "cell_type": "code",
   "execution_count": 40,
   "id": "459551f7-99bf-4671-83b7-6656ae1c79cf",
   "metadata": {},
   "outputs": [],
   "source": [
    "import time"
   ]
  },
  {
   "cell_type": "code",
   "execution_count": 41,
   "id": "2e74d1ae-b3ab-4c20-a7b4-42037290385d",
   "metadata": {},
   "outputs": [],
   "source": [
    "# A helper function performs part of the computation of another function.\n",
    "def do_things():\n",
    "    start_time = time.perf_counter()\n",
    "    for i in range(10):\n",
    "        y = i ** 100\n",
    "        print(time.perf_counter() - start_time, \"seconds elapsed\")\n",
    "        x = 10**2\n",
    "        print(time.perf_counter() - start_time, \"seconds elapsed\")\n",
    "    return x"
   ]
  },
  {
   "cell_type": "code",
   "execution_count": 42,
   "id": "64c3ff1e-42d3-4104-b425-3f80bfc65556",
   "metadata": {},
   "outputs": [
    {
     "name": "stdout",
     "output_type": "stream",
     "text": [
      "2.7999999474559445e-06 seconds elapsed\n",
      "8.800000000519503e-05 seconds elapsed\n",
      "0.00011719999997694686 seconds elapsed\n",
      "0.00035619999994196405 seconds elapsed\n",
      "0.0003913000000466127 seconds elapsed\n",
      "0.00041759999999158026 seconds elapsed\n",
      "0.0004432999999153253 seconds elapsed\n",
      "0.00046629999997094274 seconds elapsed\n",
      "0.0004894999999578431 seconds elapsed\n",
      "0.0005125000000134605 seconds elapsed\n",
      "0.0005355000000690779 seconds elapsed\n",
      "0.0005582000001140841 seconds elapsed\n",
      "0.0005814999999529391 seconds elapsed\n",
      "0.0006032000001141569 seconds elapsed\n",
      "0.0006272000000535627 seconds elapsed\n",
      "0.0006499999999505235 seconds elapsed\n",
      "0.0006737000001066917 seconds elapsed\n",
      "0.000698499999998603 seconds elapsed\n",
      "0.000891500000079759 seconds elapsed\n",
      "0.0009322000000793196 seconds elapsed\n"
     ]
    },
    {
     "data": {
      "text/plain": [
       "100"
      ]
     },
     "execution_count": 42,
     "metadata": {},
     "output_type": "execute_result"
    }
   ],
   "source": [
    "do_things()"
   ]
  },
  {
   "cell_type": "code",
   "execution_count": 43,
   "id": "d7a6a729-54bb-4160-8676-7358d5b445cd",
   "metadata": {},
   "outputs": [],
   "source": [
    "# The print statement is repeated twice in the preceding code, and will be better expressed as a helper function.\n",
    "import time"
   ]
  },
  {
   "cell_type": "code",
   "execution_count": 44,
   "id": "c45f33c8-e0ea-48cc-a88a-1089e3a162ae",
   "metadata": {},
   "outputs": [],
   "source": [
    "# Helper function\n",
    "def print_time_elapsed(start_time):\n",
    "    print(time.perf_counter() - start_time, \"seconds elapsed\")"
   ]
  },
  {
   "cell_type": "code",
   "execution_count": 45,
   "id": "30a34911-24fa-452d-8db9-05728e80cb49",
   "metadata": {},
   "outputs": [],
   "source": [
    "# The helper function is being reused in the following function.\n",
    "def do_things():\n",
    "    start_time = time.perf_counter()\n",
    "    for i in range(10):\n",
    "        y = i ** 100\n",
    "        print_time_elapsed(start_time)\n",
    "    x = 10**2\n",
    "    print_time_elapsed(start_time)\n",
    "    return x"
   ]
  },
  {
   "cell_type": "markdown",
   "id": "d6c6ed33-8b55-4f86-b04d-21fb2903d19a",
   "metadata": {},
   "source": [
    "## Variables"
   ]
  },
  {
   "cell_type": "code",
   "execution_count": 46,
   "id": "9976df98-a9c9-4da8-b44e-471afd365841",
   "metadata": {},
   "outputs": [],
   "source": [
    "# Declaring three varibles where the value of y points to the same location in memory as x.\n",
    "x = 2\n",
    "y = x\n",
    "x = 4"
   ]
  },
  {
   "cell_type": "code",
   "execution_count": 47,
   "id": "a60c9309-27cd-409d-aefb-3a63fa647ecc",
   "metadata": {},
   "outputs": [
    {
     "name": "stdout",
     "output_type": "stream",
     "text": [
      "x = 4\n"
     ]
    }
   ],
   "source": [
    "print(\"x = \" + str(x))"
   ]
  },
  {
   "cell_type": "code",
   "execution_count": 48,
   "id": "6dd51d70-82b3-4887-96ba-c9c69133c683",
   "metadata": {},
   "outputs": [],
   "source": [
    "x = 4"
   ]
  },
  {
   "cell_type": "code",
   "execution_count": 49,
   "id": "935e8cda-b5ba-42e0-a479-d29cff755567",
   "metadata": {},
   "outputs": [
    {
     "name": "stdout",
     "output_type": "stream",
     "text": [
      "y = 2\n"
     ]
    }
   ],
   "source": [
    "# The y variable still points to the location x = 2 and is unchanged.\n",
    "print(\"y = \" + str(y))"
   ]
  },
  {
   "cell_type": "markdown",
   "id": "5a344547-c1ba-496d-94e8-bc6b894bc743",
   "metadata": {},
   "source": [
    "### Defining inside versus outside a Function"
   ]
  },
  {
   "cell_type": "code",
   "execution_count": 50,
   "id": "458c4144-c09c-4cbb-b3d0-01bb5a53649d",
   "metadata": {},
   "outputs": [],
   "source": [
    "# x = 5 is in the global scope and can be accessed from inside the function do_things.\n",
    "x = 5\n",
    "\n",
    "def do_things():\n",
    "    print(x)"
   ]
  },
  {
   "cell_type": "code",
   "execution_count": 51,
   "id": "74b87e99-4355-4d7b-8736-d6e37631e041",
   "metadata": {},
   "outputs": [
    {
     "name": "stdout",
     "output_type": "stream",
     "text": [
      "5\n"
     ]
    }
   ],
   "source": [
    "do_things()"
   ]
  },
  {
   "cell_type": "code",
   "execution_count": 52,
   "id": "a4b57c37-3962-460d-9e2a-713d367067f5",
   "metadata": {},
   "outputs": [],
   "source": [
    "# y = 5 is in the local scope and can only be accessed from within the function.\n",
    "def my_func():\n",
    "    y = 5\n",
    "    return 2"
   ]
  },
  {
   "cell_type": "code",
   "execution_count": 53,
   "id": "8cd9a5eb-6fa5-48a0-89be-77a2aa7f6d07",
   "metadata": {},
   "outputs": [
    {
     "data": {
      "text/plain": [
       "2"
      ]
     },
     "execution_count": 53,
     "metadata": {},
     "output_type": "execute_result"
    }
   ],
   "source": [
    "my_func()"
   ]
  },
  {
   "cell_type": "code",
   "execution_count": 54,
   "id": "5ee19ee8-4d66-4db6-bf96-8b38b491a949",
   "metadata": {},
   "outputs": [],
   "source": [
    "# Even though x = 5 is declared in the function it will not change the value globally.\n",
    "x = 3\n",
    "def my_func():\n",
    "    x = 5\n",
    "    print(x)"
   ]
  },
  {
   "cell_type": "code",
   "execution_count": 55,
   "id": "f9131050-7959-4088-b93e-2b5938bfd677",
   "metadata": {},
   "outputs": [
    {
     "name": "stdout",
     "output_type": "stream",
     "text": [
      "5\n"
     ]
    }
   ],
   "source": [
    "my_func()"
   ]
  },
  {
   "cell_type": "markdown",
   "id": "12488341-8f4f-4051-a3ca-a209e2aa3788",
   "metadata": {},
   "source": [
    "### The `global` Keyword"
   ]
  },
  {
   "cell_type": "code",
   "execution_count": 56,
   "id": "a199cea2-6a1b-49e7-b418-a647c620b155",
   "metadata": {},
   "outputs": [],
   "source": [
    "# The global keyword will print out the value of score in the global scope \n",
    "score = 0\n",
    "def update_score(new_score):\n",
    "    global score\n",
    "    score = new_score"
   ]
  },
  {
   "cell_type": "code",
   "execution_count": 57,
   "id": "b6dd8d83-3521-42fe-a12e-1d246850b667",
   "metadata": {},
   "outputs": [
    {
     "name": "stdout",
     "output_type": "stream",
     "text": [
      "0\n"
     ]
    }
   ],
   "source": [
    "print(score)"
   ]
  },
  {
   "cell_type": "code",
   "execution_count": 58,
   "id": "13847c98-5791-4010-b6e2-59aea6a67453",
   "metadata": {},
   "outputs": [],
   "source": [
    "# When the function is called with a new argument this will then update the global variable score outside the function.\n",
    "update_score(100)"
   ]
  },
  {
   "cell_type": "code",
   "execution_count": 59,
   "id": "66d86d2b-b5e0-40d1-884f-b7effc8b605a",
   "metadata": {},
   "outputs": [
    {
     "name": "stdout",
     "output_type": "stream",
     "text": [
      "100\n"
     ]
    }
   ],
   "source": [
    "print(score)"
   ]
  },
  {
   "cell_type": "markdown",
   "id": "3dfa27df-0911-4c0a-893e-5b7b37d22382",
   "metadata": {},
   "source": [
    "### The `nonlocal` Keyword"
   ]
  },
  {
   "cell_type": "code",
   "execution_count": 65,
   "id": "7ba0d03b-1a55-4210-be3d-766bddf0961a",
   "metadata": {},
   "outputs": [
    {
     "name": "stdout",
     "output_type": "stream",
     "text": [
      "3\n"
     ]
    }
   ],
   "source": [
    "# The nonlocal keyword within a function will move to the next enclosing scope if there is nothing in the enclosing scope.\n",
    "x = 4\n",
    "def myFunc():\n",
    "    x = 3\n",
    "    def inner():\n",
    "        nonlocal x\n",
    "        print(x)\n",
    "    inner()\n",
    "myFunc()"
   ]
  },
  {
   "cell_type": "markdown",
   "id": "0ac5ebc5-1eab-435f-a31f-56c130f5f7b7",
   "metadata": {},
   "source": [
    "## Lambda Functions"
   ]
  },
  {
   "cell_type": "code",
   "execution_count": 1,
   "id": "b02fd6d4-7619-4713-962c-c32835a8989e",
   "metadata": {},
   "outputs": [],
   "source": [
    "# Lambda functions can be expressed as follows `lambda arguments : expression`.  Here is an example:"
   ]
  },
  {
   "cell_type": "code",
   "execution_count": 2,
   "id": "a397a3f2-a4bd-4a8a-a70b-ee069112bd3e",
   "metadata": {},
   "outputs": [],
   "source": [
    "# This adds the value of x to y.\n",
    "def add_up(x, y):\n",
    "    return x + y"
   ]
  },
  {
   "cell_type": "code",
   "execution_count": 3,
   "id": "a740cf13-e70c-467b-9c66-4251fe80ad85",
   "metadata": {},
   "outputs": [
    {
     "name": "stdout",
     "output_type": "stream",
     "text": [
      "7\n"
     ]
    }
   ],
   "source": [
    "print(add_up(2, 5))"
   ]
  },
  {
   "cell_type": "code",
   "execution_count": 4,
   "id": "0b563251-4965-45c3-8779-cc793e74e562",
   "metadata": {},
   "outputs": [],
   "source": [
    "# In lambda function syntax this can be expressed as follows:\n",
    "add_up = lambda x, y: x + y"
   ]
  },
  {
   "cell_type": "code",
   "execution_count": 5,
   "id": "1ef3cba4-cdd1-47ae-99da-0f3c8f217372",
   "metadata": {},
   "outputs": [
    {
     "name": "stdout",
     "output_type": "stream",
     "text": [
      "7\n"
     ]
    }
   ],
   "source": [
    "print(add_up(2, 5)) "
   ]
  },
  {
   "cell_type": "markdown",
   "id": "2143f09a-89e1-4489-8bc5-789f8b5b7f2f",
   "metadata": {},
   "source": [
    "### Mapping with Lambda Functions"
   ]
  },
  {
   "cell_type": "code",
   "execution_count": 7,
   "id": "6a63e18a-236f-4666-9f2b-3da974189126",
   "metadata": {},
   "outputs": [],
   "source": [
    "# Create a list object called names\n",
    "names = ['Magda', 'Jose', 'Anne']"
   ]
  },
  {
   "cell_type": "code",
   "execution_count": 8,
   "id": "4980ad63-bfae-46bf-8907-fa7c5b198ced",
   "metadata": {},
   "outputs": [],
   "source": [
    "# Count the lengths of the strings in the names list iteratively\n",
    "lengths = []\n",
    "for name in names:\n",
    "    lengths.append(len(name))"
   ]
  },
  {
   "cell_type": "code",
   "execution_count": 9,
   "id": "2eba304e-b2d8-4520-9a8f-ce986737fd8b",
   "metadata": {},
   "outputs": [],
   "source": [
    "# The syntax for coding the `map` function to return the same result.\n",
    "lengths = list(map(len, names))"
   ]
  },
  {
   "cell_type": "code",
   "execution_count": 10,
   "id": "42aad1ac-7aac-4398-9b1f-24374295683a",
   "metadata": {},
   "outputs": [
    {
     "data": {
      "text/plain": [
       "4.333333333333333"
      ]
     },
     "execution_count": 10,
     "metadata": {},
     "output_type": "execute_result"
    }
   ],
   "source": [
    "# Take the average length of the list\n",
    "sum(lengths) / len(lengths)"
   ]
  },
  {
   "cell_type": "markdown",
   "id": "49299dcc-c119-43c4-ac67-6fdb72ed771e",
   "metadata": {},
   "source": [
    "### Filtering with Lambda Functions"
   ]
  },
  {
   "cell_type": "code",
   "execution_count": 1,
   "id": "58eb8023-a5c2-416a-93c7-54a97386c14d",
   "metadata": {},
   "outputs": [],
   "source": [
    "# Initilaize a list\n",
    "names = ['Karen', 'Jim', 'Kim']"
   ]
  },
  {
   "cell_type": "code",
   "execution_count": 2,
   "id": "4989c9be-1a66-4201-ad29-6e7d215516cf",
   "metadata": {},
   "outputs": [
    {
     "data": {
      "text/plain": [
       "['Jim', 'Kim']"
      ]
     },
     "execution_count": 2,
     "metadata": {},
     "output_type": "execute_result"
    }
   ],
   "source": [
    "# This returns an element from the list that only has 3 characters in it.\n",
    "list(filter(lambda name: len(name) == 3, names))"
   ]
  },
  {
   "cell_type": "markdown",
   "id": "a52ac3ea-209d-4181-8f81-a34ceb65c65f",
   "metadata": {},
   "source": [
    "### Sorting with Lambda Functions"
   ]
  },
  {
   "cell_type": "code",
   "execution_count": 2,
   "id": "1f3ed891-5f25-489d-af5a-c70160fc56c4",
   "metadata": {},
   "outputs": [],
   "source": [
    "# Initilize a list of strings\n",
    "names = ['Ming', 'Jennifer', 'Andrew', 'Boris']"
   ]
  },
  {
   "cell_type": "code",
   "execution_count": 3,
   "id": "7383bdd5-f0e7-4609-8a33-db6d258252eb",
   "metadata": {},
   "outputs": [
    {
     "data": {
      "text/plain": [
       "['Ming', 'Boris', 'Andrew', 'Jennifer']"
      ]
     },
     "execution_count": 3,
     "metadata": {},
     "output_type": "execute_result"
    }
   ],
   "source": [
    "# Sorting a list by the length of its elements from lowest to highest.\n",
    "sorted(names, key=lambda x : len(x))"
   ]
  },
  {
   "cell_type": "code",
   "execution_count": null,
   "id": "1555654d-be07-4b46-af39-efd05354a242",
   "metadata": {},
   "outputs": [],
   "source": []
  }
 ],
 "metadata": {
  "kernelspec": {
   "display_name": "Python 3",
   "language": "python",
   "name": "python3"
  },
  "language_info": {
   "codemirror_mode": {
    "name": "ipython",
    "version": 3
   },
   "file_extension": ".py",
   "mimetype": "text/x-python",
   "name": "python",
   "nbconvert_exporter": "python",
   "pygments_lexer": "ipython3",
   "version": "3.8.8"
  }
 },
 "nbformat": 4,
 "nbformat_minor": 5
}
