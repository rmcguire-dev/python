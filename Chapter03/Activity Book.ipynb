{
 "cells": [
  {
   "cell_type": "markdown",
   "id": "773d3e73-06ca-4ba5-bd40-c76f6a407893",
   "metadata": {},
   "source": [
    "## Activity 8: What's the Time?"
   ]
  },
  {
   "cell_type": "code",
   "execution_count": 9,
   "id": "3513d0f9-8805-4c06-a0a9-682240d6d63c",
   "metadata": {},
   "outputs": [
    {
     "data": {
      "text/plain": [
       "' This script prints the current system time.'"
      ]
     },
     "execution_count": 9,
     "metadata": {},
     "output_type": "execute_result"
    }
   ],
   "source": [
    "# Create a docstring\n",
    "\"\"\" This script prints the current system time.\"\"\""
   ]
  },
  {
   "cell_type": "code",
   "execution_count": 10,
   "id": "fdc37030-76d1-4346-a4d8-4f2355e0b7cb",
   "metadata": {},
   "outputs": [],
   "source": [
    "import datetime"
   ]
  },
  {
   "cell_type": "code",
   "execution_count": 11,
   "id": "93913d1c-fb14-4843-8a7b-f30aa97f3bfa",
   "metadata": {},
   "outputs": [
    {
     "name": "stdout",
     "output_type": "stream",
     "text": [
      "2021-06-19 08:49:31.052407\n"
     ]
    }
   ],
   "source": [
    "# Print out the current system time\n",
    "print(datetime.datetime.now())"
   ]
  },
  {
   "cell_type": "markdown",
   "id": "10d98dca-5827-4aae-ba2b-c7b6b4e0f9c4",
   "metadata": {},
   "source": [
    "## Activity 9: Formatting Customer Names"
   ]
  },
  {
   "cell_type": "code",
   "execution_count": 12,
   "id": "228c6ddc-c615-4385-90ad-9596be00687e",
   "metadata": {},
   "outputs": [],
   "source": [
    "def format_customer(first_name, last_name, location=\"\"):\n",
    "    \"\"\"Prints out the first_name, last_name and location of a customer otherwise the first_name and second_name only\"\"\"\n",
    "    if location:\n",
    "        return \"{} {} ({})\".format(first_name, last_name, location)\n",
    "    else:\n",
    "        return \"{} {}\".format(first_name, last_name)"
   ]
  },
  {
   "cell_type": "code",
   "execution_count": 13,
   "id": "54a5165a-5d6c-4624-9cd9-87a5216c1398",
   "metadata": {},
   "outputs": [
    {
     "data": {
      "text/plain": [
       "'Robert McGuire (Madrid)'"
      ]
     },
     "execution_count": 13,
     "metadata": {},
     "output_type": "execute_result"
    }
   ],
   "source": [
    "# Test case 1\n",
    "format_customer(\"Robert\", \"McGuire\", \"Madrid\")"
   ]
  },
  {
   "cell_type": "code",
   "execution_count": 14,
   "id": "fa0d32fd-f6e3-4965-9ce6-2dd61f1e7758",
   "metadata": {},
   "outputs": [
    {
     "data": {
      "text/plain": [
       "'Robert McGuire'"
      ]
     },
     "execution_count": 14,
     "metadata": {},
     "output_type": "execute_result"
    }
   ],
   "source": [
    "# Test case 2\n",
    "format_customer(\"Robert\", \"McGuire\")"
   ]
  },
  {
   "cell_type": "markdown",
   "id": "9f33304c-6de4-492c-948f-f5756cd230d1",
   "metadata": {},
   "source": [
    "## Activity 10: The Fibonacci Function with an Iteration"
   ]
  },
  {
   "cell_type": "code",
   "execution_count": 15,
   "id": "c908ee43-3ff0-45cb-8d88-4ca6c2827d4a",
   "metadata": {},
   "outputs": [],
   "source": [
    "def fibonacci_iterative(n):\n",
    "    \"\"\"An iterative approach to finding the nth fibonacci number\"\"\"\n",
    "    previous = 0\n",
    "    current = 1\n",
    "    for i in range(n - 1):\n",
    "        current_old = current\n",
    "        current = previous + current\n",
    "        previous = current_old\n",
    "    return current"
   ]
  },
  {
   "cell_type": "code",
   "execution_count": 16,
   "id": "a6ef5d99-c38b-419a-aa10-6341ef527c85",
   "metadata": {},
   "outputs": [
    {
     "data": {
      "text/plain": [
       "2"
      ]
     },
     "execution_count": 16,
     "metadata": {},
     "output_type": "execute_result"
    }
   ],
   "source": [
    "# Test case 1\n",
    "fibonacci_iterative(3)"
   ]
  },
  {
   "cell_type": "code",
   "execution_count": 17,
   "id": "b5fa2da1-46f6-4dda-8cd1-b95907f498b1",
   "metadata": {},
   "outputs": [
    {
     "data": {
      "text/plain": [
       "55"
      ]
     },
     "execution_count": 17,
     "metadata": {},
     "output_type": "execute_result"
    }
   ],
   "source": [
    "# Test case 2\n",
    "fibonacci_iterative(10)"
   ]
  },
  {
   "cell_type": "markdown",
   "id": "542097d1-2213-445a-8776-7b119bf56040",
   "metadata": {},
   "source": [
    "## Activity 11: The Fibonacci Function with Recursion"
   ]
  },
  {
   "cell_type": "code",
   "execution_count": 18,
   "id": "9e6c3e35-dfc0-4007-9cf8-ca2ab359397f",
   "metadata": {},
   "outputs": [],
   "source": [
    "def fibonacci_recursive(n):\n",
    "    \"\"\"A recursive approach to finding the nth fibonacci number.\"\"\"\n",
    "    if n <= 1 :\n",
    "        return n\n",
    "    return fibonacci_recursive(n - 1) + fibonacci_recursive(n - 2)"
   ]
  },
  {
   "cell_type": "code",
   "execution_count": 19,
   "id": "dd78e9dc-c58b-4c1f-a800-21e856b0c48b",
   "metadata": {},
   "outputs": [
    {
     "data": {
      "text/plain": [
       "2"
      ]
     },
     "execution_count": 19,
     "metadata": {},
     "output_type": "execute_result"
    }
   ],
   "source": [
    "# Test case 1\n",
    "fibonacci_recursive(3)"
   ]
  },
  {
   "cell_type": "code",
   "execution_count": 20,
   "id": "e634f83d-ee68-4c1d-9c40-3e7abdf27c39",
   "metadata": {},
   "outputs": [
    {
     "data": {
      "text/plain": [
       "55"
      ]
     },
     "execution_count": 20,
     "metadata": {},
     "output_type": "execute_result"
    }
   ],
   "source": [
    "# Test case 2\n",
    "fibonacci_recursive(10)"
   ]
  },
  {
   "cell_type": "markdown",
   "id": "1663adee-381d-4172-9cce-f679f0cf403d",
   "metadata": {},
   "source": [
    "## Activity 12: The Fibonacci Function with Dynamic Programming"
   ]
  },
  {
   "cell_type": "code",
   "execution_count": 40,
   "id": "96a79c33-f5ec-496a-ba11-bb404d77cb05",
   "metadata": {},
   "outputs": [],
   "source": [
    "stored_results = {}"
   ]
  },
  {
   "cell_type": "code",
   "execution_count": 45,
   "id": "1f896c50-7410-4868-ac6c-4adc5e6e6801",
   "metadata": {},
   "outputs": [],
   "source": [
    "def fibonacci_dynamic(n):  \n",
    "    if n in stored_results:\n",
    "        print(\"Already in dictionary.\")\n",
    "        return stored_results[n]\n",
    "    else:\n",
    "        for i in range(n - 1):\n",
    "            result = fibonacci_recursive(n)\n",
    "            stored_results[n] = result\n",
    "        return result"
   ]
  },
  {
   "cell_type": "code",
   "execution_count": 54,
   "id": "49d9015c-6b0e-4bea-8f94-a07da554e916",
   "metadata": {},
   "outputs": [
    {
     "name": "stdout",
     "output_type": "stream",
     "text": [
      "Already in dictionary.\n"
     ]
    },
    {
     "data": {
      "text/plain": [
       "2"
      ]
     },
     "execution_count": 54,
     "metadata": {},
     "output_type": "execute_result"
    }
   ],
   "source": [
    "fibonacci_dynamic(3)"
   ]
  },
  {
   "cell_type": "code",
   "execution_count": null,
   "id": "a70241f6-46d6-4332-9843-8e72d3d4f58e",
   "metadata": {},
   "outputs": [],
   "source": []
  }
 ],
 "metadata": {
  "kernelspec": {
   "display_name": "Python 3",
   "language": "python",
   "name": "python3"
  },
  "language_info": {
   "codemirror_mode": {
    "name": "ipython",
    "version": 3
   },
   "file_extension": ".py",
   "mimetype": "text/x-python",
   "name": "python",
   "nbconvert_exporter": "python",
   "pygments_lexer": "ipython3",
   "version": "3.8.8"
  }
 },
 "nbformat": 4,
 "nbformat_minor": 5
}
