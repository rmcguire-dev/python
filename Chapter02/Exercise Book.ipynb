{
 "cells": [
  {
   "cell_type": "markdown",
   "id": "ee9822ad-e4af-4cde-8638-e9cdb400131b",
   "metadata": {},
   "source": [
    "## Exercise 21: Working with Python Lists"
   ]
  },
  {
   "cell_type": "code",
   "execution_count": 1,
   "id": "fa97ec50-6a27-4b7e-aa85-3ac09ade7152",
   "metadata": {},
   "outputs": [],
   "source": [
    "shopping = [\"bread\",\"milk\", \"eggs\"]"
   ]
  },
  {
   "cell_type": "code",
   "execution_count": 2,
   "id": "68ded719-4d75-4129-b359-83567ec7b7b2",
   "metadata": {},
   "outputs": [
    {
     "name": "stdout",
     "output_type": "stream",
     "text": [
      "['bread', 'milk', 'eggs']\n"
     ]
    }
   ],
   "source": [
    "print(shopping)"
   ]
  },
  {
   "cell_type": "code",
   "execution_count": 3,
   "id": "797bd1f9-20a1-43df-9f5a-6e5e9a868a55",
   "metadata": {},
   "outputs": [
    {
     "name": "stdout",
     "output_type": "stream",
     "text": [
      "bread\n",
      "milk\n",
      "eggs\n"
     ]
    }
   ],
   "source": [
    "# An example of how to iterate over a list\n",
    "for item in shopping:\n",
    "    print(item)"
   ]
  },
  {
   "cell_type": "code",
   "execution_count": 4,
   "id": "a0762504-becb-476b-9050-48cebafb0adc",
   "metadata": {},
   "outputs": [],
   "source": [
    "# An exampple of mixed data types within a list\n",
    "mixed = [365, \"days\", True]"
   ]
  },
  {
   "cell_type": "code",
   "execution_count": 5,
   "id": "c2daf76d-a683-4020-929c-1feb69f3e0bb",
   "metadata": {},
   "outputs": [
    {
     "name": "stdout",
     "output_type": "stream",
     "text": [
      "[365, 'days', True]\n"
     ]
    }
   ],
   "source": [
    "print(mixed)"
   ]
  },
  {
   "cell_type": "markdown",
   "id": "9bd5348f-5e1a-449c-bd86-aef1545f1636",
   "metadata": {},
   "source": [
    "## Exercise 22: Using a Nested List to Store Data from a Matrix"
   ]
  },
  {
   "cell_type": "code",
   "execution_count": 10,
   "id": "438acb85-b773-45e3-9727-e7cfc369266e",
   "metadata": {},
   "outputs": [],
   "source": [
    "# An example of how a  nested list of lists is coded\n",
    "matrix = [[1, 2, 3], [4, 5, 6]]"
   ]
  },
  {
   "cell_type": "code",
   "execution_count": 11,
   "id": "ae4d2f99-be3b-4d35-8ba4-6ccf88b1b41e",
   "metadata": {},
   "outputs": [
    {
     "name": "stdout",
     "output_type": "stream",
     "text": [
      "5\n"
     ]
    }
   ],
   "source": [
    "# This example will output the element 5 in the list at index position 1\n",
    "print(matrix[1][1])"
   ]
  },
  {
   "cell_type": "code",
   "execution_count": 13,
   "id": "5c8e4ea4-4e4e-4357-a6d9-a4f68c611349",
   "metadata": {},
   "outputs": [
    {
     "name": "stdout",
     "output_type": "stream",
     "text": [
      "1\n",
      "2\n",
      "3\n",
      "4\n",
      "5\n",
      "6\n"
     ]
    }
   ],
   "source": [
    "# An example of how to iterate over a nested list\n",
    "for i in range(len(matrix)):\n",
    "    for j in range(len(matrix[i])):\n",
    "        print(matrix[i][j])"
   ]
  },
  {
   "cell_type": "code",
   "execution_count": 14,
   "id": "5e804543-25b3-48be-b91f-c782b128b98a",
   "metadata": {},
   "outputs": [
    {
     "name": "stdout",
     "output_type": "stream",
     "text": [
      "1\n",
      "2\n",
      "3\n",
      "4\n",
      "5\n",
      "6\n"
     ]
    }
   ],
   "source": [
    "# A more pythonic way to iterate over a list of lists\n",
    "for row in matrix:\n",
    "    for col in row:\n",
    "        print(col)"
   ]
  },
  {
   "cell_type": "markdown",
   "id": "bfab5806-3789-45a3-b098-86c1c174f5d9",
   "metadata": {},
   "source": [
    "## Exerecise 23: Implementing Matrix Operations (Addition and Subtraction)"
   ]
  },
  {
   "cell_type": "code",
   "execution_count": 20,
   "id": "fb0e1c08-fefe-4dfb-b3ba-f4ac9c467fab",
   "metadata": {},
   "outputs": [],
   "source": [
    "X = [[1,2,3],\n",
    "     [4,5,6],\n",
    "     [7,8,9]]\n",
    "\n",
    "Y = [[10,11,12],\n",
    "     [13,14,15],\n",
    "     [16,17,18]]"
   ]
  },
  {
   "cell_type": "code",
   "execution_count": 21,
   "id": "f430492a-7449-43f1-b38f-43f368b546ee",
   "metadata": {},
   "outputs": [],
   "source": [
    "# Initialize a result placeholder\n",
    "result = [[0,0,0], \n",
    "          [0,0,0], \n",
    "          [0,0,0]] "
   ]
  },
  {
   "cell_type": "code",
   "execution_count": 22,
   "id": "c26ab5b9-1503-44ca-a484-ca978403231f",
   "metadata": {},
   "outputs": [
    {
     "name": "stdout",
     "output_type": "stream",
     "text": [
      "[[11, 13, 15], [17, 19, 21], [23, 25, 27]]\n"
     ]
    }
   ],
   "source": [
    "# Iterate through rows\n",
    "for i in range(len(X)):\n",
    "    # Iterate through columns\n",
    "    for j in range(len(Y)):\n",
    "        result[i][j] = X[i][j] + Y[i][j]\n",
    "\n",
    "print(result)"
   ]
  },
  {
   "cell_type": "code",
   "execution_count": 28,
   "id": "f7f4e5c1-b86e-4b5f-8e40-15734e75ea14",
   "metadata": {},
   "outputs": [],
   "source": [
    "X = [[10,11,12],\n",
    "     [13,14,15],\n",
    "     [16,17,18]]\n",
    "\n",
    "Y = [[1,2,3],\n",
    "     [4,5,6],\n",
    "     [7,8,9]]"
   ]
  },
  {
   "cell_type": "code",
   "execution_count": 29,
   "id": "a54ba534-734b-4d1f-ae34-6c82dd806c61",
   "metadata": {},
   "outputs": [],
   "source": [
    "# Initialize a result placeholder\n",
    "result = [[0,0,0], \n",
    "          [0,0,0], \n",
    "          [0,0,0]] "
   ]
  },
  {
   "cell_type": "code",
   "execution_count": 30,
   "id": "db12bb0f-cd51-4391-8b17-a4d8cdffdb20",
   "metadata": {},
   "outputs": [
    {
     "name": "stdout",
     "output_type": "stream",
     "text": [
      "[[9, 9, 9], [9, 9, 9], [9, 9, 9]]\n"
     ]
    }
   ],
   "source": [
    "# Subtraction uses the same algorithm but with the subtraction operator\n",
    "for i in range(len(X)):\n",
    "    for j in range(len(Y)):\n",
    "        result[i][j] = X[i][j] - Y[i][j]\n",
    "\n",
    "print(result)"
   ]
  },
  {
   "cell_type": "markdown",
   "id": "5cd458ff-b448-4d34-a134-8c454fa8ca7e",
   "metadata": {},
   "source": [
    "## Exercise 24: Implementing Matrix Operations (Multiplication)"
   ]
  },
  {
   "cell_type": "code",
   "execution_count": 2,
   "id": "083e0a6b-2b8f-4c68-af3c-aa5a2ca3cc6f",
   "metadata": {},
   "outputs": [],
   "source": [
    "X = [[1, 2], \n",
    "     [4, 5], \n",
    "     [3, 6]]\n",
    "\n",
    "Y = [[1,2,3,4],\n",
    "     [5,6,7,8]]"
   ]
  },
  {
   "cell_type": "code",
   "execution_count": 4,
   "id": "763d5be1-4f9d-4bac-bf60-89fec2fe51ca",
   "metadata": {},
   "outputs": [],
   "source": [
    "result = [[0, 0, 0, 0], \n",
    "          [0, 0, 0, 0], \n",
    "          [0, 0, 0, 0]] "
   ]
  },
  {
   "cell_type": "code",
   "execution_count": 5,
   "id": "88427415-201d-4b2d-9207-1626be348441",
   "metadata": {},
   "outputs": [],
   "source": [
    "# Iterating by row of X\n",
    "for i in range(len(X)):\n",
    "    \n",
    "    # Iterating by columns of Y\n",
    "    for j in range(len(Y[0])):\n",
    "        \n",
    "        # Iterating by rows of Y\n",
    "        for k in range(len(Y)):\n",
    "            result[i][j] += X[i][k] * Y[k][j]"
   ]
  },
  {
   "cell_type": "code",
   "execution_count": 6,
   "id": "158bf7b6-ac65-49fe-a735-9e8ce36a47b9",
   "metadata": {},
   "outputs": [
    {
     "name": "stdout",
     "output_type": "stream",
     "text": [
      "[11, 14, 17, 20]\n",
      "[29, 38, 47, 56]\n",
      "[33, 42, 51, 60]\n"
     ]
    }
   ],
   "source": [
    "for r in result: \n",
    "    print(r)"
   ]
  },
  {
   "cell_type": "markdown",
   "id": "c6581f0c-102f-44a9-8e80-4cd31cb14588",
   "metadata": {},
   "source": [
    "## Exercise 25: Basic List Operations"
   ]
  },
  {
   "cell_type": "code",
   "execution_count": 7,
   "id": "4caba9ea-e916-4163-9c80-708c0dd92ff4",
   "metadata": {},
   "outputs": [],
   "source": [
    "shopping = [\"bread\",\"milk\", \"eggs\"]"
   ]
  },
  {
   "cell_type": "code",
   "execution_count": 8,
   "id": "0b710bfd-4020-4bc6-b544-a9a0571455f2",
   "metadata": {},
   "outputs": [
    {
     "name": "stdout",
     "output_type": "stream",
     "text": [
      "3\n"
     ]
    }
   ],
   "source": [
    "# Outputs the length of the shopping list\n",
    "print(len(shopping))"
   ]
  },
  {
   "cell_type": "code",
   "execution_count": 9,
   "id": "149c25bb-5dc6-497c-840a-0b8ba7d1d433",
   "metadata": {},
   "outputs": [],
   "source": [
    "list1 = [1, 2, 3]\n",
    "list2 = [4, 5, 6]"
   ]
  },
  {
   "cell_type": "code",
   "execution_count": 10,
   "id": "a5068b5d-74fd-4163-b720-84b815a38fff",
   "metadata": {},
   "outputs": [],
   "source": [
    "# Concatenate list1 and list2\n",
    "final_list = list1 + list2"
   ]
  },
  {
   "cell_type": "code",
   "execution_count": 11,
   "id": "8d27419a-5cf9-49a3-bc3b-6895f13fd9a5",
   "metadata": {},
   "outputs": [
    {
     "name": "stdout",
     "output_type": "stream",
     "text": [
      "[1, 2, 3, 4, 5, 6]\n"
     ]
    }
   ],
   "source": [
    "# Output the result\n",
    "print(final_list)"
   ]
  },
  {
   "cell_type": "code",
   "execution_count": 12,
   "id": "322bfc5e-693b-4080-9baa-545ed916e869",
   "metadata": {},
   "outputs": [],
   "source": [
    "list3 = ['oi']"
   ]
  },
  {
   "cell_type": "code",
   "execution_count": 13,
   "id": "1ca2519d-0b56-48eb-b2bf-f3b10f489aff",
   "metadata": {},
   "outputs": [
    {
     "name": "stdout",
     "output_type": "stream",
     "text": [
      "['oi', 'oi', 'oi']\n"
     ]
    }
   ],
   "source": [
    "# Repeat the element in list3 a number of times and output the result\n",
    "print(list3 * 3)"
   ]
  },
  {
   "cell_type": "markdown",
   "id": "548ea3b0-9ecd-42be-ae62-f6c99a347160",
   "metadata": {},
   "source": [
    "## Exercise 26: Acessing an Item from Shopping List Data"
   ]
  },
  {
   "cell_type": "code",
   "execution_count": 14,
   "id": "464c2f30-2231-443d-9295-ab3b36f0dda4",
   "metadata": {},
   "outputs": [],
   "source": [
    "shopping = [\"bread\",\"milk\", \"eggs\"]"
   ]
  },
  {
   "cell_type": "code",
   "execution_count": 16,
   "id": "3993ca3b-fe66-4c8d-bb23-8aca5258f0a9",
   "metadata": {},
   "outputs": [
    {
     "name": "stdout",
     "output_type": "stream",
     "text": [
      "milk\n"
     ]
    }
   ],
   "source": [
    "# Output the second element of the shopping list\n",
    "print(shopping[1])"
   ]
  },
  {
   "cell_type": "code",
   "execution_count": 17,
   "id": "0015edd0-a543-4481-a365-b158d1a03eb4",
   "metadata": {},
   "outputs": [],
   "source": [
    "# Replace the second element in the shopping list with \"banana\"\n",
    "shopping[1] = \"banana\""
   ]
  },
  {
   "cell_type": "code",
   "execution_count": 19,
   "id": "8bf8ce0f-f74c-4410-af97-c3fa38a95256",
   "metadata": {},
   "outputs": [
    {
     "name": "stdout",
     "output_type": "stream",
     "text": [
      "['bread', 'banana', 'eggs']\n"
     ]
    }
   ],
   "source": [
    "# Print out the shopping list\n",
    "print(shopping)"
   ]
  },
  {
   "cell_type": "code",
   "execution_count": 20,
   "id": "e997bd67-7de9-44a9-8074-30725867b049",
   "metadata": {},
   "outputs": [
    {
     "name": "stdout",
     "output_type": "stream",
     "text": [
      "eggs\n"
     ]
    }
   ],
   "source": [
    "# Prints out the last element of the shopping list\n",
    "print(shopping[-1])"
   ]
  },
  {
   "cell_type": "code",
   "execution_count": 21,
   "id": "023c3abf-d1c0-4da4-b6e0-de4adf153c26",
   "metadata": {},
   "outputs": [
    {
     "name": "stdout",
     "output_type": "stream",
     "text": [
      "['bread', 'banana']\n"
     ]
    }
   ],
   "source": [
    "# Prints out the first 2 elements of the shopping list\n",
    "print(shopping[0:2]) "
   ]
  },
  {
   "cell_type": "code",
   "execution_count": 22,
   "id": "97c8dfdc-f1b7-41d7-9e9c-b2a81e3ef9f5",
   "metadata": {},
   "outputs": [
    {
     "name": "stdout",
     "output_type": "stream",
     "text": [
      "['bread', 'banana', 'eggs']\n"
     ]
    }
   ],
   "source": [
    "# Prints out the first 3 elements of the shopping list\n",
    "print(shopping[:3])"
   ]
  },
  {
   "cell_type": "code",
   "execution_count": 23,
   "id": "3e021c00-908f-49f4-bf49-367344d25696",
   "metadata": {},
   "outputs": [
    {
     "name": "stdout",
     "output_type": "stream",
     "text": [
      "['banana', 'eggs']\n"
     ]
    }
   ],
   "source": [
    "# Prints out the last 2 elements of the shopping list\n",
    "print(shopping[1:])"
   ]
  },
  {
   "cell_type": "markdown",
   "id": "e2a7c994-0225-49d0-b950-7e098d3df6dd",
   "metadata": {},
   "source": [
    "## Exercise 27: Adding Items to Our Shopping List"
   ]
  },
  {
   "cell_type": "code",
   "execution_count": 1,
   "id": "48906ff0-1326-4ccf-908a-5959958a4873",
   "metadata": {},
   "outputs": [],
   "source": [
    "shopping = [\"bread\", \"milk\", \"eggs\"]"
   ]
  },
  {
   "cell_type": "code",
   "execution_count": 2,
   "id": "ca8b9fd7-07b6-4e04-a01b-8ea1745892c2",
   "metadata": {},
   "outputs": [],
   "source": [
    "# Adds the string \"apple\" to end of our shopping list\n",
    "shopping.append(\"apple\")"
   ]
  },
  {
   "cell_type": "code",
   "execution_count": 3,
   "id": "07e5e7b4-7f78-48ed-9092-2c7bdc775843",
   "metadata": {},
   "outputs": [
    {
     "name": "stdout",
     "output_type": "stream",
     "text": [
      "['bread', 'milk', 'eggs', 'apple']\n"
     ]
    }
   ],
   "source": [
    "print(shopping)"
   ]
  },
  {
   "cell_type": "code",
   "execution_count": 4,
   "id": "13c6e6be-191b-40c8-ac46-d54a61cfcf36",
   "metadata": {},
   "outputs": [],
   "source": [
    "# Initialize an empty shopping list\n",
    "shopping = []"
   ]
  },
  {
   "cell_type": "code",
   "execution_count": 5,
   "id": "f592bddd-6ab0-44fd-b515-c3264f227929",
   "metadata": {},
   "outputs": [],
   "source": [
    "# Add items to the shopping list\n",
    "shopping.append('bread')\n",
    "shopping.append('milk')\n",
    "shopping.append('eggs')\n",
    "shopping.append('apple')"
   ]
  },
  {
   "cell_type": "code",
   "execution_count": 6,
   "id": "99f2a0d0-479a-40fc-8b05-cc0d7699e6a6",
   "metadata": {},
   "outputs": [
    {
     "name": "stdout",
     "output_type": "stream",
     "text": [
      "['bread', 'milk', 'eggs', 'apple']\n"
     ]
    }
   ],
   "source": [
    "print(shopping)"
   ]
  },
  {
   "cell_type": "code",
   "execution_count": 7,
   "id": "903dc3fe-0425-444d-8dde-12e75c7c678e",
   "metadata": {},
   "outputs": [],
   "source": [
    "# Add a shopping item to the shopping list at the desired position\n",
    "shopping.insert(2, 'ham') "
   ]
  },
  {
   "cell_type": "code",
   "execution_count": 8,
   "id": "00433f34-f572-4ee0-85da-34cf4234da8e",
   "metadata": {},
   "outputs": [
    {
     "name": "stdout",
     "output_type": "stream",
     "text": [
      "['bread', 'milk', 'ham', 'eggs', 'apple']\n"
     ]
    }
   ],
   "source": [
    "print(shopping)"
   ]
  },
  {
   "cell_type": "markdown",
   "id": "9c52bc74-4358-409a-b795-4ab867293b9d",
   "metadata": {},
   "source": [
    "## Exercise 28: Using a Dictionary to Store a Movie Record"
   ]
  },
  {
   "cell_type": "code",
   "execution_count": 10,
   "id": "fa3ad7f9-2f6a-469c-920d-bff8e8d8edbc",
   "metadata": {},
   "outputs": [],
   "source": [
    "movie = {\n",
    "    \"title\": \"The Godfather\",\n",
    "    \"director\": \"Francis Ford Coppola\",\n",
    "    \"year\": 1972,\n",
    "    \"rating\": 9.2\n",
    "}"
   ]
  },
  {
   "cell_type": "code",
   "execution_count": 11,
   "id": "f20db949-62d7-47e3-9ea9-b7cd4c6e8528",
   "metadata": {},
   "outputs": [
    {
     "name": "stdout",
     "output_type": "stream",
     "text": [
      "1972\n"
     ]
    }
   ],
   "source": [
    "# Outputs the value 1972\n",
    "print(movie[\"year\"])"
   ]
  },
  {
   "cell_type": "code",
   "execution_count": 12,
   "id": "c29fdf25-a6e1-40fc-9ace-187db79bdfc4",
   "metadata": {},
   "outputs": [],
   "source": [
    "# Updates the value 9.2 by adding 9.3 to it and dividing by 2\n",
    "movie[\"rating\"] = (movie[\"rating\"] + 9.3) / 2"
   ]
  },
  {
   "cell_type": "code",
   "execution_count": 13,
   "id": "3c0e5be2-9245-4c07-9a3d-73cc7948139b",
   "metadata": {},
   "outputs": [
    {
     "name": "stdout",
     "output_type": "stream",
     "text": [
      "9.25\n"
     ]
    }
   ],
   "source": [
    "print(movie[\"rating\"])"
   ]
  },
  {
   "cell_type": "code",
   "execution_count": 15,
   "id": "f5d1b670-f15e-4b7e-958f-d2ee0a973e50",
   "metadata": {},
   "outputs": [],
   "source": [
    "# Initialize an empty dictionary\n",
    "movie = {}"
   ]
  },
  {
   "cell_type": "code",
   "execution_count": 18,
   "id": "c6e0e1ac-f1eb-415f-b601-baa6c29d9a47",
   "metadata": {},
   "outputs": [],
   "source": [
    "# Add key-value pairs to the dictionary\n",
    "movie[\"title\"] = \"The Godfather\"\n",
    "movie[\"director\"] = \"Francis Ford Coppola\"\n",
    "movie[\"year\"] = 1972\n",
    "movie[\"rating\"] = 9.2"
   ]
  },
  {
   "cell_type": "code",
   "execution_count": 19,
   "id": "65377080-ec1c-4a34-ba30-7738dea8699f",
   "metadata": {},
   "outputs": [],
   "source": [
    "# Adds a key-value pair where the value is a list\n",
    "movie[\"actors\"] = [\"Marlon Brando\", \"Al Pacino\", \"James Caan\"]"
   ]
  },
  {
   "cell_type": "code",
   "execution_count": 20,
   "id": "9639634b-abad-404a-a86e-d35a535662aa",
   "metadata": {},
   "outputs": [],
   "source": [
    "# Adds a key-value pair where the value is also a dictionary\n",
    "movie[\"other details\"] = {\n",
    "    \"runtime\": 175,\n",
    "    \"language\": \"English\"\n",
    "}"
   ]
  },
  {
   "cell_type": "code",
   "execution_count": 21,
   "id": "4a059dba-5bd9-47c0-b91a-4fae6b3fa3a3",
   "metadata": {},
   "outputs": [
    {
     "name": "stdout",
     "output_type": "stream",
     "text": [
      "{'title': 'The Godfather', 'director': 'Francis Ford Coppola', 'year': 1972, 'rating': 9.2, 'actors': ['Marlon Brando', 'Al Pacino', 'James Caan'], 'other details': {'runtime': 175, 'language': 'English'}}\n"
     ]
    }
   ],
   "source": [
    "print(movie)"
   ]
  },
  {
   "cell_type": "markdown",
   "id": "73b3b8f7-414b-411f-a87a-f267cc16ca4b",
   "metadata": {},
   "source": [
    "## Exercise 29: Using the `zip()` Method to Manipulate Dictionaries"
   ]
  },
  {
   "cell_type": "code",
   "execution_count": 1,
   "id": "d138fe38-ceec-4abf-913f-4207e5f5090e",
   "metadata": {},
   "outputs": [],
   "source": [
    "items = ['apple', 'orange', 'banana']\n",
    "quantity = [5,3,2]"
   ]
  },
  {
   "cell_type": "code",
   "execution_count": 2,
   "id": "527e8eaa-2855-4e33-a3ce-565a63f8df45",
   "metadata": {},
   "outputs": [],
   "source": [
    "# Combine both the items list and the quantity list using zip()\n",
    "orders = zip(items, quantity)"
   ]
  },
  {
   "cell_type": "code",
   "execution_count": 3,
   "id": "56bf843f-8449-43e1-aede-5d999425932a",
   "metadata": {},
   "outputs": [
    {
     "name": "stdout",
     "output_type": "stream",
     "text": [
      "<zip object at 0x000001B150D55D00>\n"
     ]
    }
   ],
   "source": [
    "# This will output a zip object\n",
    "print(orders)"
   ]
  },
  {
   "cell_type": "code",
   "execution_count": 4,
   "id": "ef2d1f3c-de90-47cf-8f77-2052e3ade8b2",
   "metadata": {},
   "outputs": [
    {
     "name": "stdout",
     "output_type": "stream",
     "text": [
      "[('apple', 5), ('orange', 3), ('banana', 2)]\n"
     ]
    }
   ],
   "source": [
    "# This will output an orders list \n",
    "print(list(orders))"
   ]
  },
  {
   "cell_type": "code",
   "execution_count": 5,
   "id": "73f0adb9-3609-4b10-bb55-c5dfded03118",
   "metadata": {},
   "outputs": [],
   "source": [
    "# This will turn a zip object into a tuple\n",
    "orders = zip(items,quantity)"
   ]
  },
  {
   "cell_type": "code",
   "execution_count": 6,
   "id": "356fcc34-4527-4715-b41d-b6ba76322019",
   "metadata": {},
   "outputs": [
    {
     "name": "stdout",
     "output_type": "stream",
     "text": [
      "<zip object at 0x000001B150C53C80>\n"
     ]
    }
   ],
   "source": [
    "print(orders)"
   ]
  },
  {
   "cell_type": "code",
   "execution_count": 7,
   "id": "15673d11-3666-4d28-915b-e1c54b467ad8",
   "metadata": {},
   "outputs": [
    {
     "name": "stdout",
     "output_type": "stream",
     "text": [
      "(('apple', 5), ('orange', 3), ('banana', 2))\n"
     ]
    }
   ],
   "source": [
    "# This will output an orders tuple\n",
    "print(tuple(orders))"
   ]
  },
  {
   "cell_type": "code",
   "execution_count": 8,
   "id": "d10e3116-29de-4a2e-888d-c177a1419d57",
   "metadata": {},
   "outputs": [],
   "source": [
    "# This will turn a zip object into a dictionary\n",
    "orders = zip(items, quantity)"
   ]
  },
  {
   "cell_type": "code",
   "execution_count": 9,
   "id": "1ad6f724-be9d-48c6-bef8-096e6518a400",
   "metadata": {},
   "outputs": [
    {
     "name": "stdout",
     "output_type": "stream",
     "text": [
      "<zip object at 0x000001B150D4F600>\n"
     ]
    }
   ],
   "source": [
    "print(orders)"
   ]
  },
  {
   "cell_type": "code",
   "execution_count": 10,
   "id": "41c5fbfe-84d7-4f81-92d5-b3df00e08feb",
   "metadata": {},
   "outputs": [
    {
     "name": "stdout",
     "output_type": "stream",
     "text": [
      "{'apple': 5, 'orange': 3, 'banana': 2}\n"
     ]
    }
   ],
   "source": [
    "# This will output an orders dictionary\n",
    "print(dict(orders))"
   ]
  },
  {
   "cell_type": "markdown",
   "id": "e3c17d85-0ea9-45f4-8f81-b4e807fffefb",
   "metadata": {},
   "source": [
    "## Exercise 30: Accessing a Dictionary Using Dictionary Methods"
   ]
  },
  {
   "cell_type": "code",
   "execution_count": 11,
   "id": "87d15454-d245-46ac-afae-f2e547c842b3",
   "metadata": {},
   "outputs": [],
   "source": [
    "orders = {'apple':5, 'orange':3, 'banana':2}"
   ]
  },
  {
   "cell_type": "code",
   "execution_count": 12,
   "id": "1603c7c2-7895-4003-8955-f842feec4c8b",
   "metadata": {},
   "outputs": [
    {
     "name": "stdout",
     "output_type": "stream",
     "text": [
      "dict_values([5, 3, 2])\n"
     ]
    }
   ],
   "source": [
    "# This prints out the values as a dictionry object\n",
    "print(orders.values())"
   ]
  },
  {
   "cell_type": "code",
   "execution_count": 14,
   "id": "5487f2e2-368d-40cb-b5bb-c1ea3d695efb",
   "metadata": {},
   "outputs": [
    {
     "name": "stdout",
     "output_type": "stream",
     "text": [
      "[5, 3, 2]\n"
     ]
    }
   ],
   "source": [
    "# This prints out the values of the dictionary as a list\n",
    "print(list(orders.values()))"
   ]
  },
  {
   "cell_type": "code",
   "execution_count": 15,
   "id": "c958afcf-1735-4a84-a4c6-8363c94a10aa",
   "metadata": {},
   "outputs": [
    {
     "name": "stdout",
     "output_type": "stream",
     "text": [
      "['apple', 'orange', 'banana']\n"
     ]
    }
   ],
   "source": [
    "# This prints out the keys of the dictionary as a list\n",
    "print(list(orders.keys()))"
   ]
  },
  {
   "cell_type": "code",
   "execution_count": 17,
   "id": "b90ef5cb-88a4-477e-adfc-09b8791ff46c",
   "metadata": {},
   "outputs": [
    {
     "name": "stdout",
     "output_type": "stream",
     "text": [
      "('apple', 5)\n",
      "('orange', 3)\n",
      "('banana', 2)\n"
     ]
    }
   ],
   "source": [
    "# This prints out the keys and values of the dictionary as a tuple\n",
    "for tuple in list(orders.items()):\n",
    "    print(tuple)"
   ]
  },
  {
   "cell_type": "markdown",
   "id": "c48811c3-a871-40ec-ba90-3cbffd75d854",
   "metadata": {},
   "source": [
    "## Exercise 31: Exploring Tuple Properties in Our Shopping List"
   ]
  },
  {
   "cell_type": "code",
   "execution_count": 1,
   "id": "07d25453-9b81-4e7c-8087-dc18062fd5d4",
   "metadata": {},
   "outputs": [],
   "source": [
    "# Initialize a tuple shopping list\n",
    "t = (\"bread\", \"milk\", \"eggs\")"
   ]
  },
  {
   "cell_type": "code",
   "execution_count": 2,
   "id": "a52e8805-48ba-46e1-8e86-1d748a637be7",
   "metadata": {},
   "outputs": [
    {
     "name": "stdout",
     "output_type": "stream",
     "text": [
      "3\n"
     ]
    }
   ],
   "source": [
    "# Print out the length of the shopping list\n",
    "print(len(t))"
   ]
  },
  {
   "cell_type": "code",
   "execution_count": 5,
   "id": "20107513-fb45-4710-a0c2-fd7d3c906029",
   "metadata": {},
   "outputs": [
    {
     "name": "stdout",
     "output_type": "stream",
     "text": [
      "('bread', 'milk', 'eggs', 'apple', 'orange')\n"
     ]
    }
   ],
   "source": [
    "# This creates a new tuple with the concatenated values.\n",
    "print(t + ('apple', 'orange'))"
   ]
  },
  {
   "cell_type": "code",
   "execution_count": 6,
   "id": "b6542aec-0def-4362-ba7f-69143a568d50",
   "metadata": {},
   "outputs": [
    {
     "name": "stdout",
     "output_type": "stream",
     "text": [
      "('bread', 'milk', 'eggs')\n"
     ]
    }
   ],
   "source": [
    "# Look t has not been changed!\n",
    "print(t)"
   ]
  },
  {
   "cell_type": "code",
   "execution_count": 8,
   "id": "be2d3ef4-d0b5-4268-a013-f8dc413c7de6",
   "metadata": {},
   "outputs": [],
   "source": [
    "# This creates a tuple with mixed data types\n",
    "t_mixed = \"apple\", True, 3"
   ]
  },
  {
   "cell_type": "code",
   "execution_count": 9,
   "id": "0db0dcbe-0935-4fca-a657-9fe2c18a1911",
   "metadata": {},
   "outputs": [
    {
     "name": "stdout",
     "output_type": "stream",
     "text": [
      "('apple', True, 3)\n"
     ]
    }
   ],
   "source": [
    "# Print out t_mixed\n",
    "print(t_mixed)"
   ]
  },
  {
   "cell_type": "code",
   "execution_count": 12,
   "id": "e655d406-5331-46d5-8acc-f1bfb2866f42",
   "metadata": {},
   "outputs": [],
   "source": [
    "# This creates a nested tuple with mixed data types\n",
    "t_shopping = ('apple',3), ('orange',2), ('banana',5)"
   ]
  },
  {
   "cell_type": "code",
   "execution_count": 13,
   "id": "abc9c75d-d1c2-4989-bd22-b9b79cfadf7e",
   "metadata": {},
   "outputs": [
    {
     "name": "stdout",
     "output_type": "stream",
     "text": [
      "(('apple', 3), ('orange', 2), ('banana', 5))\n"
     ]
    }
   ],
   "source": [
    "# Print out t_shopping\n",
    "print(t_shopping)"
   ]
  },
  {
   "cell_type": "markdown",
   "id": "ea6b0984-990d-4283-b08e-bc3e38503b37",
   "metadata": {},
   "source": [
    "## Exercise 32: Using Sets in Python"
   ]
  },
  {
   "cell_type": "code",
   "execution_count": 23,
   "id": "cd8c3d42-617c-4158-af81-ab8415db8239",
   "metadata": {},
   "outputs": [],
   "source": [
    "# Initialize a group of sets.\n",
    "s1 = set([1, 2, 3, 4, 5, 6])\n",
    "s2 = set([1,2,2,3,4,4,5,6,6])\n",
    "s3 = set([3,4,5,6,6,6,1,1,2])"
   ]
  },
  {
   "cell_type": "code",
   "execution_count": 24,
   "id": "d44a3810-a64c-463a-af50-6926cd8d59f8",
   "metadata": {},
   "outputs": [
    {
     "name": "stdout",
     "output_type": "stream",
     "text": [
      "{1, 2, 3, 4, 5, 6}\n",
      "{1, 2, 3, 4, 5, 6}\n",
      "{1, 2, 3, 4, 5, 6}\n"
     ]
    }
   ],
   "source": [
    "# Print out the group.\n",
    "print(s1)\n",
    "print(s2)\n",
    "print(s3)"
   ]
  },
  {
   "cell_type": "code",
   "execution_count": 26,
   "id": "6dcd1b99-38d0-48a0-960d-5adabe73577f",
   "metadata": {},
   "outputs": [],
   "source": [
    "# Initilize a set of strings.\n",
    "s4 = {\"apple\", \"orange\", \"banana\"}"
   ]
  },
  {
   "cell_type": "code",
   "execution_count": 27,
   "id": "1e1ca5de-9f56-48d8-bb77-c56c9e85d049",
   "metadata": {},
   "outputs": [
    {
     "name": "stdout",
     "output_type": "stream",
     "text": [
      "{'apple', 'banana', 'orange'}\n"
     ]
    }
   ],
   "source": [
    "# Print out the set.\n",
    "print(s4)"
   ]
  },
  {
   "cell_type": "code",
   "execution_count": 28,
   "id": "4ab7d620-a4fe-4683-a451-c032e2fc54c1",
   "metadata": {},
   "outputs": [],
   "source": [
    "# Add the string \"pineapple\" to the set s4.\n",
    "s4.add('pineapple')"
   ]
  },
  {
   "cell_type": "code",
   "execution_count": 29,
   "id": "d1b573e9-60a0-41a0-afdf-4330754238c1",
   "metadata": {},
   "outputs": [
    {
     "name": "stdout",
     "output_type": "stream",
     "text": [
      "{'apple', 'banana', 'orange', 'pineapple'}\n"
     ]
    }
   ],
   "source": [
    "# Print out the set\n",
    "print(s4)"
   ]
  },
  {
   "cell_type": "markdown",
   "id": "b40050b9-b133-4cfb-9002-bb33524d68b6",
   "metadata": {},
   "source": [
    "## Exercise 33: Implementing Set Operations"
   ]
  },
  {
   "cell_type": "code",
   "execution_count": 1,
   "id": "8956e83e-1903-424a-b64c-05f2553d5c39",
   "metadata": {},
   "outputs": [],
   "source": [
    "s5 = {1,2,3,4}\n",
    "s6 = {3,4,5,6}"
   ]
  },
  {
   "cell_type": "code",
   "execution_count": 3,
   "id": "b894ae6d-6096-4e45-8518-5db2081d48fb",
   "metadata": {},
   "outputs": [
    {
     "name": "stdout",
     "output_type": "stream",
     "text": [
      "{1, 2, 3, 4, 5, 6}\n"
     ]
    }
   ],
   "source": [
    "# Prints out the Union of s5 and s6\n",
    "print(s5|s6)"
   ]
  },
  {
   "cell_type": "code",
   "execution_count": 7,
   "id": "dff0c436-76f7-4084-b6b5-c6665c90222a",
   "metadata": {},
   "outputs": [
    {
     "name": "stdout",
     "output_type": "stream",
     "text": [
      "{1, 2, 3, 4, 5, 6}\n"
     ]
    }
   ],
   "source": [
    "# Alternative\n",
    "print(s5.union(s6))"
   ]
  },
  {
   "cell_type": "code",
   "execution_count": 5,
   "id": "b15a1bc7-4568-43fc-b68b-c2967001a1cf",
   "metadata": {},
   "outputs": [
    {
     "name": "stdout",
     "output_type": "stream",
     "text": [
      "{3, 4}\n"
     ]
    }
   ],
   "source": [
    "# Prints out the Intersecton of s5 and s6\n",
    "print(s5 & s6)"
   ]
  },
  {
   "cell_type": "code",
   "execution_count": 6,
   "id": "e06d7cb0-97e6-4383-86bf-3b7226051e8b",
   "metadata": {},
   "outputs": [
    {
     "name": "stdout",
     "output_type": "stream",
     "text": [
      "{3, 4}\n"
     ]
    }
   ],
   "source": [
    "# Alternatively\n",
    "print(s5.intersection(s6))"
   ]
  },
  {
   "cell_type": "code",
   "execution_count": 8,
   "id": "53704639-d682-4667-a17c-e0c70f5c7558",
   "metadata": {},
   "outputs": [
    {
     "name": "stdout",
     "output_type": "stream",
     "text": [
      "{1, 2}\n"
     ]
    }
   ],
   "source": [
    "# Prints out the Differnce of s5 and s6\n",
    "print(s5 - s6)"
   ]
  },
  {
   "cell_type": "code",
   "execution_count": 9,
   "id": "7a48051e-04cd-4dcc-b71b-30e9086cb77d",
   "metadata": {},
   "outputs": [
    {
     "name": "stdout",
     "output_type": "stream",
     "text": [
      "{1, 2}\n"
     ]
    }
   ],
   "source": [
    "# Alternatively\n",
    "print(s5.difference(s6))"
   ]
  },
  {
   "cell_type": "code",
   "execution_count": 10,
   "id": "7cdc1c2a-6e93-4b59-a26a-ab0f81090876",
   "metadata": {},
   "outputs": [
    {
     "name": "stdout",
     "output_type": "stream",
     "text": [
      "False\n"
     ]
    }
   ],
   "source": [
    "# Is one set a proper subset of the other\n",
    "print(s5 <= s6)"
   ]
  },
  {
   "cell_type": "code",
   "execution_count": 11,
   "id": "43b18c52-86d8-4fda-82f8-e953e39fbeb8",
   "metadata": {},
   "outputs": [
    {
     "name": "stdout",
     "output_type": "stream",
     "text": [
      "False\n"
     ]
    }
   ],
   "source": [
    "# Alternatively\n",
    "print(s5.issubset(s6))"
   ]
  },
  {
   "cell_type": "code",
   "execution_count": 12,
   "id": "6902becd-5094-4fb1-9a5e-037f59d9052e",
   "metadata": {},
   "outputs": [],
   "source": [
    "s7 = {1, 2, 3}\n",
    "s8 = {1, 2, 3, 4, 5}"
   ]
  },
  {
   "cell_type": "code",
   "execution_count": 14,
   "id": "ae95e012-baf2-4d60-ac06-2f94e12d6dea",
   "metadata": {},
   "outputs": [
    {
     "name": "stdout",
     "output_type": "stream",
     "text": [
      "True\n"
     ]
    }
   ],
   "source": [
    "print(s7 <= s8)"
   ]
  },
  {
   "cell_type": "code",
   "execution_count": 16,
   "id": "1d2996bc-5946-4cf7-9109-5532fc03e58d",
   "metadata": {},
   "outputs": [
    {
     "name": "stdout",
     "output_type": "stream",
     "text": [
      "True\n"
     ]
    }
   ],
   "source": [
    "print(s7.issubset(s8))"
   ]
  },
  {
   "cell_type": "code",
   "execution_count": 17,
   "id": "66a0bb8b-383f-4c51-8df3-02e20126a2ed",
   "metadata": {},
   "outputs": [
    {
     "name": "stdout",
     "output_type": "stream",
     "text": [
      "True\n"
     ]
    }
   ],
   "source": [
    "# A formal check on whether a set is a subset of another were they can't be equal.\n",
    "print(s7 < s8)"
   ]
  },
  {
   "cell_type": "code",
   "execution_count": 18,
   "id": "9201651e-5db7-412f-a181-6c2b82cf0b18",
   "metadata": {},
   "outputs": [],
   "source": [
    "# If they are equal False will be returned with a formal check.\n",
    "s9 = {1, 2, 3}\n",
    "s10 = {1, 2, 3}"
   ]
  },
  {
   "cell_type": "code",
   "execution_count": 20,
   "id": "44ffdbc1-e335-472f-98b8-e1324f449ef0",
   "metadata": {},
   "outputs": [
    {
     "name": "stdout",
     "output_type": "stream",
     "text": [
      "False\n",
      "True\n"
     ]
    }
   ],
   "source": [
    "print(s9 < s10)\n",
    "print(s9 <= s10)"
   ]
  },
  {
   "cell_type": "code",
   "execution_count": 22,
   "id": "5063fbf6-ffda-43a4-aa6e-31bcdd4ea2ff",
   "metadata": {},
   "outputs": [
    {
     "name": "stdout",
     "output_type": "stream",
     "text": [
      "True\n"
     ]
    }
   ],
   "source": [
    "# Is one set a superset of another\n",
    "print(s8 >= s7)"
   ]
  },
  {
   "cell_type": "code",
   "execution_count": 23,
   "id": "51b3bc7a-cedc-4d54-87bb-b77dd7a39adb",
   "metadata": {},
   "outputs": [
    {
     "name": "stdout",
     "output_type": "stream",
     "text": [
      "True\n"
     ]
    }
   ],
   "source": [
    "# Alternatively\n",
    "print(s8.issuperset(s7))"
   ]
  },
  {
   "cell_type": "code",
   "execution_count": 24,
   "id": "707ab1a3-7378-4871-bd8b-d5904b976af5",
   "metadata": {},
   "outputs": [
    {
     "name": "stdout",
     "output_type": "stream",
     "text": [
      "True\n"
     ]
    }
   ],
   "source": [
    "# A formal check on whether a set is superset of another were they can't be equal.\n",
    "print(s8 > s7)"
   ]
  },
  {
   "cell_type": "code",
   "execution_count": 25,
   "id": "9dae07f8-b491-4233-892b-2ec061419f70",
   "metadata": {},
   "outputs": [
    {
     "name": "stdout",
     "output_type": "stream",
     "text": [
      "False\n"
     ]
    }
   ],
   "source": [
    "print(s9 > s10)"
   ]
  },
  {
   "cell_type": "code",
   "execution_count": null,
   "id": "acf62eb4-6a37-45a9-a692-28fad168d4be",
   "metadata": {},
   "outputs": [],
   "source": []
  }
 ],
 "metadata": {
  "kernelspec": {
   "display_name": "Python 3",
   "language": "python",
   "name": "python3"
  },
  "language_info": {
   "codemirror_mode": {
    "name": "ipython",
    "version": 3
   },
   "file_extension": ".py",
   "mimetype": "text/x-python",
   "name": "python",
   "nbconvert_exporter": "python",
   "pygments_lexer": "ipython3",
   "version": "3.8.8"
  }
 },
 "nbformat": 4,
 "nbformat_minor": 5
}
