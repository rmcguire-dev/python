{
 "cells": [
  {
   "cell_type": "markdown",
   "id": "9545bbd4-771a-4caf-a98b-a6ed0b052bc4",
   "metadata": {},
   "source": [
    "# 1. Vital Python - Math, Strings, Conditionals and Loops\n",
    "Overview\n",
    "\n",
    "By the end of this chapter, you will be able to simplify mathematical expressions with the order of operations using integers and floats; assign variables and change Python types to display and retrieve user information; apply global functions including `len()`, `print()`, and `input()`; manipulate strings using indexing, slicing, string concatenation, and string methods; apply Booleans and nested conditionals to solve problems with multiple pathways; utilize 'for loops' and 'while loops' to iterate over strings and repeat mathematical operations and create new programs by combining math, strings, conditionals, and loops.\n",
    "\n",
    "This chapter covers the fundamentals of the Python language."
   ]
  },
  {
   "cell_type": "markdown",
   "id": "e29c2f69-ab5d-4a96-9604-3fe06ed889f5",
   "metadata": {},
   "source": [
    "## Basic Math Operations"
   ]
  },
  {
   "cell_type": "code",
   "execution_count": 1,
   "id": "e70a8d4b-b893-4241-97e5-6f00272585d2",
   "metadata": {},
   "outputs": [
    {
     "data": {
      "text/plain": [
       "7"
      ]
     },
     "execution_count": 1,
     "metadata": {},
     "output_type": "execute_result"
    }
   ],
   "source": [
    "5 + 2"
   ]
  },
  {
   "cell_type": "code",
   "execution_count": 2,
   "id": "ee674377-d009-4de4-82b7-ab9c74ca190a",
   "metadata": {},
   "outputs": [
    {
     "data": {
      "text/plain": [
       "3"
      ]
     },
     "execution_count": 2,
     "metadata": {},
     "output_type": "execute_result"
    }
   ],
   "source": [
    "5 - 2"
   ]
  },
  {
   "cell_type": "code",
   "execution_count": 3,
   "id": "874d4ff7-3326-436b-8167-50473b23883d",
   "metadata": {},
   "outputs": [
    {
     "data": {
      "text/plain": [
       "10"
      ]
     },
     "execution_count": 3,
     "metadata": {},
     "output_type": "execute_result"
    }
   ],
   "source": [
    "5 * 2"
   ]
  },
  {
   "cell_type": "code",
   "execution_count": 4,
   "id": "3574362e-2040-4778-96d8-656dc769ca7a",
   "metadata": {},
   "outputs": [
    {
     "data": {
      "text/plain": [
       "2.5"
      ]
     },
     "execution_count": 4,
     "metadata": {},
     "output_type": "execute_result"
    }
   ],
   "source": [
    "5 / 2"
   ]
  },
  {
   "cell_type": "code",
   "execution_count": 5,
   "id": "5c755b3d-b9d2-40bf-8ced-1ae8bd712c97",
   "metadata": {},
   "outputs": [
    {
     "data": {
      "text/plain": [
       "2"
      ]
     },
     "execution_count": 5,
     "metadata": {},
     "output_type": "execute_result"
    }
   ],
   "source": [
    "5 // 2"
   ]
  },
  {
   "cell_type": "code",
   "execution_count": 6,
   "id": "ec04ffd0-ec47-40a3-8bf6-ae1f48f909f1",
   "metadata": {},
   "outputs": [
    {
     "data": {
      "text/plain": [
       "25"
      ]
     },
     "execution_count": 6,
     "metadata": {},
     "output_type": "execute_result"
    }
   ],
   "source": [
    "5 ** 2"
   ]
  },
  {
   "cell_type": "code",
   "execution_count": 7,
   "id": "3ae7a67e-e11e-4b9c-8e7d-38a78110d97d",
   "metadata": {},
   "outputs": [
    {
     "data": {
      "text/plain": [
       "1"
      ]
     },
     "execution_count": 7,
     "metadata": {},
     "output_type": "execute_result"
    }
   ],
   "source": [
    "5 % 2"
   ]
  },
  {
   "cell_type": "markdown",
   "id": "9291e5eb-515e-4c5b-a63e-62cccab474d3",
   "metadata": {},
   "source": [
    "## Order of Operations"
   ]
  },
  {
   "cell_type": "code",
   "execution_count": 8,
   "id": "5b09f0ac-8eff-4beb-aa0e-37ae5e346955",
   "metadata": {},
   "outputs": [],
   "source": [
    "# PEMDAS"
   ]
  },
  {
   "cell_type": "code",
   "execution_count": 9,
   "id": "64a45d89-6cbf-4583-a63b-8987e562eace",
   "metadata": {},
   "outputs": [
    {
     "data": {
      "text/plain": [
       "-1"
      ]
     },
     "execution_count": 9,
     "metadata": {},
     "output_type": "execute_result"
    }
   ],
   "source": [
    "5 + 2 * -3"
   ]
  },
  {
   "cell_type": "code",
   "execution_count": 10,
   "id": "f095d62b-6fa1-41b4-8c71-0182c0cb4d6c",
   "metadata": {},
   "outputs": [
    {
     "data": {
      "text/plain": [
       "-21"
      ]
     },
     "execution_count": 10,
     "metadata": {},
     "output_type": "execute_result"
    }
   ],
   "source": [
    "(5 + 2) * -3"
   ]
  },
  {
   "cell_type": "markdown",
   "id": "659fec9e-97e5-4f93-8c0e-13e571307adb",
   "metadata": {},
   "source": [
    "## Complex Number Types"
   ]
  },
  {
   "cell_type": "code",
   "execution_count": 11,
   "id": "f151208c-5f22-490a-b7d1-15d11330fb81",
   "metadata": {},
   "outputs": [
    {
     "data": {
      "text/plain": [
       "(-0.5+0.5j)"
      ]
     },
     "execution_count": 11,
     "metadata": {},
     "output_type": "execute_result"
    }
   ],
   "source": [
    "(2 + 3j) / (1 - 5j)"
   ]
  },
  {
   "cell_type": "markdown",
   "id": "7580dc5d-0713-4003-a1cd-48c0b63cd2bc",
   "metadata": {},
   "source": [
    "## Changing Types"
   ]
  },
  {
   "cell_type": "code",
   "execution_count": 12,
   "id": "232b5e40-3092-45cb-ad83-8acb69c130bb",
   "metadata": {},
   "outputs": [],
   "source": [
    "y = 10"
   ]
  },
  {
   "cell_type": "code",
   "execution_count": 13,
   "id": "2d134b50-21f5-4a7c-8480-10ee01a33f31",
   "metadata": {},
   "outputs": [],
   "source": [
    "y = y - 10.0"
   ]
  },
  {
   "cell_type": "code",
   "execution_count": 14,
   "id": "13a28d67-8592-4cf3-8fa1-298e5f3742f0",
   "metadata": {},
   "outputs": [
    {
     "data": {
      "text/plain": [
       "float"
      ]
     },
     "execution_count": 14,
     "metadata": {},
     "output_type": "execute_result"
    }
   ],
   "source": [
    "type(y)"
   ]
  },
  {
   "cell_type": "markdown",
   "id": "c0ccb03f-eef4-4c1e-b49b-d4bc7f65d71a",
   "metadata": {},
   "source": [
    "## Reassigning Variables in Terms of Themselves"
   ]
  },
  {
   "cell_type": "code",
   "execution_count": 15,
   "id": "715815eb-de9d-47b9-8ba1-c3ae127c4046",
   "metadata": {},
   "outputs": [
    {
     "name": "stdout",
     "output_type": "stream",
     "text": [
      "15\n"
     ]
    }
   ],
   "source": [
    "x = 14\n",
    "x += 1\n",
    "print(x)"
   ]
  },
  {
   "cell_type": "markdown",
   "id": "139f6580-bc1f-400f-a46c-4d82bc50da9c",
   "metadata": {},
   "source": [
    "## Variable Names"
   ]
  },
  {
   "cell_type": "code",
   "execution_count": 16,
   "id": "4fd8e39f-d2bc-498a-a5cc-1f88ed9d3f51",
   "metadata": {},
   "outputs": [
    {
     "name": "stdout",
     "output_type": "stream",
     "text": [
      "['False', 'None', 'True', 'and', 'as', 'assert', 'async', 'await', 'break', 'class', 'continue', 'def', 'del', 'elif', 'else', 'except', 'finally', 'for', 'from', 'global', 'if', 'import', 'in', 'is', 'lambda', 'nonlocal', 'not', 'or', 'pass', 'raise', 'return', 'try', 'while', 'with', 'yield']\n"
     ]
    }
   ],
   "source": [
    "import keyword\n",
    "print(keyword.kwlist)"
   ]
  },
  {
   "cell_type": "markdown",
   "id": "64d030fc-0260-415f-a4bc-e36d09eee304",
   "metadata": {},
   "source": [
    "## Docstrings"
   ]
  },
  {
   "cell_type": "code",
   "execution_count": 17,
   "id": "21a22045-ccd4-48f5-ad19-8bb560e34a5e",
   "metadata": {},
   "outputs": [
    {
     "data": {
      "text/plain": [
       "'\\nThis document will explore why comments are particularly useful when writing and reading code.\\n'"
      ]
     },
     "execution_count": 17,
     "metadata": {},
     "output_type": "execute_result"
    }
   ],
   "source": [
    "\"\"\"\n",
    "This document will explore why comments are particularly useful when writing and reading code.\n",
    "\"\"\""
   ]
  },
  {
   "cell_type": "markdown",
   "id": "04e471c1-8f31-48c4-b405-7eb0359e54cc",
   "metadata": {},
   "source": [
    "## String Syntax"
   ]
  },
  {
   "cell_type": "code",
   "execution_count": 18,
   "id": "5b59dd94-e24e-499c-a0d8-e72ca22f1f4c",
   "metadata": {},
   "outputs": [],
   "source": [
    "# This is a valid string\n",
    "bookstore = \"City Lights\""
   ]
  },
  {
   "cell_type": "code",
   "execution_count": 19,
   "id": "ddcadd33-89ae-44f4-8562-5e0c535fdeb8",
   "metadata": {},
   "outputs": [],
   "source": [
    "# This is a valid string\n",
    "bookstore = \"Moe's\""
   ]
  },
  {
   "cell_type": "markdown",
   "id": "81c9b303-ee9f-4f2c-8e73-1794e8c3c205",
   "metadata": {},
   "source": [
    "## Escape Sequences with Quotes"
   ]
  },
  {
   "cell_type": "code",
   "execution_count": 20,
   "id": "471498ae-a9c7-4553-8f49-7fb210c524cd",
   "metadata": {},
   "outputs": [],
   "source": [
    "# This is an example of using the Single quote(\\) escape character.\n",
    "bookstore = 'Moe\\'s'"
   ]
  },
  {
   "cell_type": "markdown",
   "id": "e6c13749-50e9-479d-8679-83ff03fc2c8a",
   "metadata": {},
   "source": [
    "## Multi-Line Strings"
   ]
  },
  {
   "cell_type": "code",
   "execution_count": 21,
   "id": "2827632f-c9ff-40bc-afbe-de1bb98f0213",
   "metadata": {},
   "outputs": [],
   "source": [
    "# This is an example using triple quotes\n",
    "vacation_note = ''' \n",
    "During our vacation to San Francisco, we waited in a long line by \n",
    "Powell St. Station to take the cable car. Tap dancers performed on \n",
    "wooden boards. By the time our cable car arrived, we started looking \n",
    "online for a good place to eat. We're heading to North Beach.\n",
    "'''"
   ]
  },
  {
   "cell_type": "markdown",
   "id": "8e541898-fdc2-412f-a9ab-7e7b9a62c82c",
   "metadata": {},
   "source": [
    "## Format"
   ]
  },
  {
   "cell_type": "code",
   "execution_count": 22,
   "id": "59608970-ee8a-4505-bdad-d01b58be2437",
   "metadata": {},
   "outputs": [
    {
     "name": "stdout",
     "output_type": "stream",
     "text": [
      "The founder of City Lights Bookstore, Lawrence Ferlinghetti, is now 100 years old.\n"
     ]
    }
   ],
   "source": [
    "# This example combines the values of owner and age with the formatted string given in the print() stetement\n",
    "owner = 'Lawrence Ferlinghetti'\n",
    "age = 100\n",
    "print('The founder of City Lights Bookstore, {}, is now {} years old.'.format(owner, age))"
   ]
  },
  {
   "cell_type": "markdown",
   "id": "f89932b2-c90d-4593-a2de-b23382055a6f",
   "metadata": {},
   "source": [
    "## The `len()` function"
   ]
  },
  {
   "cell_type": "code",
   "execution_count": 23,
   "id": "1ffaf4b7-735f-46fd-8645-37892fe1ddbc",
   "metadata": {},
   "outputs": [
    {
     "data": {
      "text/plain": [
       "5"
      ]
     },
     "execution_count": 23,
     "metadata": {},
     "output_type": "execute_result"
    }
   ],
   "source": [
    "# Outputs the length of a string\n",
    "greeting = \"Hello\"\n",
    "len(greeting)"
   ]
  },
  {
   "cell_type": "markdown",
   "id": "25061de9-1a44-43f3-83cc-00cf76f22b77",
   "metadata": {},
   "source": [
    "## Indexing"
   ]
  },
  {
   "cell_type": "code",
   "execution_count": 24,
   "id": "73e3785c-4917-4fe7-8aea-4e639daefd59",
   "metadata": {},
   "outputs": [],
   "source": [
    "# Initializer variable\n",
    "destination = \"San Francisco\""
   ]
  },
  {
   "cell_type": "code",
   "execution_count": 25,
   "id": "e667a00d-c850-45c7-b22e-e87f74cc70d6",
   "metadata": {},
   "outputs": [
    {
     "data": {
      "text/plain": [
       "'S'"
      ]
     },
     "execution_count": 25,
     "metadata": {},
     "output_type": "execute_result"
    }
   ],
   "source": [
    "# This example outputs the first character of the string \"San Francisco\"\n",
    "destination[0]"
   ]
  },
  {
   "cell_type": "code",
   "execution_count": 26,
   "id": "5934714c-e842-443a-978b-4a5022294734",
   "metadata": {},
   "outputs": [
    {
     "data": {
      "text/plain": [
       "'a'"
      ]
     },
     "execution_count": 26,
     "metadata": {},
     "output_type": "execute_result"
    }
   ],
   "source": [
    "# This example outputs the second character of the string \"San Francisco\"\n",
    "destination[1]"
   ]
  },
  {
   "cell_type": "code",
   "execution_count": 27,
   "id": "9709d972-d84c-4744-9060-733c01fa46c2",
   "metadata": {},
   "outputs": [
    {
     "data": {
      "text/plain": [
       "'n'"
      ]
     },
     "execution_count": 27,
     "metadata": {},
     "output_type": "execute_result"
    }
   ],
   "source": [
    "# This example outputs the third character of the string \"San Francisco\"\n",
    "destination[2]"
   ]
  },
  {
   "cell_type": "code",
   "execution_count": 28,
   "id": "0d4b9298-6347-4eaa-964c-5715460646af",
   "metadata": {},
   "outputs": [
    {
     "data": {
      "text/plain": [
       "'o'"
      ]
     },
     "execution_count": 28,
     "metadata": {},
     "output_type": "execute_result"
    }
   ],
   "source": [
    "# This example outputs the last charater of the string \"San Francisco\"\n",
    "destination[-1]"
   ]
  },
  {
   "cell_type": "code",
   "execution_count": 29,
   "id": "f73cdf42-d3c1-47b8-bdbb-ea04d4f172d8",
   "metadata": {},
   "outputs": [
    {
     "data": {
      "text/plain": [
       "'c'"
      ]
     },
     "execution_count": 29,
     "metadata": {},
     "output_type": "execute_result"
    }
   ],
   "source": [
    "# This example outputs the second-to-last character of the striing \"San Francisco\"\n",
    "destination[-2]"
   ]
  },
  {
   "cell_type": "code",
   "execution_count": 30,
   "id": "165cf333-4515-416c-bce5-99af7298366e",
   "metadata": {},
   "outputs": [],
   "source": [
    "# Initializer variable\n",
    "bridge = \"Golden Gate\""
   ]
  },
  {
   "cell_type": "code",
   "execution_count": 31,
   "id": "0e504199-bcc4-46d5-a8be-7286c6c74cbf",
   "metadata": {},
   "outputs": [
    {
     "data": {
      "text/plain": [
       "' '"
      ]
     },
     "execution_count": 31,
     "metadata": {},
     "output_type": "execute_result"
    }
   ],
   "source": [
    "# This example outputs the seventh chahracter of the string \"Golden Gate\"\n",
    "bridge[6]"
   ]
  },
  {
   "cell_type": "markdown",
   "id": "8ba49629-a6bf-4521-943d-ac280f8476e9",
   "metadata": {},
   "source": [
    "## Slicing"
   ]
  },
  {
   "cell_type": "code",
   "execution_count": 32,
   "id": "b53ba7a0-0e2b-4ec9-b5ca-0ffe8e1192bd",
   "metadata": {},
   "outputs": [
    {
     "data": {
      "text/plain": [
       "'Francis'"
      ]
     },
     "execution_count": 32,
     "metadata": {},
     "output_type": "execute_result"
    }
   ],
   "source": [
    "# This example outputs the fifth to the eleventh characters of the string \"San Francisco\"\n",
    "destination[4:11]"
   ]
  },
  {
   "cell_type": "code",
   "execution_count": 33,
   "id": "85aec70e-0508-44c8-8a9b-f95b7c5f428c",
   "metadata": {},
   "outputs": [
    {
     "data": {
      "text/plain": [
       "'San'"
      ]
     },
     "execution_count": 33,
     "metadata": {},
     "output_type": "execute_result"
    }
   ],
   "source": [
    "# This example outputs the first three chatacters of the string \"San Francisco\"\n",
    "destination[0:3]"
   ]
  },
  {
   "cell_type": "code",
   "execution_count": 34,
   "id": "49fe98c1-f8e0-4d18-a885-2e6e45679da5",
   "metadata": {},
   "outputs": [
    {
     "data": {
      "text/plain": [
       "'San Fran'"
      ]
     },
     "execution_count": 34,
     "metadata": {},
     "output_type": "execute_result"
    }
   ],
   "source": [
    "# This example outputs the first eight characters of the string \"San Francisco\"\n",
    "destination[0:8]"
   ]
  },
  {
   "cell_type": "code",
   "execution_count": 35,
   "id": "6774c4f0-d6ac-4473-80a4-eea264e45dee",
   "metadata": {},
   "outputs": [
    {
     "data": {
      "text/plain": [
       "'sco'"
      ]
     },
     "execution_count": 35,
     "metadata": {},
     "output_type": "execute_result"
    }
   ],
   "source": [
    "# This example outputs the last three characters of the string \"San Francisco\"\n",
    "destination[-3:]"
   ]
  },
  {
   "cell_type": "markdown",
   "id": "e7c20e83-e3d3-49e7-9dcd-5b06be9c7557",
   "metadata": {},
   "source": [
    "## Booleans"
   ]
  },
  {
   "cell_type": "code",
   "execution_count": 36,
   "id": "fa3b9919-6499-4715-a852-4f467dd5e592",
   "metadata": {},
   "outputs": [],
   "source": [
    "over_18, over_21 = True, False"
   ]
  },
  {
   "cell_type": "code",
   "execution_count": 37,
   "id": "277a4829-e05c-46a1-9852-8ffa114ee4a0",
   "metadata": {},
   "outputs": [
    {
     "data": {
      "text/plain": [
       "False"
      ]
     },
     "execution_count": 37,
     "metadata": {},
     "output_type": "execute_result"
    }
   ],
   "source": [
    "# AND\n",
    "over_18 and over_21"
   ]
  },
  {
   "cell_type": "code",
   "execution_count": 38,
   "id": "05a184f6-872c-4486-bc98-d8e41b4510e5",
   "metadata": {},
   "outputs": [
    {
     "data": {
      "text/plain": [
       "True"
      ]
     },
     "execution_count": 38,
     "metadata": {},
     "output_type": "execute_result"
    }
   ],
   "source": [
    "# OR\n",
    "over_18 or over_21"
   ]
  },
  {
   "cell_type": "code",
   "execution_count": 39,
   "id": "e186f69a-e580-4e6d-af01-1a3ea84c2aa9",
   "metadata": {},
   "outputs": [
    {
     "data": {
      "text/plain": [
       "False"
      ]
     },
     "execution_count": 39,
     "metadata": {},
     "output_type": "execute_result"
    }
   ],
   "source": [
    "# NOT\n",
    "not over_18"
   ]
  },
  {
   "cell_type": "code",
   "execution_count": 40,
   "id": "052443aa-e2c1-4279-a1bb-cb6ce36fdbdc",
   "metadata": {},
   "outputs": [
    {
     "data": {
      "text/plain": [
       "True"
      ]
     },
     "execution_count": 40,
     "metadata": {},
     "output_type": "execute_result"
    }
   ],
   "source": [
    "# True OR True = True\n",
    "not over_21 or (over_21 or over_18)"
   ]
  },
  {
   "cell_type": "markdown",
   "id": "f97a6d27-9847-4f73-8a1f-4bd9bcf7acc8",
   "metadata": {},
   "source": [
    "## The IF Syntax"
   ]
  },
  {
   "cell_type": "code",
   "execution_count": 41,
   "id": "9cbec69c-bcd4-484d-8f0b-bb47cdf3ad79",
   "metadata": {},
   "outputs": [],
   "source": [
    "age = 20"
   ]
  },
  {
   "cell_type": "code",
   "execution_count": 42,
   "id": "1f5defaa-8fca-4411-841e-842cf350b9f0",
   "metadata": {},
   "outputs": [],
   "source": [
    "if age < 18:\n",
    "    print(\"You are not old enough to vote.\")"
   ]
  },
  {
   "cell_type": "markdown",
   "id": "dd4cc030-fe56-4dee-bc83-62f656a0466f",
   "metadata": {},
   "source": [
    "## The ELIF Statement"
   ]
  },
  {
   "cell_type": "code",
   "execution_count": 43,
   "id": "3864728b-5779-40e0-9070-67247845c76d",
   "metadata": {},
   "outputs": [
    {
     "name": "stdout",
     "output_type": "stream",
     "text": [
      "Seize the day.\n"
     ]
    }
   ],
   "source": [
    "if age <= 10:\n",
    "    print('Listen, learn, and have fun.')\n",
    "elif age<= 19:\n",
    "    print('Go fearlessly forward.')\n",
    "elif age <= 29:\n",
    "    print('Seize the day.')\n",
    "elif age <= 39:\n",
    "    print('Go for what you want.')\n",
    "elif age <= 59:\n",
    "    print('Stay physically fit and healthy.')\n",
    "else:\n",
    "    print('Each day is magical.')"
   ]
  },
  {
   "cell_type": "markdown",
   "id": "cf0c5ccf-ebe1-45df-bed3-184ff405ef96",
   "metadata": {},
   "source": [
    "## The While Loops"
   ]
  },
  {
   "cell_type": "code",
   "execution_count": 44,
   "id": "a1c15248-0a2a-4891-8b9e-a79f998702ca",
   "metadata": {},
   "outputs": [
    {
     "name": "stdout",
     "output_type": "stream",
     "text": [
      "1\n",
      "2\n",
      "3\n",
      "4\n",
      "5\n",
      "6\n",
      "7\n",
      "8\n",
      "9\n",
      "10\n"
     ]
    }
   ],
   "source": [
    "i = 1\n",
    "while i <= 10:\n",
    "    print(i)\n",
    "    i += 1"
   ]
  },
  {
   "cell_type": "code",
   "execution_count": 45,
   "id": "c9ba041c-28e9-4b46-953b-b921b8afe3e8",
   "metadata": {},
   "outputs": [
    {
     "name": "stdout",
     "output_type": "stream",
     "text": [
      "5\n",
      "10\n",
      "15\n",
      "20\n"
     ]
    }
   ],
   "source": [
    "x = 5\n",
    "while x<= 20:\n",
    "    print(x)\n",
    "    x += 5"
   ]
  },
  {
   "cell_type": "markdown",
   "id": "19321aaf-a9b5-432a-925e-9fca274bc33d",
   "metadata": {},
   "source": [
    "## Break"
   ]
  },
  {
   "cell_type": "code",
   "execution_count": 46,
   "id": "91d8d8a7-6b6b-4652-b186-5d4b83a91223",
   "metadata": {},
   "outputs": [
    {
     "name": "stdout",
     "output_type": "stream",
     "text": [
      " 102 is the first number greater than 100 that is divisible by 17.\n"
     ]
    }
   ],
   "source": [
    "# Find first number greater than 100 and divisible by 17.\n",
    "x = 100\n",
    "while x <= 1000:\n",
    "    x += 1\n",
    "    if x % 17 == 0:\n",
    "        print('', x, 'is the first number greater than 100 that is divisible by 17.')\n",
    "        break"
   ]
  },
  {
   "cell_type": "markdown",
   "id": "9774d44e-058a-48b9-88ca-0868f3c9668c",
   "metadata": {},
   "source": [
    "## Continue"
   ]
  },
  {
   "cell_type": "code",
   "execution_count": 47,
   "id": "11818c99-76c8-4dcf-8f5c-98480c99e0b7",
   "metadata": {},
   "outputs": [
    {
     "name": "stdout",
     "output_type": "stream",
     "text": [
      "11\n",
      "13\n",
      "17\n",
      "19\n",
      "23\n",
      "29\n",
      "31\n",
      "37\n",
      "41\n",
      "43\n",
      "47\n",
      "53\n",
      "59\n",
      "61\n",
      "67\n",
      "71\n",
      "73\n",
      "79\n",
      "83\n",
      "89\n",
      "97\n"
     ]
    }
   ],
   "source": [
    "# This outputs every two-digit prime number uptp 100\n",
    "for num in range(10,100):\n",
    "    if num % 2 == 0:\n",
    "        continue\n",
    "    if num % 3 == 0:\n",
    "        continue\n",
    "    if num % 5 == 0:\n",
    "        continue\n",
    "    if num % 7 == 0:\n",
    "        continue\n",
    "    print(num)"
   ]
  },
  {
   "cell_type": "code",
   "execution_count": null,
   "id": "568d822e-91d9-4507-9cda-1a7232d7a6a7",
   "metadata": {},
   "outputs": [],
   "source": []
  }
 ],
 "metadata": {
  "kernelspec": {
   "display_name": "Python 3",
   "language": "python",
   "name": "python3"
  },
  "language_info": {
   "codemirror_mode": {
    "name": "ipython",
    "version": 3
   },
   "file_extension": ".py",
   "mimetype": "text/x-python",
   "name": "python",
   "nbconvert_exporter": "python",
   "pygments_lexer": "ipython3",
   "version": "3.8.8"
  },
  "toc-autonumbering": false
 },
 "nbformat": 4,
 "nbformat_minor": 5
}
