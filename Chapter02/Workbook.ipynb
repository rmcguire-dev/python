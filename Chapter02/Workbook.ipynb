{
 "cells": [
  {
   "cell_type": "markdown",
   "id": "02046227-438a-40b1-bff5-dc65f86d491e",
   "metadata": {},
   "source": [
    "# Python Structures\n",
    "By the end of this chapter, you will be able to explain the different types of Python data structures; create lists, dictionaries, and sets and describe the differences between them; create matrices and manipulate both a matrix as a whole and its individual cells; call the `zip()` function to create different Python structures; find what methods are available for lists, dictionaries, and sets; write a program using the most popular methods for lists, dictionaries, and sets and convert between different Python structures."
   ]
  },
  {
   "cell_type": "markdown",
   "id": "4cf51744-55c1-410d-874f-9393a8560e04",
   "metadata": {},
   "source": [
    "## Introduction"
   ]
  },
  {
   "cell_type": "code",
   "execution_count": 2,
   "id": "664eaeec-da62-4fd5-a1ca-6780d8c11ec9",
   "metadata": {},
   "outputs": [],
   "source": [
    "# An example of how the list data structure is coded\n",
    "todo = [\"pick up laundry\", \"buy Groceries\", \"pay electric bills\"]"
   ]
  },
  {
   "cell_type": "code",
   "execution_count": 3,
   "id": "fa3ac63c-dce6-4dcb-85bc-653f1df2f53a",
   "metadata": {},
   "outputs": [],
   "source": [
    "# An example of how the dictionary data structure is coded\n",
    "User = {\"first_name\": \"Jack\", \"last_name\":\"White\", \"age\": 41, \"email\": \"jack.white@gmail.com\"}"
   ]
  },
  {
   "cell_type": "markdown",
   "id": "437021e4-f8db-40a8-9696-5d670439c661",
   "metadata": {},
   "source": [
    "## Dictionary Keys and Values"
   ]
  },
  {
   "cell_type": "code",
   "execution_count": 1,
   "id": "e27875f9-2b2f-4049-8299-f297a9a3a72c",
   "metadata": {},
   "outputs": [],
   "source": [
    "# This is an example dictionary that stores employee data as key-value pairs\n",
    "employee = {\n",
    "    \"name\": \"Jack Nelson\",\n",
    "    \"age\": 32,\n",
    "    \"department\": \"Sales\"\n",
    "}"
   ]
  },
  {
   "cell_type": "markdown",
   "id": "0306b32d-6fe7-4306-ac4e-9a205fbb3ab5",
   "metadata": {},
   "source": [
    "## Tuples"
   ]
  },
  {
   "cell_type": "code",
   "execution_count": 2,
   "id": "d3b082b1-0c20-4b53-8d30-39cc1dafa8fc",
   "metadata": {},
   "outputs": [],
   "source": [
    "# An example of how the tuple data structure is coded.  These data structures are immutable sequences and therefore fixed and cannot be changed\n",
    "weekdays_tuple = ('Monday', 'Tuesday', 'Wednesday','Thursday','Friday','Saturday', 'Sunday')"
   ]
  },
  {
   "cell_type": "markdown",
   "id": "af45b591-7cb3-4b3d-9b26-7988253d7d2a",
   "metadata": {},
   "source": [
    "## Sets"
   ]
  },
  {
   "cell_type": "code",
   "execution_count": 1,
   "id": "311282b5-3f14-48a0-aca9-11967d37a36e",
   "metadata": {},
   "outputs": [],
   "source": [
    "# An example of how the set data structure is coded. \n",
    "lunch = {\"apple\", \"orange\", \"banana\"}"
   ]
  },
  {
   "cell_type": "code",
   "execution_count": null,
   "id": "414ede1e-2548-4526-ac3a-cf35468abcd3",
   "metadata": {},
   "outputs": [],
   "source": []
  }
 ],
 "metadata": {
  "kernelspec": {
   "display_name": "Python 3",
   "language": "python",
   "name": "python3"
  },
  "language_info": {
   "codemirror_mode": {
    "name": "ipython",
    "version": 3
   },
   "file_extension": ".py",
   "mimetype": "text/x-python",
   "name": "python",
   "nbconvert_exporter": "python",
   "pygments_lexer": "ipython3",
   "version": "3.8.8"
  }
 },
 "nbformat": 4,
 "nbformat_minor": 5
}
