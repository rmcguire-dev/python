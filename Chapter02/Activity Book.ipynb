{
 "cells": [
  {
   "cell_type": "markdown",
   "id": "5228ff33-7b4f-4a11-b862-3420d2b8a5b5",
   "metadata": {},
   "source": [
    "## Activity 1: Assigning Values to Variables"
   ]
  },
  {
   "cell_type": "code",
   "execution_count": 6,
   "id": "69336536-b739-4bdc-bfd2-b2f3599e9cbc",
   "metadata": {},
   "outputs": [],
   "source": [
    "x = 14"
   ]
  },
  {
   "cell_type": "code",
   "execution_count": 7,
   "id": "c660f26a-3d4b-4a30-b289-7b856241e6dd",
   "metadata": {},
   "outputs": [],
   "source": [
    "x += 1"
   ]
  },
  {
   "cell_type": "code",
   "execution_count": 8,
   "id": "7bc062e3-a0c2-4aff-9059-675c97ab96c4",
   "metadata": {},
   "outputs": [
    {
     "data": {
      "text/plain": [
       "9.0"
      ]
     },
     "execution_count": 8,
     "metadata": {},
     "output_type": "execute_result"
    }
   ],
   "source": [
    "(x / 5) ** 2"
   ]
  },
  {
   "cell_type": "markdown",
   "id": "a8441271-a979-43cd-ba84-6dd7f99efaa9",
   "metadata": {},
   "source": [
    "## Activity 2: Finding a Solution Using the Pythagorean Theorem in Python"
   ]
  },
  {
   "cell_type": "code",
   "execution_count": 9,
   "id": "29b1f22e-d1f6-4244-a133-05bb9e021bf6",
   "metadata": {},
   "outputs": [
    {
     "data": {
      "text/plain": [
       "'\\nThis document determines the Pythagorean Distance\\nbetween three given points\\n'"
      ]
     },
     "execution_count": 9,
     "metadata": {},
     "output_type": "execute_result"
    }
   ],
   "source": [
    "\"\"\"\n",
    "This document determines the Pythagorean Distance\n",
    "between three given points\n",
    "\"\"\""
   ]
  },
  {
   "cell_type": "code",
   "execution_count": 10,
   "id": "6fbb132f-6e9f-41b0-a07e-121365698bce",
   "metadata": {},
   "outputs": [],
   "source": [
    "# Initialize variables\n",
    "x, y, z = 2, 3, 4"
   ]
  },
  {
   "cell_type": "code",
   "execution_count": 11,
   "id": "90339c08-39ba-4932-a6e4-8329eeab1064",
   "metadata": {},
   "outputs": [],
   "source": [
    "# Pythagorean Theorem in 3 dimensions\n",
    "w_squared = x**2 + y**2 + z**2"
   ]
  },
  {
   "cell_type": "code",
   "execution_count": 12,
   "id": "1565bd66-bc32-4ed5-bc53-87b5e7386c52",
   "metadata": {},
   "outputs": [],
   "source": [
    "# The square root gives the distance\n",
    "w = w_squared ** 0.5"
   ]
  },
  {
   "cell_type": "code",
   "execution_count": 13,
   "id": "22716ff4-388e-40be-844d-e9cab4a04a8e",
   "metadata": {},
   "outputs": [
    {
     "data": {
      "text/plain": [
       "5.385164807134504"
      ]
     },
     "execution_count": 13,
     "metadata": {},
     "output_type": "execute_result"
    }
   ],
   "source": [
    "#Show the distance\n",
    "w   "
   ]
  },
  {
   "cell_type": "markdown",
   "id": "3604806f-9d0a-4f25-bf37-bf017b6b90df",
   "metadata": {},
   "source": [
    "## Activity 3: Using the `input()` Function to Rate Your Day"
   ]
  },
  {
   "cell_type": "markdown",
   "id": "4a8188f5-4b58-40db-ab48-0de7b988b367",
   "metadata": {},
   "source": [
    "```python\n",
    "# Display a question prompting the user to rate their day on a number scale of 1 to 10.\n",
    "print(\"Please rate your day on a scale of 1-10?\")\n",
    "```"
   ]
  },
  {
   "cell_type": "markdown",
   "id": "291b5418-9825-422f-b437-6ecfc7780874",
   "metadata": {},
   "source": [
    "```python\n",
    "# Save the user's input as a variable.\n",
    "rating = input()\n",
    "```"
   ]
  },
  {
   "cell_type": "markdown",
   "id": "f0bfbac6-07bb-42bb-8da2-e36293b77966",
   "metadata": {},
   "source": [
    "```python\n",
    "# Display a statement to the user that includes the users input number\n",
    "print(\"My day was average I will give it a rating of \" + rating)\n",
    "```"
   ]
  },
  {
   "cell_type": "markdown",
   "id": "6eb3d706-1143-47c0-9845-02d87ded8f71",
   "metadata": {},
   "source": [
    "## Activity 4: Finding the Least Common Multiple (LCM)"
   ]
  },
  {
   "cell_type": "code",
   "execution_count": 14,
   "id": "9f22518f-3aba-4e4f-bcf9-9635ef32c76b",
   "metadata": {},
   "outputs": [],
   "source": [
    "x, y = 24, 36"
   ]
  },
  {
   "cell_type": "code",
   "execution_count": 15,
   "id": "d3c8ea75-cbc8-4b13-8b1f-526e0cff1d0c",
   "metadata": {},
   "outputs": [
    {
     "name": "stdout",
     "output_type": "stream",
     "text": [
      "The Least Common Multiple of 24 and 36 is 72 .\n"
     ]
    }
   ],
   "source": [
    "# Compute the Lowest Common Multiple of x and y.\n",
    "i = 1\n",
    "while(True):\n",
    "    if(i % x == 0) and (i % y == 0):\n",
    "        print(\"The Least Common Multiple of\", x, \"and\", y, \"is\", i, \".\")\n",
    "        break\n",
    "    i += 1"
   ]
  },
  {
   "cell_type": "code",
   "execution_count": null,
   "id": "4d5ca352-33f1-40b0-91c8-5124a8af64a0",
   "metadata": {},
   "outputs": [],
   "source": []
  }
 ],
 "metadata": {
  "kernelspec": {
   "display_name": "Python 3",
   "language": "python",
   "name": "python3"
  },
  "language_info": {
   "codemirror_mode": {
    "name": "ipython",
    "version": 3
   },
   "file_extension": ".py",
   "mimetype": "text/x-python",
   "name": "python",
   "nbconvert_exporter": "python",
   "pygments_lexer": "ipython3",
   "version": "3.8.8"
  }
 },
 "nbformat": 4,
 "nbformat_minor": 5
}
