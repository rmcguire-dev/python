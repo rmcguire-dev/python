{
 "cells": [
  {
   "cell_type": "markdown",
   "id": "eb7f168b-25b0-4c6c-ac0d-938f8280d32e",
   "metadata": {},
   "source": [
    "## Exercise 1: Getting to Know the Order of Operations"
   ]
  },
  {
   "cell_type": "code",
   "execution_count": 1,
   "id": "0880824d-d4e0-42ee-b1d5-9b443542b7b2",
   "metadata": {},
   "outputs": [
    {
     "data": {
      "text/plain": [
       "-5.0"
      ]
     },
     "execution_count": 1,
     "metadata": {},
     "output_type": "execute_result"
    }
   ],
   "source": [
    "(100 - 5 ** 3) / 5"
   ]
  },
  {
   "cell_type": "code",
   "execution_count": 2,
   "id": "98b49600-de83-4c07-bd1e-22f134020abd",
   "metadata": {},
   "outputs": [
    {
     "data": {
      "text/plain": [
       "9"
      ]
     },
     "execution_count": 2,
     "metadata": {},
     "output_type": "execute_result"
    }
   ],
   "source": [
    "6 + 15 % 4"
   ]
  },
  {
   "cell_type": "code",
   "execution_count": 3,
   "id": "559f49f8-e840-4e4f-a295-7f21bad6b30e",
   "metadata": {},
   "outputs": [
    {
     "data": {
      "text/plain": [
       "10"
      ]
     },
     "execution_count": 3,
     "metadata": {},
     "output_type": "execute_result"
    }
   ],
   "source": [
    "2 ** 2 + 24 // 4"
   ]
  },
  {
   "cell_type": "markdown",
   "id": "ea864afd-f08e-40d2-a255-498cda2ba560",
   "metadata": {},
   "source": [
    "## Exercise 2: Integer and Float Types"
   ]
  },
  {
   "cell_type": "code",
   "execution_count": 4,
   "id": "1a85b509-4f8f-4925-83c7-238fe38880b8",
   "metadata": {},
   "outputs": [
    {
     "data": {
      "text/plain": [
       "int"
      ]
     },
     "execution_count": 4,
     "metadata": {},
     "output_type": "execute_result"
    }
   ],
   "source": [
    "type(6)"
   ]
  },
  {
   "cell_type": "code",
   "execution_count": 5,
   "id": "5a89dc7f-77be-447a-9af8-0f0eb4b641a5",
   "metadata": {},
   "outputs": [
    {
     "data": {
      "text/plain": [
       "float"
      ]
     },
     "execution_count": 5,
     "metadata": {},
     "output_type": "execute_result"
    }
   ],
   "source": [
    "type(6.0)"
   ]
  },
  {
   "cell_type": "code",
   "execution_count": 6,
   "id": "4541a575-60fe-4e77-9c7e-5af83a84ce6a",
   "metadata": {},
   "outputs": [
    {
     "data": {
      "text/plain": [
       "8.14"
      ]
     },
     "execution_count": 6,
     "metadata": {},
     "output_type": "execute_result"
    }
   ],
   "source": [
    "5 + 3.14"
   ]
  },
  {
   "cell_type": "code",
   "execution_count": 7,
   "id": "e96a036d-ad7b-4070-b4e0-f17b2ea22aed",
   "metadata": {},
   "outputs": [
    {
     "data": {
      "text/plain": [
       "7"
      ]
     },
     "execution_count": 7,
     "metadata": {},
     "output_type": "execute_result"
    }
   ],
   "source": [
    "int(7.999999999)"
   ]
  },
  {
   "cell_type": "code",
   "execution_count": 8,
   "id": "89f993de-ba20-440b-8182-224525afa39c",
   "metadata": {},
   "outputs": [
    {
     "data": {
      "text/plain": [
       "6.0"
      ]
     },
     "execution_count": 8,
     "metadata": {},
     "output_type": "execute_result"
    }
   ],
   "source": [
    "float(6)"
   ]
  },
  {
   "cell_type": "markdown",
   "id": "fbf7ec6f-7920-4e54-8443-22d454e7e0ed",
   "metadata": {},
   "source": [
    "## Exercise 3: Assigning Variables"
   ]
  },
  {
   "cell_type": "code",
   "execution_count": 9,
   "id": "77d7f784-5f22-4aab-b49d-3089ec7894a2",
   "metadata": {},
   "outputs": [],
   "source": [
    "x = 2"
   ]
  },
  {
   "cell_type": "code",
   "execution_count": 10,
   "id": "1142ccbc-98bb-4f53-ba1a-01a2763b5896",
   "metadata": {},
   "outputs": [
    {
     "data": {
      "text/plain": [
       "3"
      ]
     },
     "execution_count": 10,
     "metadata": {},
     "output_type": "execute_result"
    }
   ],
   "source": [
    "x + 1"
   ]
  },
  {
   "cell_type": "code",
   "execution_count": 11,
   "id": "1af01911-6cda-44b8-b4fe-d753c023d709",
   "metadata": {},
   "outputs": [],
   "source": [
    "x = 3.0"
   ]
  },
  {
   "cell_type": "code",
   "execution_count": 12,
   "id": "86980511-1a2d-4518-9b21-a4528f79b2c0",
   "metadata": {},
   "outputs": [
    {
     "data": {
      "text/plain": [
       "4.0"
      ]
     },
     "execution_count": 12,
     "metadata": {},
     "output_type": "execute_result"
    }
   ],
   "source": [
    "x + 1"
   ]
  },
  {
   "cell_type": "markdown",
   "id": "1b902791-9ef7-4470-9b6c-0869537fb377",
   "metadata": {},
   "source": [
    "## Exercise 4: Variable Names"
   ]
  },
  {
   "cell_type": "markdown",
   "id": "6d022053-3d1e-480f-9acc-ff874bf4b875",
   "metadata": {},
   "source": [
    "```python\n",
    "# Invalid variable name\n",
    "1st_number = 1\n",
    "```"
   ]
  },
  {
   "cell_type": "markdown",
   "id": "8c0c70bb-a70d-4e3e-b18f-aedf3a6a48f5",
   "metadata": {},
   "source": [
    "```python\n",
    "# Valid variable name\n",
    "first_number = 1\n",
    "```"
   ]
  },
  {
   "cell_type": "markdown",
   "id": "1be21301-e3c0-4a05-b360-7cfa0bea3beb",
   "metadata": {},
   "source": [
    "```python\n",
    "# Invalid variable name\n",
    "my_$ = 1000.00\n",
    "```"
   ]
  },
  {
   "cell_type": "markdown",
   "id": "0f365eee-682d-4465-9a82-c38fdb6d3863",
   "metadata": {},
   "source": [
    "```python\n",
    "# Valid variable name\n",
    "my_money = 1000.00\n",
    "```"
   ]
  },
  {
   "cell_type": "markdown",
   "id": "5a60fb0f-31f4-48f9-b71f-1d06c99af6cb",
   "metadata": {},
   "source": [
    "## Exercise 5: Multiple Variables in Python"
   ]
  },
  {
   "cell_type": "code",
   "execution_count": 13,
   "id": "2a0120e2-e018-4c39-b3e6-e8582a947d84",
   "metadata": {},
   "outputs": [],
   "source": [
    "x = 5\n",
    "y = 2"
   ]
  },
  {
   "cell_type": "code",
   "execution_count": 14,
   "id": "a5f9eda7-c084-4384-b61b-67089841e41f",
   "metadata": {},
   "outputs": [
    {
     "data": {
      "text/plain": [
       "6"
      ]
     },
     "execution_count": 14,
     "metadata": {},
     "output_type": "execute_result"
    }
   ],
   "source": [
    "x + x - y ** 2"
   ]
  },
  {
   "cell_type": "code",
   "execution_count": 15,
   "id": "655b37d9-72b6-4a49-9c12-eeacc5cc90fe",
   "metadata": {},
   "outputs": [],
   "source": [
    "# Pythonic variable assignment\n",
    "x, y = 8, 5"
   ]
  },
  {
   "cell_type": "code",
   "execution_count": 16,
   "id": "8993fb2b-5948-4d7c-9909-909cfa7099cf",
   "metadata": {},
   "outputs": [
    {
     "data": {
      "text/plain": [
       "1"
      ]
     },
     "execution_count": 16,
     "metadata": {},
     "output_type": "execute_result"
    }
   ],
   "source": [
    "x // y"
   ]
  },
  {
   "cell_type": "markdown",
   "id": "5b405dcb-935f-4d37-8980-bd62f5a93642",
   "metadata": {},
   "source": [
    "## Exercise 6: Comments in Python"
   ]
  },
  {
   "cell_type": "code",
   "execution_count": 17,
   "id": "5b62cf97-24c5-48c8-b92d-f7d53b1a2d02",
   "metadata": {},
   "outputs": [],
   "source": [
    "# This is a comment"
   ]
  },
  {
   "cell_type": "code",
   "execution_count": 18,
   "id": "6b922836-acbe-412c-ba9f-994da0d38ac3",
   "metadata": {},
   "outputs": [],
   "source": [
    "# Set the variable pi to 3.14\n",
    "pi = 3.14"
   ]
  },
  {
   "cell_type": "code",
   "execution_count": 19,
   "id": "49e48235-7547-42cc-a456-ed5541470095",
   "metadata": {},
   "outputs": [],
   "source": [
    "pi = 3.14  # Set the variables pi to 3.14"
   ]
  },
  {
   "cell_type": "markdown",
   "id": "5ebabbc6-84e3-425a-b946-68009cb64c91",
   "metadata": {},
   "source": [
    "## Exercise 7: String Error Syntax"
   ]
  },
  {
   "cell_type": "markdown",
   "id": "19c8b1c0-77a0-4587-93ff-e427965f01a3",
   "metadata": {},
   "source": [
    "```python\n",
    "# Valid string\n",
    "bookstore = \"City Lights\"\n",
    "```"
   ]
  },
  {
   "cell_type": "markdown",
   "id": "fadb9b10-7afe-4a2e-8763-75e25045a8a9",
   "metadata": {},
   "source": [
    "```python\n",
    "# Invalid string\n",
    "bookstore = 'City Lights\"\n",
    "```"
   ]
  },
  {
   "cell_type": "markdown",
   "id": "427f09bc-cd07-430a-bfcf-62c84b9a8163",
   "metadata": {},
   "source": [
    "```python\n",
    "# Valid string\n",
    "bookstore = \"Moe's\"\n",
    "```"
   ]
  },
  {
   "cell_type": "markdown",
   "id": "bb6f8bb2-335b-4e14-b4e7-e48139606234",
   "metadata": {},
   "source": [
    "```python\n",
    "# Invalid string\n",
    "bookstore = 'Moe's'\n",
    "```"
   ]
  },
  {
   "cell_type": "markdown",
   "id": "d9b92eb2-614d-45f8-a47f-49676e798685",
   "metadata": {},
   "source": [
    "```python\n",
    "# Valid string using an escape character\n",
    "bookstore = 'Moe\\'s'\n",
    "```"
   ]
  },
  {
   "cell_type": "markdown",
   "id": "65ae8c9e-e612-43dc-bbd9-83cb9cbc4750",
   "metadata": {},
   "source": [
    "## Exercise 8: Displaying Strings"
   ]
  },
  {
   "cell_type": "code",
   "execution_count": 20,
   "id": "d65d8eef-346b-4d0d-b344-ca7641dfeef9",
   "metadata": {},
   "outputs": [],
   "source": [
    "greeting = \"Hello\""
   ]
  },
  {
   "cell_type": "code",
   "execution_count": 21,
   "id": "1b6aa4ba-076e-48c2-9be8-91e6a7082527",
   "metadata": {},
   "outputs": [
    {
     "name": "stdout",
     "output_type": "stream",
     "text": [
      "Hello\n"
     ]
    }
   ],
   "source": [
    "print(greeting)"
   ]
  },
  {
   "cell_type": "code",
   "execution_count": 22,
   "id": "64492503-dcc2-48d5-8bd5-a58104220202",
   "metadata": {},
   "outputs": [
    {
     "data": {
      "text/plain": [
       "'Hello'"
      ]
     },
     "execution_count": 22,
     "metadata": {},
     "output_type": "execute_result"
    }
   ],
   "source": [
    "# This prints the encoded value when not using print()\n",
    "greeting"
   ]
  },
  {
   "cell_type": "code",
   "execution_count": 23,
   "id": "c9553537-f2b8-4825-af7d-33e2bd88d729",
   "metadata": {},
   "outputs": [
    {
     "name": "stdout",
     "output_type": "stream",
     "text": [
      "Hola.\n"
     ]
    }
   ],
   "source": [
    "spanish_greeting = \"Hola.\"\n",
    "print(spanish_greeting)"
   ]
  },
  {
   "cell_type": "code",
   "execution_count": 24,
   "id": "fc9d5add-a272-4fdf-b667-7136120c0de0",
   "metadata": {},
   "outputs": [
    {
     "name": "stdout",
     "output_type": "stream",
     "text": [
      "Ahlam wamsahlam.\n"
     ]
    }
   ],
   "source": [
    "arabic_greeting = \"Ahlam wamsahlam.\"\n",
    "print(arabic_greeting)"
   ]
  },
  {
   "cell_type": "markdown",
   "id": "5cf2e779-4276-40be-9fdd-48c9a0fd670f",
   "metadata": {},
   "source": [
    "## Exercise 9: String Concatenation"
   ]
  },
  {
   "cell_type": "code",
   "execution_count": 25,
   "id": "dba0f63c-7cd9-439a-9e4f-3927de62f049",
   "metadata": {},
   "outputs": [
    {
     "name": "stdout",
     "output_type": "stream",
     "text": [
      "Hola Senor.\n"
     ]
    }
   ],
   "source": [
    "spanish_greeting = \"Hola \"\n",
    "print(spanish_greeting + \"Senor.\")"
   ]
  },
  {
   "cell_type": "code",
   "execution_count": 26,
   "id": "c87f3487-6e31-4b7a-85da-b52f99bd41ff",
   "metadata": {},
   "outputs": [
    {
     "name": "stdout",
     "output_type": "stream",
     "text": [
      "HelloHelloHelloHelloHello\n"
     ]
    }
   ],
   "source": [
    "# The string \"Hello\" is printed 5 times.\n",
    "greeting = \"Hello\"\n",
    "print(greeting * 5)"
   ]
  },
  {
   "cell_type": "markdown",
   "id": "84b48fd1-b0ab-4993-9634-bf40bc3f2ec6",
   "metadata": {},
   "source": [
    "## Exercise 10: String Methods"
   ]
  },
  {
   "cell_type": "code",
   "execution_count": 27,
   "id": "ab5e5e25-9287-4393-b821-6a975682564f",
   "metadata": {},
   "outputs": [],
   "source": [
    "name = \"Roberto\""
   ]
  },
  {
   "cell_type": "code",
   "execution_count": 28,
   "id": "f8d1f709-65ab-4b4d-beec-3e9b12d5db0b",
   "metadata": {},
   "outputs": [
    {
     "data": {
      "text/plain": [
       "'roberto'"
      ]
     },
     "execution_count": 28,
     "metadata": {},
     "output_type": "execute_result"
    }
   ],
   "source": [
    "name.lower()"
   ]
  },
  {
   "cell_type": "code",
   "execution_count": 29,
   "id": "17f9876f-2bc0-49ce-9f22-65e483317faa",
   "metadata": {},
   "outputs": [
    {
     "data": {
      "text/plain": [
       "'Roberto'"
      ]
     },
     "execution_count": 29,
     "metadata": {},
     "output_type": "execute_result"
    }
   ],
   "source": [
    "name.capitalize()"
   ]
  },
  {
   "cell_type": "code",
   "execution_count": 30,
   "id": "74f65bad-233d-468b-98ca-336cb4be9b19",
   "metadata": {},
   "outputs": [
    {
     "data": {
      "text/plain": [
       "'ROBERTO'"
      ]
     },
     "execution_count": 30,
     "metadata": {},
     "output_type": "execute_result"
    }
   ],
   "source": [
    "name.upper()"
   ]
  },
  {
   "cell_type": "code",
   "execution_count": 31,
   "id": "3b7f37bd-6743-4f14-b107-b6bceb4cb2a2",
   "metadata": {},
   "outputs": [
    {
     "data": {
      "text/plain": [
       "2"
      ]
     },
     "execution_count": 31,
     "metadata": {},
     "output_type": "execute_result"
    }
   ],
   "source": [
    "# The number of times 'o' appears in the string \"Roberto\"\n",
    "name.count('o')"
   ]
  },
  {
   "cell_type": "markdown",
   "id": "c21d2b8e-c6f3-4f16-bdc8-395b8ccd85c5",
   "metadata": {},
   "source": [
    "## Exercise 11: Types and Casting"
   ]
  },
  {
   "cell_type": "code",
   "execution_count": 32,
   "id": "c9c2b98e-c6b3-42ac-85bf-0af6cdf44e16",
   "metadata": {},
   "outputs": [
    {
     "data": {
      "text/plain": [
       "str"
      ]
     },
     "execution_count": 32,
     "metadata": {},
     "output_type": "execute_result"
    }
   ],
   "source": [
    "type('5')"
   ]
  },
  {
   "cell_type": "code",
   "execution_count": 33,
   "id": "446473e5-4285-476e-bb40-d42df4898d04",
   "metadata": {},
   "outputs": [
    {
     "data": {
      "text/plain": [
       "'57'"
      ]
     },
     "execution_count": 33,
     "metadata": {},
     "output_type": "execute_result"
    }
   ],
   "source": [
    "'5' + '7'"
   ]
  },
  {
   "cell_type": "code",
   "execution_count": 34,
   "id": "42f2fc37-7bed-4389-9bb2-88a9212ac342",
   "metadata": {},
   "outputs": [
    {
     "data": {
      "text/plain": [
       "12"
      ]
     },
     "execution_count": 34,
     "metadata": {},
     "output_type": "execute_result"
    }
   ],
   "source": [
    "int('5') + int('7')"
   ]
  },
  {
   "cell_type": "markdown",
   "id": "a37a4b4e-810d-4833-9710-04d72d127ee5",
   "metadata": {},
   "source": [
    "## Exercise 12: The `input()` function"
   ]
  },
  {
   "cell_type": "code",
   "execution_count": 35,
   "id": "da3f58d9-3574-4cfc-9c8e-fc94d6469f4a",
   "metadata": {},
   "outputs": [
    {
     "name": "stdout",
     "output_type": "stream",
     "text": [
      "What is your name?\n"
     ]
    }
   ],
   "source": [
    "print(\"What is your name?\")"
   ]
  },
  {
   "cell_type": "code",
   "execution_count": 36,
   "id": "2b09ba28-cc12-4163-b878-c990485ac4bf",
   "metadata": {},
   "outputs": [
    {
     "name": "stdin",
     "output_type": "stream",
     "text": [
      " rob\n"
     ]
    }
   ],
   "source": [
    "# Input prompt\n",
    "name = input()"
   ]
  },
  {
   "cell_type": "code",
   "execution_count": 37,
   "id": "e2691d40-61da-4e2b-9504-66ce60e2eebb",
   "metadata": {},
   "outputs": [
    {
     "name": "stdout",
     "output_type": "stream",
     "text": [
      "Hello, rob.\n"
     ]
    }
   ],
   "source": [
    "print(\"Hello, \" + name + '.')"
   ]
  },
  {
   "cell_type": "markdown",
   "id": "75a614e9-9766-407b-bc50-1a363b6bd8fe",
   "metadata": {},
   "source": [
    "## Exercise 13: Boolean Variables"
   ]
  },
  {
   "cell_type": "code",
   "execution_count": 38,
   "id": "9d18bd71-1bcd-4186-bc8c-28e68fcf8f63",
   "metadata": {},
   "outputs": [
    {
     "data": {
      "text/plain": [
       "bool"
      ]
     },
     "execution_count": 38,
     "metadata": {},
     "output_type": "execute_result"
    }
   ],
   "source": [
    "over_18 = True\n",
    "type(over_18)"
   ]
  },
  {
   "cell_type": "code",
   "execution_count": 39,
   "id": "47d65fea-f040-425d-ada1-414e5344042b",
   "metadata": {},
   "outputs": [
    {
     "data": {
      "text/plain": [
       "bool"
      ]
     },
     "execution_count": 39,
     "metadata": {},
     "output_type": "execute_result"
    }
   ],
   "source": [
    "over_21 = False\n",
    "type(over_21)"
   ]
  },
  {
   "cell_type": "markdown",
   "id": "6a54a61a-056b-45b9-aa4b-41f07dc2697a",
   "metadata": {},
   "source": [
    "## Exercise 14: Comparison Operators"
   ]
  },
  {
   "cell_type": "code",
   "execution_count": 40,
   "id": "ef86b2b0-7cb2-40b9-adf8-6c980a4684ff",
   "metadata": {},
   "outputs": [
    {
     "data": {
      "text/plain": [
       "False"
      ]
     },
     "execution_count": 40,
     "metadata": {},
     "output_type": "execute_result"
    }
   ],
   "source": [
    "age = 20\n",
    "age < 13"
   ]
  },
  {
   "cell_type": "code",
   "execution_count": 41,
   "id": "81b0662b-95ed-4b91-bcc8-35a97ecf5274",
   "metadata": {},
   "outputs": [
    {
     "data": {
      "text/plain": [
       "True"
      ]
     },
     "execution_count": 41,
     "metadata": {},
     "output_type": "execute_result"
    }
   ],
   "source": [
    "age >= 20 and age <= 21"
   ]
  },
  {
   "cell_type": "code",
   "execution_count": 42,
   "id": "faf1afbc-8700-4d55-9bbf-08f49fb5165a",
   "metadata": {},
   "outputs": [
    {
     "data": {
      "text/plain": [
       "True"
      ]
     },
     "execution_count": 42,
     "metadata": {},
     "output_type": "execute_result"
    }
   ],
   "source": [
    "age != 21"
   ]
  },
  {
   "cell_type": "code",
   "execution_count": 43,
   "id": "d91c2a30-715b-431a-96f2-36c19de1038e",
   "metadata": {},
   "outputs": [
    {
     "data": {
      "text/plain": [
       "False"
      ]
     },
     "execution_count": 43,
     "metadata": {},
     "output_type": "execute_result"
    }
   ],
   "source": [
    "age == 19"
   ]
  },
  {
   "cell_type": "code",
   "execution_count": 44,
   "id": "d70e560f-c74e-4aa4-a191-2018219e11fe",
   "metadata": {},
   "outputs": [
    {
     "data": {
      "text/plain": [
       "True"
      ]
     },
     "execution_count": 44,
     "metadata": {},
     "output_type": "execute_result"
    }
   ],
   "source": [
    "6 == 6.0"
   ]
  },
  {
   "cell_type": "code",
   "execution_count": 45,
   "id": "bc37804c-f12c-4179-8243-3c1c991c4585",
   "metadata": {},
   "outputs": [
    {
     "data": {
      "text/plain": [
       "False"
      ]
     },
     "execution_count": 45,
     "metadata": {},
     "output_type": "execute_result"
    }
   ],
   "source": [
    "6 == '6'"
   ]
  },
  {
   "cell_type": "code",
   "execution_count": 46,
   "id": "fd03bcce-2727-48fa-964c-49ff735c5ca3",
   "metadata": {},
   "outputs": [
    {
     "data": {
      "text/plain": [
       "True"
      ]
     },
     "execution_count": 46,
     "metadata": {},
     "output_type": "execute_result"
    }
   ],
   "source": [
    "(age >= 20 and age < 30) or (age >= 30 and age < 40)"
   ]
  },
  {
   "cell_type": "code",
   "execution_count": 47,
   "id": "5665648c-00ff-4ae1-b0ae-519508a3e25e",
   "metadata": {},
   "outputs": [
    {
     "data": {
      "text/plain": [
       "True"
      ]
     },
     "execution_count": 47,
     "metadata": {},
     "output_type": "execute_result"
    }
   ],
   "source": [
    "(20 <= age < 30) or (30 <= age < 40)"
   ]
  },
  {
   "cell_type": "markdown",
   "id": "af683788-4baf-494f-bbf5-63a5fb1e0f0e",
   "metadata": {},
   "source": [
    "## Exercise 15: Comparing Strings"
   ]
  },
  {
   "cell_type": "code",
   "execution_count": 48,
   "id": "daaa52c0-af09-4cd8-8b8d-60c3471aa9ed",
   "metadata": {},
   "outputs": [
    {
     "data": {
      "text/plain": [
       "True"
      ]
     },
     "execution_count": 48,
     "metadata": {},
     "output_type": "execute_result"
    }
   ],
   "source": [
    "'a' < 'c'"
   ]
  },
  {
   "cell_type": "code",
   "execution_count": 49,
   "id": "760dd1e7-01d3-4ae4-aadd-2d43efa16451",
   "metadata": {},
   "outputs": [
    {
     "data": {
      "text/plain": [
       "False"
      ]
     },
     "execution_count": 49,
     "metadata": {},
     "output_type": "execute_result"
    }
   ],
   "source": [
    "'New York' > 'San Francisco'"
   ]
  },
  {
   "cell_type": "markdown",
   "id": "044ad51c-742e-4e77-9a2a-59c1969012fb",
   "metadata": {},
   "source": [
    "## Exercise 16: Using the IF Syntax"
   ]
  },
  {
   "cell_type": "code",
   "execution_count": 50,
   "id": "12405dc3-1b38-4a0c-84fb-e969261ea8a7",
   "metadata": {},
   "outputs": [],
   "source": [
    "age = 20"
   ]
  },
  {
   "cell_type": "code",
   "execution_count": 51,
   "id": "b6f0d7fa-f911-4fbe-9cfb-7bdff9e3ab86",
   "metadata": {},
   "outputs": [
    {
     "name": "stdout",
     "output_type": "stream",
     "text": [
      "At least you can vote.\n",
      "Poker will have to wait.\n"
     ]
    }
   ],
   "source": [
    "if age >= 18 and age < 21:\n",
    "    print(\"At least you can vote.\")\n",
    "    print(\"Poker will have to wait.\")"
   ]
  },
  {
   "cell_type": "code",
   "execution_count": 52,
   "id": "80b9d71c-21ce-4868-a4cf-1911468b9924",
   "metadata": {},
   "outputs": [
    {
     "name": "stdout",
     "output_type": "stream",
     "text": [
      "You can vote.\n"
     ]
    }
   ],
   "source": [
    "if age >= 18:\n",
    "    print(\"You can vote.\")\n",
    "    if age >= 21:\n",
    "        print('You can play poker.')"
   ]
  },
  {
   "cell_type": "markdown",
   "id": "8b5bccfe-60e9-40cd-846f-66b69c1dd502",
   "metadata": {},
   "source": [
    "## Exercise 17: Using the IF-ELSE Syntax"
   ]
  },
  {
   "cell_type": "code",
   "execution_count": 53,
   "id": "d8ada9d2-db76-419e-8077-869b36657ef0",
   "metadata": {},
   "outputs": [],
   "source": [
    "age = 20"
   ]
  },
  {
   "cell_type": "code",
   "execution_count": 54,
   "id": "dcef74b4-c296-4a5e-b327-44b15e9254c1",
   "metadata": {},
   "outputs": [
    {
     "name": "stdout",
     "output_type": "stream",
     "text": [
      "Welcome to our voting program.\n"
     ]
    }
   ],
   "source": [
    "if age < 18:\n",
    "    print('You aren\\'t old enough to vote.')\n",
    "else:\n",
    "    print('Welcome to our voting program.')"
   ]
  },
  {
   "cell_type": "code",
   "execution_count": 55,
   "id": "2c4f1b1f-10e3-4921-b7a9-d93dc9b9774c",
   "metadata": {},
   "outputs": [
    {
     "name": "stdout",
     "output_type": "stream",
     "text": [
      "Welcome to our voting program.\n"
     ]
    }
   ],
   "source": [
    "if age >= 18:\n",
    "    print('Welcome to our voting program.')\n",
    "else:\n",
    "    print('You aren\\'t old enough to vote.')"
   ]
  },
  {
   "cell_type": "markdown",
   "id": "263cc3fa-ca22-4159-9c0f-1066bf100c1f",
   "metadata": {},
   "source": [
    "## Exercise 18: Calculating Perfect Squares"
   ]
  },
  {
   "cell_type": "markdown",
   "id": "56a1423a-3e58-4737-b0db-7063b8beba2e",
   "metadata": {},
   "source": [
    "```python\n",
    "print(\"Enter a number to see if it's a perfect square.\")\n",
    "```"
   ]
  },
  {
   "cell_type": "markdown",
   "id": "d8bdf8bf-9d9a-400c-b97f-e6128be9891c",
   "metadata": {},
   "source": [
    "```python\n",
    "number = input()\n",
    "```"
   ]
  },
  {
   "cell_type": "markdown",
   "id": "2a397800-173d-4511-a5bf-abdcd95ec592",
   "metadata": {},
   "source": [
    "```python\n",
    "# Sets the variable number to the absolute value inputted by the user\n",
    "number = abs(int(number))\n",
    "```"
   ]
  },
  {
   "cell_type": "markdown",
   "id": "422c8deb-4f12-47bb-a117-e56d4fa1a087",
   "metadata": {},
   "source": [
    "```python\n",
    "# Initializer variables\n",
    "i = -1\n",
    "square = False\n",
    "\n",
    "# Compute the Perfect Square\n",
    "while i <= number**(0.5):\n",
    "    i += 1\n",
    "    # Check the squre root of the number.\n",
    "    if i * i == number:\n",
    "        square = True\n",
    "        break\n",
    "if square:\n",
    "    print('The square root of', number, 'is', i, '.')\n",
    "else:\n",
    "    print('', number, 'is not a perfect square.')\n",
    " ```"
   ]
  },
  {
   "cell_type": "markdown",
   "id": "d288cc1a-95a7-439f-82ae-f2ebbae22e17",
   "metadata": {},
   "source": [
    "## Exercise 19: Real Estate Offer"
   ]
  },
  {
   "cell_type": "code",
   "execution_count": 56,
   "id": "230fbf28-5dfa-42fb-8487-2444ab4da806",
   "metadata": {},
   "outputs": [
    {
     "name": "stdout",
     "output_type": "stream",
     "text": [
      "A one bedroom in the Bay Area is listed at $599,000\n"
     ]
    }
   ],
   "source": [
    "print('A one bedroom in the Bay Area is listed at $599,000')"
   ]
  },
  {
   "cell_type": "code",
   "execution_count": 57,
   "id": "72a94fb4-8830-44c6-b160-012fc10cfc26",
   "metadata": {},
   "outputs": [
    {
     "name": "stdout",
     "output_type": "stream",
     "text": [
      "Enter your first offer on the house.\n"
     ]
    }
   ],
   "source": [
    "print('Enter your first offer on the house.')"
   ]
  },
  {
   "cell_type": "code",
   "execution_count": 58,
   "id": "c07bf22b-f008-4aa6-975c-879aec2216fe",
   "metadata": {},
   "outputs": [
    {
     "name": "stdin",
     "output_type": "stream",
     "text": [
      " 4\n"
     ]
    }
   ],
   "source": [
    "offer = abs(int(input()))"
   ]
  },
  {
   "cell_type": "code",
   "execution_count": 59,
   "id": "3ab1049a-ac78-4c00-a744-fe036177fbb9",
   "metadata": {},
   "outputs": [
    {
     "name": "stdin",
     "output_type": "stream",
     "text": [
      " 7\n"
     ]
    }
   ],
   "source": [
    "best = abs(int(input()))"
   ]
  },
  {
   "cell_type": "code",
   "execution_count": 60,
   "id": "745a5a9b-ca93-4e07-940d-f99286dcec02",
   "metadata": {},
   "outputs": [
    {
     "name": "stdout",
     "output_type": "stream",
     "text": [
      "How much more do you want to offer each time?\n"
     ]
    }
   ],
   "source": [
    "print('How much more do you want to offer each time?')"
   ]
  },
  {
   "cell_type": "code",
   "execution_count": 61,
   "id": "0edffeeb-c462-4f0d-b382-91cad2005323",
   "metadata": {},
   "outputs": [
    {
     "name": "stdin",
     "output_type": "stream",
     "text": [
      " 8\n"
     ]
    }
   ],
   "source": [
    "increment = abs(int(input()))"
   ]
  },
  {
   "cell_type": "code",
   "execution_count": 62,
   "id": "6c179aa5-a5c3-44cd-95cd-a4c76e67c3bc",
   "metadata": {},
   "outputs": [],
   "source": [
    "offer_accepted = False"
   ]
  },
  {
   "cell_type": "code",
   "execution_count": 63,
   "id": "9206bba2-5729-4daf-bb41-f28dfc8d8cdb",
   "metadata": {},
   "outputs": [
    {
     "name": "stdout",
     "output_type": "stream",
     "text": [
      "We're sorry, you're offer of', offer, 'has not been accepted.\n"
     ]
    }
   ],
   "source": [
    "while offer <= best:\n",
    "    if offer >= 650000:\n",
    "        offer_accepted = True\n",
    "        print('Your offer of', offer, 'has been accepted!')\n",
    "        break\n",
    "    else:\n",
    "        print(\"We're sorry, you're offer of', offer, 'has not been accepted.\" )\n",
    "        offer += increment"
   ]
  },
  {
   "cell_type": "markdown",
   "id": "97fc725f-2867-469f-a099-4b0bcc054abe",
   "metadata": {},
   "source": [
    "## Exercise 20: Using FOR Loops"
   ]
  },
  {
   "cell_type": "code",
   "execution_count": 64,
   "id": "51174798-fcee-4753-a4ea-09b891cf429c",
   "metadata": {},
   "outputs": [
    {
     "name": "stdout",
     "output_type": "stream",
     "text": [
      "P\n",
      "o\n",
      "r\n",
      "t\n",
      "l\n",
      "a\n",
      "n\n",
      "d\n"
     ]
    }
   ],
   "source": [
    "for i in 'Portland':\n",
    "    print(i)"
   ]
  },
  {
   "cell_type": "code",
   "execution_count": 65,
   "id": "f112a9d9-53d5-4393-8a42-5756aa516dd8",
   "metadata": {},
   "outputs": [
    {
     "name": "stdout",
     "output_type": "stream",
     "text": [
      "1\n",
      "2\n",
      "3\n",
      "4\n",
      "5\n",
      "6\n",
      "7\n",
      "8\n",
      "9\n"
     ]
    }
   ],
   "source": [
    "for i in range(1,10):\n",
    "    print(i)"
   ]
  },
  {
   "cell_type": "code",
   "execution_count": 66,
   "id": "4e81a6d2-25dd-482b-bfe3-55ee10bb0301",
   "metadata": {},
   "outputs": [
    {
     "name": "stdout",
     "output_type": "stream",
     "text": [
      "0\n",
      "1\n",
      "2\n",
      "3\n",
      "4\n",
      "5\n",
      "6\n",
      "7\n",
      "8\n",
      "9\n"
     ]
    }
   ],
   "source": [
    "for i in range(10):\n",
    "    print(i)"
   ]
  },
  {
   "cell_type": "code",
   "execution_count": 67,
   "id": "cefb034b-c351-4ca5-91a1-499094ac7265",
   "metadata": {},
   "outputs": [
    {
     "name": "stdout",
     "output_type": "stream",
     "text": [
      "1\n",
      "3\n",
      "5\n",
      "7\n",
      "9\n"
     ]
    }
   ],
   "source": [
    "for i in range(1, 11, 2):\n",
    "    print(i)"
   ]
  },
  {
   "cell_type": "code",
   "execution_count": 68,
   "id": "28411bde-761d-42c8-b490-b337e0773c2b",
   "metadata": {},
   "outputs": [
    {
     "name": "stdout",
     "output_type": "stream",
     "text": [
      "3\n",
      "2\n",
      "1\n"
     ]
    }
   ],
   "source": [
    "for i in range(3, 0, -1):\n",
    "    print(i)"
   ]
  },
  {
   "cell_type": "code",
   "execution_count": 69,
   "id": "98977af5-7c5b-4bc9-bb46-0875f510369b",
   "metadata": {},
   "outputs": [
    {
     "name": "stdout",
     "output_type": "stream",
     "text": [
      "C\n",
      "o\n",
      "r\n",
      "e\n",
      "y\n",
      "C\n",
      "o\n",
      "r\n",
      "e\n",
      "y\n",
      "C\n",
      "o\n",
      "r\n",
      "e\n",
      "y\n"
     ]
    }
   ],
   "source": [
    "# This example outputs the string \"Corey\" 3 times.\n",
    "name = \"Corey\"\n",
    "for i in range(3):\n",
    "    for i in name:\n",
    "        print(i)"
   ]
  },
  {
   "cell_type": "code",
   "execution_count": null,
   "id": "7d6766dc-28ba-4c1e-8e49-5f06893c596a",
   "metadata": {},
   "outputs": [],
   "source": []
  }
 ],
 "metadata": {
  "kernelspec": {
   "display_name": "Python 3",
   "language": "python",
   "name": "python3"
  },
  "language_info": {
   "codemirror_mode": {
    "name": "ipython",
    "version": 3
   },
   "file_extension": ".py",
   "mimetype": "text/x-python",
   "name": "python",
   "nbconvert_exporter": "python",
   "pygments_lexer": "ipython3",
   "version": "3.8.8"
  }
 },
 "nbformat": 4,
 "nbformat_minor": 5
}
