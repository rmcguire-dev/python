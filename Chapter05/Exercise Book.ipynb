{
 "cells": [
  {
   "cell_type": "code",
   "execution_count": null,
   "id": "8bc2b81f-e087-4b69-adbe-b80f94766331",
   "metadata": {},
   "outputs": [],
   "source": [
    "## Exercise 70: Exploring Strings"
   ]
  },
  {
   "cell_type": "code",
   "execution_count": 1,
   "id": "11e344da-18ea-4d9f-84b3-f732ca6c477d",
   "metadata": {},
   "outputs": [],
   "source": [
    "# Define a new string.\n",
    "my_str = 'hello World!' "
   ]
  },
  {
   "cell_type": "code",
   "execution_count": 2,
   "id": "3ea9606d-d5c3-42c6-8296-90496e19767d",
   "metadata": {},
   "outputs": [
    {
     "data": {
      "text/plain": [
       "str"
      ]
     },
     "execution_count": 2,
     "metadata": {},
     "output_type": "execute_result"
    }
   ],
   "source": [
    "# Check what class our object is.\n",
    "type(my_str)"
   ]
  },
  {
   "cell_type": "code",
   "execution_count": 3,
   "id": "0103428a-6f31-4927-b05d-01a8a993c92a",
   "metadata": {},
   "outputs": [
    {
     "name": "stdout",
     "output_type": "stream",
     "text": [
      "str(object='') -> str\n",
      "str(bytes_or_buffer[, encoding[, errors]]) -> str\n",
      "\n",
      "Create a new string object from the given object. If encoding or\n",
      "errors is specified, then the object must expose a data buffer\n",
      "that will be decoded using the given encoding and error handler.\n",
      "Otherwise, returns the result of object.__str__() (if defined)\n",
      "or repr(object).\n",
      "encoding defaults to sys.getdefaultencoding().\n",
      "errors defaults to 'strict'.\n"
     ]
    }
   ],
   "source": [
    "# View the docstring for this class.\n",
    "print(my_str.__doc__)"
   ]
  },
  {
   "cell_type": "code",
   "execution_count": 1,
   "id": "399ae8eb-5242-4442-922b-1756f6f43ea3",
   "metadata": {},
   "outputs": [],
   "source": [
    "# View the full list of properties and methods of the class\n",
    "# my_str.__dir__()"
   ]
  },
  {
   "cell_type": "code",
   "execution_count": 5,
   "id": "2854da7a-dc39-4925-95f1-6f4c2f956a9b",
   "metadata": {},
   "outputs": [
    {
     "data": {
      "text/plain": [
       "'Hello world!'"
      ]
     },
     "execution_count": 5,
     "metadata": {},
     "output_type": "execute_result"
    }
   ],
   "source": [
    "my_str.capitalize()"
   ]
  },
  {
   "cell_type": "code",
   "execution_count": 6,
   "id": "a2b80516-73ef-4a78-9ce2-7b31751fefe9",
   "metadata": {},
   "outputs": [
    {
     "data": {
      "text/plain": [
       "'HELLO WORLD!'"
      ]
     },
     "execution_count": 6,
     "metadata": {},
     "output_type": "execute_result"
    }
   ],
   "source": [
    "my_str.upper()"
   ]
  },
  {
   "cell_type": "code",
   "execution_count": 7,
   "id": "361ef96d-2f9c-4d7c-bd21-b0b4fb79d155",
   "metadata": {},
   "outputs": [
    {
     "data": {
      "text/plain": [
       "'helloWorld!'"
      ]
     },
     "execution_count": 7,
     "metadata": {},
     "output_type": "execute_result"
    }
   ],
   "source": [
    "my_str.replace(' ', '')"
   ]
  },
  {
   "cell_type": "markdown",
   "id": "a08d7eaa",
   "metadata": {},
   "source": [
    "## Exercise 71: Creating a Pet Class"
   ]
  },
  {
   "cell_type": "code",
   "execution_count": 2,
   "id": "e1ef5b81",
   "metadata": {},
   "outputs": [],
   "source": [
    "# Define a Pet class with two class attributes and a docstring.\n",
    "class Pet:\n",
    "    \"\"\"A class to capture useful information regarding my pets, just in case I lose track of them.\"\"\"\n",
    "    is_human = False\n",
    "    owner = \"Michael Smith\""
   ]
  },
  {
   "cell_type": "code",
   "execution_count": 3,
   "id": "0dd624f8",
   "metadata": {},
   "outputs": [],
   "source": [
    "# Create an instance of this class\n",
    "chubbles = Pet()"
   ]
  },
  {
   "cell_type": "code",
   "execution_count": 4,
   "id": "c2fb408f",
   "metadata": {},
   "outputs": [
    {
     "data": {
      "text/plain": [
       "False"
      ]
     },
     "execution_count": 4,
     "metadata": {},
     "output_type": "execute_result"
    }
   ],
   "source": [
    "# Check the is_human properties of our new pet, chubbles.\n",
    "chubbles.is_human"
   ]
  },
  {
   "cell_type": "code",
   "execution_count": 5,
   "id": "60f6aad3",
   "metadata": {},
   "outputs": [
    {
     "name": "stdout",
     "output_type": "stream",
     "text": [
      "A class to capture useful information regarding my pets, just in case I lose track of them.\n"
     ]
    }
   ],
   "source": [
    "# Check the owner and print out the docstring for the class\n",
    "chubbles.owner\n",
    "print(chubbles.__doc__)"
   ]
  },
  {
   "cell_type": "markdown",
   "id": "f6d63a8f-9dff-4ad8-9fb1-6b13c18dea4b",
   "metadata": {},
   "source": [
    "## Exercise 72: Creating a Circle Class"
   ]
  },
  {
   "cell_type": "code",
   "execution_count": 1,
   "id": "18bda276-e2eb-4336-a5f0-4adaa35499c2",
   "metadata": {},
   "outputs": [],
   "source": [
    "# Create a Circle class\n",
    "class Circle():\n",
    "    # This is a class attribute or what are traditionally known as a class variables.\n",
    "    is_shape = True\n",
    "    \n",
    "    def __init__(self, radius, color):i\n",
    "        # These are instance attributes or what are traditionally known as instance variables.\n",
    "        self.radius = radius\n",
    "        self.color = color"
   ]
  },
  {
   "cell_type": "code",
   "execution_count": 2,
   "id": "599c0b44-cf72-408c-9c75-ffbf6d3df38b",
   "metadata": {},
   "outputs": [],
   "source": [
    "# Initialize 2 Circle objects\n",
    "first_circle = Circle(2, \"blue\")\n",
    "second_circle = Circle(3, \"red\")"
   ]
  },
  {
   "cell_type": "code",
   "execution_count": 4,
   "id": "f045a33b-f2aa-409f-8e87-e1517e04c9ed",
   "metadata": {},
   "outputs": [
    {
     "name": "stdout",
     "output_type": "stream",
     "text": [
      "blue\n",
      "2\n"
     ]
    }
   ],
   "source": [
    "# Inspect the attributes of the first_circle object.\n",
    "print(first_circle.color)\n",
    "print(first_circle.radius)"
   ]
  },
  {
   "cell_type": "code",
   "execution_count": 5,
   "id": "926fbb05-8c5d-4b3a-9775-62d9a9c5105e",
   "metadata": {},
   "outputs": [
    {
     "name": "stdout",
     "output_type": "stream",
     "text": [
      "red\n",
      "3\n"
     ]
    }
   ],
   "source": [
    "# Inspect the attributes of the second_circle object.\n",
    "print(second_circle.color)\n",
    "print(second_circle.radius)"
   ]
  },
  {
   "cell_type": "markdown",
   "id": "7458dbac-b215-4c29-9b70-386508e888b4",
   "metadata": {},
   "source": [
    "## Exercise 73: The Country Class with Keyword Arguments"
   ]
  },
  {
   "cell_type": "code",
   "execution_count": 6,
   "id": "20489492-ad89-47cb-81d4-f33ed2fc9777",
   "metadata": {},
   "outputs": [],
   "source": [
    "class Country():\n",
    "    def __init__(self, name=\"Unspecified\", population=None, size_kmsq=None):\n",
    "        self.name = name\n",
    "        self.population = population\n",
    "        self.size_kmsq = size_kmsq"
   ]
  },
  {
   "cell_type": "code",
   "execution_count": 7,
   "id": "f8c22aa9-c7d0-4b39-929d-57b4764e2f43",
   "metadata": {},
   "outputs": [],
   "source": [
    "# Example 1\n",
    "usa = Country(name='United States of America', size_kmsq=9.8e6)"
   ]
  },
  {
   "cell_type": "code",
   "execution_count": 8,
   "id": "9ee15163-4b30-4184-98ee-8fa86d3f7cad",
   "metadata": {},
   "outputs": [
    {
     "data": {
      "text/plain": [
       "{'name': 'United States of America',\n",
       " 'population': None,\n",
       " 'size_kmsq': 9800000.0}"
      ]
     },
     "execution_count": 8,
     "metadata": {},
     "output_type": "execute_result"
    }
   ],
   "source": [
    "# List the attributes of the usa object\n",
    "usa.__dict__"
   ]
  },
  {
   "cell_type": "markdown",
   "id": "5ad9cf64-65db-47e0-ba7e-534d3ef2b013",
   "metadata": {},
   "source": [
    "## Exercise 74: Adding an Instance Method to Our Pet Class"
   ]
  },
  {
   "cell_type": "code",
   "execution_count": 1,
   "id": "e204fe3d-3b3a-4a2d-9733-3a23748ff0e2",
   "metadata": {},
   "outputs": [],
   "source": [
    "# An example of adding an instance method to the Pet class.\n",
    "class Pet():\n",
    "    def __init__(self, height):\n",
    "        self.height = height\n",
    "        \n",
    "    is_human = False\n",
    "    owner = \"Michael Smith\"\n",
    "    \n",
    "    def is_tall(self):\n",
    "        return self.height >= 50 "
   ]
  },
  {
   "cell_type": "code",
   "execution_count": 2,
   "id": "3ea2d78b-d6e3-41a2-aa4b-8d9b5648acd5",
   "metadata": {},
   "outputs": [
    {
     "data": {
      "text/plain": [
       "False"
      ]
     },
     "execution_count": 2,
     "metadata": {},
     "output_type": "execute_result"
    }
   ],
   "source": [
    "# Test the method is_tall for values less the 50.\n",
    "bowser = Pet(40)\n",
    "bowser.is_tall()"
   ]
  },
  {
   "cell_type": "code",
   "execution_count": 3,
   "id": "47f9529e-76f9-4bff-bdea-8bc9d1978c74",
   "metadata": {},
   "outputs": [
    {
     "data": {
      "text/plain": [
       "True"
      ]
     },
     "execution_count": 3,
     "metadata": {},
     "output_type": "execute_result"
    }
   ],
   "source": [
    "# Update the height attribute to a value greater then 50.\n",
    "bowser.height = 60\n",
    "bowser.is_tall()"
   ]
  },
  {
   "cell_type": "markdown",
   "id": "a4a4869f-4101-4ad8-8f66-50c7b1deff99",
   "metadata": {},
   "source": [
    "## Exercise 75: Computing the Size of Our Country"
   ]
  },
  {
   "cell_type": "code",
   "execution_count": 4,
   "id": "3047cdbf-cd6b-4c3e-b48f-1145bc7c047d",
   "metadata": {},
   "outputs": [],
   "source": [
    "# An example of the Country class with an instance method size_miles_sq that has a default argument to compute an area.\n",
    "class Country():\n",
    "    def __init__(self, name=\"Unspecified\", population=None, size_kmsq=None):\n",
    "        self.name = name\n",
    "        self.population = population\n",
    "        self.size_kmsq = size_kmsq\n",
    "        \n",
    "    # This instance method converts square kilometeres to square miles with the constant 0.621371\n",
    "    def size_miles_sq(self, conversion_rate=0.621371):\n",
    "        return self.size_kmsq * conversion_rate ** 2"
   ]
  },
  {
   "cell_type": "code",
   "execution_count": 5,
   "id": "404a0d45-377c-42b6-a06a-2e1a63d35fd3",
   "metadata": {},
   "outputs": [
    {
     "data": {
      "text/plain": [
       "919694.772584862"
      ]
     },
     "execution_count": 5,
     "metadata": {},
     "output_type": "execute_result"
    }
   ],
   "source": [
    "# Test the instance instance method size_miles_sq\n",
    "algeria = Country(name='Algeria', size_kmsq=2.382e6)\n",
    "algeria.size_miles_sq()"
   ]
  },
  {
   "cell_type": "code",
   "execution_count": 8,
   "id": "86612e58-a958-4c22-8db4-1fe549447940",
   "metadata": {},
   "outputs": [
    {
     "data": {
      "text/plain": [
       "857520.0"
      ]
     },
     "execution_count": 8,
     "metadata": {},
     "output_type": "execute_result"
    }
   ],
   "source": [
    "# Test the instance method size_miles_sq converted 1 decimal place.\n",
    "algeria.size_miles_sq(0.6)"
   ]
  },
  {
   "cell_type": "markdown",
   "id": "c54cf7ed-0ee2-45ae-84a0-b1cb7fd48cf9",
   "metadata": {},
   "source": [
    "## Exercise 76: Adding an `__str__` Method to the Country Class"
   ]
  },
  {
   "cell_type": "code",
   "execution_count": 8,
   "id": "3972aeb9-4f8d-4bcb-bc99-b5ffd765ca87",
   "metadata": {},
   "outputs": [],
   "source": [
    "# An example of the __str__ dunder method for reprsenting a string within a class.\n",
    "class Country():\n",
    "    def __init__(self, name=\"Unspecified\", population=None, size_kmsq=None):\n",
    "        self.name = name\n",
    "        self.population = population\n",
    "        self.size_kmsq = size_kmsq\n",
    "        \n",
    "    def __str__(self):\n",
    "        label = self.name\n",
    "        if self.population:\n",
    "            label = '%s, population: %s' % (label, self.population)\n",
    "        if self.size_kmsq:\n",
    "            label = '%s, size_kmsq: %s' % (label, self.size_kmsq)\n",
    "        return label"
   ]
  },
  {
   "cell_type": "code",
   "execution_count": 10,
   "id": "d58580eb-ce4a-42a4-9e46-8fe4fed6b13f",
   "metadata": {},
   "outputs": [
    {
     "name": "stdout",
     "output_type": "stream",
     "text": [
      "Chad, population: 100\n"
     ]
    }
   ],
   "source": [
    "# Test the method\n",
    "chad = Country(name=\"Chad\", population=100)\n",
    "print(chad)"
   ]
  },
  {
   "cell_type": "markdown",
   "id": "477be373-61b5-412c-b4ac-5c2196e0d18a",
   "metadata": {},
   "source": [
    "## Exercise 77: Refactoring Instance Methods Using a Static Method"
   ]
  },
  {
   "cell_type": "code",
   "execution_count": 1,
   "id": "f6455420-b711-4f6a-9eb8-f39f3eeb2985",
   "metadata": {},
   "outputs": [],
   "source": [
    "# An example of a Diary class using the functionality of a static method\n",
    "import datetime\n",
    "class Diary():\n",
    "    def __init__(self, birthday, christmas):\n",
    "        self.birthday = birthday\n",
    "        self.christmas = christmas\n",
    "        \n",
    "    def show_birthday(self):\n",
    "        return self.birthday.strftime(\"%d-%b-%y\")\n",
    "    \n",
    "    def show_christmas(self):\n",
    "        return self.christmas.strftime(\"%d-%b-%y\")"
   ]
  },
  {
   "cell_type": "code",
   "execution_count": 2,
   "id": "553ebb48-2745-426a-b8dc-e0773fb4caec",
   "metadata": {},
   "outputs": [
    {
     "data": {
      "text/plain": [
       "'14-May-20'"
      ]
     },
     "execution_count": 2,
     "metadata": {},
     "output_type": "execute_result"
    }
   ],
   "source": [
    "# Test the class\n",
    "my_diary = Diary(datetime.date(2020, 5, 14), datetime.date(2020, 12, 25))\n",
    "my_diary.show_birthday()"
   ]
  },
  {
   "cell_type": "code",
   "execution_count": 8,
   "id": "f61fe30c-36df-4d39-b4cf-6162ab328913",
   "metadata": {},
   "outputs": [],
   "source": [
    "# Add a static method to the class to alter the format of the date in one place for all instance methods.\n",
    "import datetime\n",
    "class Diary():\n",
    "    def __init__(self, birthday, christmas):\n",
    "        self.birthday = birthday\n",
    "        self.christmas = christmas\n",
    "        \n",
    "    @staticmethod\n",
    "    def format_date(date):\n",
    "        return date.strftime(\"%d-%b-%y\")\n",
    "        # return date.strftime(\"%y-%m-%d\")\n",
    "        \n",
    "    def show_birthday(self):\n",
    "        return self.format_date(self.birthday)\n",
    "    \n",
    "    def show_christmas(self):\n",
    "        return self.format_date(self.christmas)"
   ]
  },
  {
   "cell_type": "code",
   "execution_count": 9,
   "id": "ea21989b-0d85-46aa-afdf-9048670ccd9e",
   "metadata": {},
   "outputs": [
    {
     "name": "stdout",
     "output_type": "stream",
     "text": [
      "14-May-20\n",
      "25-Dec-20\n"
     ]
    }
   ],
   "source": [
    "# Test the class with differnent date formats\n",
    "my_diary = Diary(datetime.date(2020, 5, 14), datetime.date(2020, 12, 25))\n",
    "print(my_diary.show_birthday())\n",
    "print(my_diary.show_christmas())"
   ]
  },
  {
   "cell_type": "markdown",
   "id": "bb12cc30-5855-4b6b-b9ee-939272f7696f",
   "metadata": {},
   "source": [
    "## Exercise 78: Extending Our Pet Class with Class Methods"
   ]
  },
  {
   "cell_type": "code",
   "execution_count": 1,
   "id": "3a802f31-aa50-4754-9c9a-9b77ea1f09d0",
   "metadata": {},
   "outputs": [],
   "source": [
    "import random as rand"
   ]
  },
  {
   "cell_type": "code",
   "execution_count": 7,
   "id": "33117ff5-0ea1-4b90-95be-f98b053f820a",
   "metadata": {},
   "outputs": [],
   "source": [
    "# Define the class\n",
    "class Pet():\n",
    "    def __init__(self, height):\n",
    "        self.height = height\n",
    "        \n",
    "    is_human = False\n",
    "    owner = \"Michael Smith\"\n",
    "    \n",
    "    @classmethod\n",
    "    def owned_by_smith(cls):\n",
    "        \"\"\"Retuns True if 'Smith' in owner's name\"\"\"\n",
    "        return \"Smith\" in cls.owner\n",
    "    \n",
    "    @classmethod\n",
    "    def create_random_height_pet(cls):\n",
    "        \"\"\"Creates a random pet height\"\"\"\n",
    "        height = rand.randrange(0, 100)\n",
    "        return cls(height)  "
   ]
  },
  {
   "cell_type": "code",
   "execution_count": 8,
   "id": "c3b63be1-4b4d-46d6-904a-f63df1c63291",
   "metadata": {},
   "outputs": [
    {
     "name": "stdout",
     "output_type": "stream",
     "text": [
      "68\n",
      "67\n",
      "52\n",
      "28\n",
      "27\n"
     ]
    }
   ],
   "source": [
    "# Test the create_random_height_pet class method with some random heights.\n",
    "for i in range(5):\n",
    "    pet = Pet.create_random_height_pet()\n",
    "    print(pet.height)"
   ]
  },
  {
   "cell_type": "markdown",
   "id": "781a23a6-c763-4262-a4fc-db8df9aa8725",
   "metadata": {},
   "source": [
    "## Exercise 79: The Full Name Property"
   ]
  },
  {
   "cell_type": "code",
   "execution_count": 12,
   "id": "f57d2909-58a5-412c-9a7a-5fddf429b9e4",
   "metadata": {},
   "outputs": [],
   "source": [
    "# Create a class with property decorators which displays firstname and lastname together.\n",
    "class Person():\n",
    "    def __init__(self, firstname, lastname):\n",
    "        self.firstname = firstname\n",
    "        self.lastname = lastname\n",
    "        \n",
    "    @property\n",
    "    def full_name(self):\n",
    "        return \"%s %s\" %(self.firstname, self.lastname)"
   ]
  },
  {
   "cell_type": "code",
   "execution_count": 13,
   "id": "6223cf2b-e1ac-4516-b982-42ddc7b03049",
   "metadata": {},
   "outputs": [
    {
     "data": {
      "text/plain": [
       "'Mary Lou'"
      ]
     },
     "execution_count": 13,
     "metadata": {},
     "output_type": "execute_result"
    }
   ],
   "source": [
    "# Test the full_name attribute of the class\n",
    "customer = Person('Mary', 'Lou')\n",
    "customer.full_name"
   ]
  },
  {
   "cell_type": "markdown",
   "id": "592a19f3-9b07-4725-b33f-1d564d935902",
   "metadata": {},
   "source": [
    "## Exercise 80: Writing a Setter Method"
   ]
  },
  {
   "cell_type": "code",
   "execution_count": 13,
   "id": "77a4b950-acd9-4a03-b58e-d8cfa90c3da8",
   "metadata": {},
   "outputs": [],
   "source": [
    "# Define a class that allows the user to update the Fahrenheit property directly.\n",
    "class Temperature():\n",
    "    def __init__(self, celsius):\n",
    "        self.celsius = celsius\n",
    "        \n",
    "    @property\n",
    "    def fahrenheit(self):\n",
    "        return self.celsius * 9 / 5 + 32\n",
    "    \n",
    "    # This updates the celsius attribute after the conversion of fahrenheit to celsius.\n",
    "    @fahrenheit.setter\n",
    "    def fahrenheit(self, value):\n",
    "        self.celsius = (value - 32) * 5 / 9     "
   ]
  },
  {
   "cell_type": "code",
   "execution_count": 14,
   "id": "3497308a-709d-4a09-b765-23c9bb15260b",
   "metadata": {},
   "outputs": [
    {
     "data": {
      "text/plain": [
       "41.0"
      ]
     },
     "execution_count": 14,
     "metadata": {},
     "output_type": "execute_result"
    }
   ],
   "source": [
    "# Test the class\n",
    "temp = Temperature(5)\n",
    "temp.fahrenheit"
   ]
  },
  {
   "cell_type": "code",
   "execution_count": 15,
   "id": "b4cee712-bdef-4e54-b346-ca4bc51b18ae",
   "metadata": {},
   "outputs": [
    {
     "data": {
      "text/plain": [
       "0.0"
      ]
     },
     "execution_count": 15,
     "metadata": {},
     "output_type": "execute_result"
    }
   ],
   "source": [
    "# Update the fahrenheit property and check the celsius attribute\n",
    "temp.fahrenheit = 32\n",
    "temp.celsius"
   ]
  },
  {
   "cell_type": "markdown",
   "id": "cfbe95a8-e5d0-4233-94c4-3a659ec8b5c6",
   "metadata": {},
   "source": [
    "## Exercise 81: Inheriting from the Person Class"
   ]
  },
  {
   "cell_type": "code",
   "execution_count": 32,
   "id": "bda1b3e5-69fd-4527-8821-0c554442ae05",
   "metadata": {},
   "outputs": [],
   "source": [
    "# Create a Person class\n",
    "class Person():\n",
    "    def __init__(self, first_name, last_name):\n",
    "        self.first_name = first_name\n",
    "        self.last_name = last_name"
   ]
  },
  {
   "cell_type": "code",
   "execution_count": 33,
   "id": "ff10e0a2-f58b-4bc7-8d5b-9fb307746cfe",
   "metadata": {},
   "outputs": [],
   "source": [
    "# Create a sub-class called Baby that inherits from the Person class.\n",
    "class Baby(Person):\n",
    "    def speak(self):\n",
    "        print(\"Blah blah blah\")"
   ]
  },
  {
   "cell_type": "code",
   "execution_count": 34,
   "id": "fae1b7cb-9b77-4a91-bcad-5dad05c813d6",
   "metadata": {},
   "outputs": [],
   "source": [
    "# Create a sub-class called Adult that inherits from the Person class.\n",
    "class Adult(Person):\n",
    "    def speak(self):\n",
    "        print('Hello, my name is %s' % self.first_name)"
   ]
  },
  {
   "cell_type": "code",
   "execution_count": 35,
   "id": "1be127a7-9155-4a6d-ad33-6e124fe9b06a",
   "metadata": {},
   "outputs": [],
   "source": [
    "# Test the classes\n",
    "jess = Baby('Jessie', 'Mcdonald')\n",
    "tom = Adult('Thomas', 'Smith')"
   ]
  },
  {
   "cell_type": "code",
   "execution_count": 36,
   "id": "5e0d1c01-e9f9-4064-8439-657498564899",
   "metadata": {},
   "outputs": [
    {
     "name": "stdout",
     "output_type": "stream",
     "text": [
      "Blah blah blah\n",
      "Hello, my name is Thomas\n"
     ]
    }
   ],
   "source": [
    "jess.speak()\n",
    "tom.speak()"
   ]
  },
  {
   "cell_type": "markdown",
   "id": "bf14f284-bfb8-46e4-8def-7b5b10c83cda",
   "metadata": {},
   "source": [
    "## Exercise 82: Sub-Classing the datetime.date Class"
   ]
  },
  {
   "cell_type": "code",
   "execution_count": 38,
   "id": "9ca01b39-9fe2-4b5f-8e88-c0ff05aa9c85",
   "metadata": {},
   "outputs": [],
   "source": [
    "# An example of a custom class that inherits from an external class library.\n",
    "import datetime\n",
    "\n",
    "class MyDate(datetime.date):\n",
    "    def add_days(self, n):\n",
    "        return self + datetime.timedelta(n)"
   ]
  },
  {
   "cell_type": "code",
   "execution_count": 40,
   "id": "70fe7e91-51b5-4a3b-935c-27384144f5e7",
   "metadata": {},
   "outputs": [
    {
     "name": "stdout",
     "output_type": "stream",
     "text": [
      "2020-01-10\n",
      "2021-01-04\n"
     ]
    }
   ],
   "source": [
    "# Create some objects to test the MyDate class\n",
    "d = MyDate(2019, 12, 1)\n",
    "print(d.add_days(40))\n",
    "print(d.add_days(400))"
   ]
  },
  {
   "cell_type": "markdown",
   "id": "ca8b3ede-de22-4d7c-85af-42ec5cf1d7ca",
   "metadata": {},
   "source": [
    "## Exercise 83: Overriding Methods Using `super()`"
   ]
  },
  {
   "cell_type": "code",
   "execution_count": 1,
   "id": "61ae17b3-9197-4643-a008-cc2efa1cd957",
   "metadata": {},
   "outputs": [],
   "source": [
    "import datetime"
   ]
  },
  {
   "cell_type": "code",
   "execution_count": 5,
   "id": "cf15c8fe-b094-43fa-8129-9b75d1ebe972",
   "metadata": {},
   "outputs": [],
   "source": [
    "class Diary():\n",
    "    def __init__(self, birthday, christmas):\n",
    "        self.birthday = birthday\n",
    "        self.christmas = christmas\n",
    "        \n",
    "    @staticmethod\n",
    "    def format_date(date):\n",
    "        return date.strftime('%d-%b-%y')\n",
    "    \n",
    "    def show_birthday(self):\n",
    "        return self.format_date(self.birthday)\n",
    "    \n",
    "    def show_christmas(self):\n",
    "        return self.format_date(self.christmas)\n",
    "    \n",
    "   \n",
    "\n",
    "class CustomDiary(Diary):\n",
    "    \"\"\"This class allows the customizing of the date format for each created instance.\"\"\"\n",
    "    def __init__(self, birthday, christmas, date_format):\n",
    "        self.date_format = date_format\n",
    "        super().__init__(birthday, christmas)\n",
    "        \n",
    "    def format_date(self, date):\n",
    "        return date.strftime(self.date_format)"
   ]
  },
  {
   "cell_type": "code",
   "execution_count": 6,
   "id": "36935afc-24c7-42c6-a000-6281988950f4",
   "metadata": {},
   "outputs": [],
   "source": [
    "# Create some individual instances with different date formats\n",
    "first_diary = CustomDiary(datetime.date(2018,1,1), datetime.date(2018,3,3), '%d-%b-%Y')\n",
    "second_diary = CustomDiary(datetime.date(2018,1,1), datetime.date(2018,3,3), '%d/%m/%Y')"
   ]
  },
  {
   "cell_type": "code",
   "execution_count": 7,
   "id": "599c3762-9da2-4b63-9ac7-1345d11b4010",
   "metadata": {},
   "outputs": [
    {
     "name": "stdout",
     "output_type": "stream",
     "text": [
      "01-Jan-2018\n",
      "03/03/2018\n"
     ]
    }
   ],
   "source": [
    "print(first_diary.show_birthday())\n",
    "print(second_diary.show_christmas())"
   ]
  },
  {
   "cell_type": "markdown",
   "id": "e0cd690c-26f2-47b2-8c39-7c68cf53cdab",
   "metadata": {},
   "source": [
    "## Exercise 84: Creating a Consultation Appointment System"
   ]
  },
  {
   "cell_type": "code",
   "execution_count": 8,
   "id": "e7e17cb0-f6e5-4b44-931c-5ca968735d13",
   "metadata": {},
   "outputs": [],
   "source": [
    "# Multiple Inheritance\n",
    "import datetime"
   ]
  },
  {
   "cell_type": "code",
   "execution_count": 19,
   "id": "241a395e-969c-43b4-9fbb-9527755b70f8",
   "metadata": {},
   "outputs": [],
   "source": [
    "class Person():\n",
    "    def __init__(self, first_name, last_name):\n",
    "        self.first_name = first_name\n",
    "        self.last_name = last_name\n",
    "  \n",
    "\n",
    "class Baby(Person):\n",
    "    def speak(self):\n",
    "        print(\"Blah blah blah!\")\n",
    "  \n",
    "\n",
    "class Adult(Person):\n",
    "    def speak(self):\n",
    "        print('Hello, my name is %s' % self.first_name)\n",
    "        \n",
    "\n",
    "\n",
    "class Calendar():\n",
    "    def book_appointment(self, date):\n",
    "        print('Booking appointment for date %s' % date)\n",
    "        \n",
    "        \n",
    "        \n",
    "class OrganizedBaby(Baby, Calendar):\n",
    "    def book_appointment(self, date):\n",
    "        print('Note that you are booking an appointment with a baby.')\n",
    "        super().book_appointment(date)\n",
    "        \n",
    "        \n",
    "class OrganizedAdult(Adult, Calendar):\n",
    "    pass"
   ]
  },
  {
   "cell_type": "code",
   "execution_count": 20,
   "id": "0d25ddf3-e79c-42f7-bee0-7e59a6116177",
   "metadata": {},
   "outputs": [],
   "source": [
    "# Create some objects\n",
    "andres = OrganizedAdult('Andres', 'Gomez')\n",
    "boris = OrganizedBaby('Boris', 'Bumblebutton')"
   ]
  },
  {
   "cell_type": "code",
   "execution_count": 21,
   "id": "c2dfa3ee-84f9-487f-b793-2fa8b600df0e",
   "metadata": {},
   "outputs": [
    {
     "name": "stdout",
     "output_type": "stream",
     "text": [
      "Hello, my name is Andres\n",
      "Blah blah blah!\n",
      "Note that you are booking an appointment with a baby.\n",
      "Booking appointment for date 2018-01-01\n"
     ]
    }
   ],
   "source": [
    "andres.speak()\n",
    "boris.speak()\n",
    "boris.book_appointment(datetime.date(2018,1,1))"
   ]
  },
  {
   "cell_type": "code",
   "execution_count": 22,
   "id": "fe9d177f-bda0-4181-a952-3ca724f0496b",
   "metadata": {},
   "outputs": [
    {
     "name": "stdout",
     "output_type": "stream",
     "text": [
      "Note that you are booking an appointment with a baby.\n",
      "Booking appointment for date 2018-01-01\n"
     ]
    }
   ],
   "source": [
    "boris = OrganizedBaby('Boris', 'Bumblebutton')\n",
    "boris.book_appointment(datetime.date(2018,1,1))"
   ]
  },
  {
   "cell_type": "code",
   "execution_count": null,
   "id": "2a059a95-e212-4e76-b670-649e0dbce240",
   "metadata": {},
   "outputs": [],
   "source": []
  }
 ],
 "metadata": {
  "kernelspec": {
   "display_name": "Python 3",
   "language": "python",
   "name": "python3"
  },
  "language_info": {
   "codemirror_mode": {
    "name": "ipython",
    "version": 3
   },
   "file_extension": ".py",
   "mimetype": "text/x-python",
   "name": "python",
   "nbconvert_exporter": "python",
   "pygments_lexer": "ipython3",
   "version": "3.8.8"
  },
  "widgets": {
   "application/vnd.jupyter.widget-state+json": {
    "state": {},
    "version_major": 2,
    "version_minor": 0
   }
  }
 },
 "nbformat": 4,
 "nbformat_minor": 5
}
