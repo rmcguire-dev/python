{
 "cells": [
  {
   "cell_type": "markdown",
   "id": "104f6ed1-c103-4e18-8f29-131b13152e6c",
   "metadata": {},
   "source": [
    "# 5. Constructing Python – Classes and Methods\n",
    "\n",
    "By the end of this chapter, you will be able to Use class and instance attributes to distinguish between attributes; use instance methods to perform calculations based on the instance attributes of an object; use static methods to write small utility functions to refactor code in a class to avoid repetition; use property setters to handle the assignment of values to computed properties and perform validation and create classes that inherit methods and attributes from other classes."
   ]
  },
  {
   "cell_type": "markdown",
   "id": "dd45dc46",
   "metadata": {},
   "source": [
    "## Defining Classes"
   ]
  },
  {
   "cell_type": "code",
   "execution_count": 2,
   "id": "39fddd73",
   "metadata": {},
   "outputs": [],
   "source": [
    "# Define the class\n",
    "class Australian():\n",
    "    is_human = True\n",
    "    enjoys_sport = True"
   ]
  },
  {
   "cell_type": "code",
   "execution_count": 3,
   "id": "e784a7db",
   "metadata": {},
   "outputs": [],
   "source": [
    "# Create an Australian object\n",
    "john = Australian()"
   ]
  },
  {
   "cell_type": "code",
   "execution_count": 4,
   "id": "a09e9135",
   "metadata": {},
   "outputs": [
    {
     "data": {
      "text/plain": [
       "__main__.Australian"
      ]
     },
     "execution_count": 4,
     "metadata": {},
     "output_type": "execute_result"
    }
   ],
   "source": [
    "# Check the class of the john object\n",
    "type(john)"
   ]
  },
  {
   "cell_type": "code",
   "execution_count": 5,
   "id": "a3a3584f",
   "metadata": {},
   "outputs": [
    {
     "name": "stdout",
     "output_type": "stream",
     "text": [
      "True\n",
      "True\n"
     ]
    }
   ],
   "source": [
    "# Explore some of the other attributes consigned to the john object\n",
    "print(john.is_human)\n",
    "print(john.enjoys_sport)"
   ]
  },
  {
   "cell_type": "markdown",
   "id": "c5c508c9-ad09-425b-99e2-bd9753005f94",
   "metadata": {},
   "source": [
    "## The `__init__` method\n",
    "Python has a special method called `__init__`, which is called when you initialize an object from one of our class templates.  For example:"
   ]
  },
  {
   "cell_type": "code",
   "execution_count": 6,
   "id": "ef254814-1d60-4d0d-a6df-ca4ad04fef87",
   "metadata": {},
   "outputs": [],
   "source": [
    "class Pet():\n",
    "    \"\"\"A class to capture useful information regarding my pets, just incase I lose track of them.\"\"\"\n",
    "    def __init__(self, height):\n",
    "        self.height = height\n",
    "        \n",
    "    is_human = False\n",
    "    owner = \"Michael Smith\""
   ]
  },
  {
   "cell_type": "code",
   "execution_count": 7,
   "id": "fecc2f1a-476a-48df-a414-90592c35b0f6",
   "metadata": {},
   "outputs": [
    {
     "data": {
      "text/plain": [
       "5"
      ]
     },
     "execution_count": 7,
     "metadata": {},
     "output_type": "execute_result"
    }
   ],
   "source": [
    "# The __init__ method takes the height value and assigns it as an attribute of our new object.\n",
    "chubbles = Pet(height=5)\n",
    "chubbles.height"
   ]
  },
  {
   "cell_type": "markdown",
   "id": "be12a933-6d95-4409-bbe9-66285daf6477",
   "metadata": {},
   "source": [
    "## Keyword Arguments"
   ]
  },
  {
   "cell_type": "code",
   "execution_count": 8,
   "id": "2d9cfd52-54ae-4b40-b15f-ae50efde01f4",
   "metadata": {},
   "outputs": [],
   "source": [
    "# A class where color is a keyword argument within the instance attribute(variable) of the class.\n",
    "class Circle():\n",
    "    is_shape = True\n",
    "    \n",
    "    def __init__(self, radius, color=\"red\"):\n",
    "        self.radius = radius\n",
    "        self.color = color"
   ]
  },
  {
   "cell_type": "code",
   "execution_count": 9,
   "id": "663f3570-c5fc-47c8-b52e-c189f12dd2e8",
   "metadata": {},
   "outputs": [
    {
     "data": {
      "text/plain": [
       "'red'"
      ]
     },
     "execution_count": 9,
     "metadata": {},
     "output_type": "execute_result"
    }
   ],
   "source": [
    "# Create a Circle object using the keyword argument as the default\n",
    "my_circle = Circle(23)\n",
    "my_circle.color"
   ]
  },
  {
   "cell_type": "markdown",
   "id": "0d3d49fe-c504-4ea5-8f1d-2e99ccebd769",
   "metadata": {},
   "source": [
    "## Methods\n",
    "There are three types of methods:\n",
    "* Instance Methods\n",
    "* Staic Methods\n",
    "* Class Methods"
   ]
  },
  {
   "cell_type": "markdown",
   "id": "aaab294d-04dc-4f35-b430-f21f0705c7ee",
   "metadata": {},
   "source": [
    "## Instance Methods\n",
    "Instance methods are the most common type of method you will need to use. They always take `self` as the first positional argument. The `__init__` method discussed in the previous section is an example of an instance method"
   ]
  },
  {
   "cell_type": "code",
   "execution_count": 10,
   "id": "e28ed773-c88b-461a-a4e2-2830259714cf",
   "metadata": {},
   "outputs": [],
   "source": [
    "# An example of the Circle class with an additional instance method\n",
    "import math\n",
    "class Circle():\n",
    "    is_shape = True\n",
    "    \n",
    "    def __init__(self, radius, color=\"red\"):\n",
    "        self.radius = radius\n",
    "        self.color = color\n",
    "        \n",
    "    def area(self):\n",
    "        return math.pi * self.radius ** 2"
   ]
  },
  {
   "cell_type": "code",
   "execution_count": 11,
   "id": "2fffeeed-a514-4d12-9caa-aecf3a2fcbfc",
   "metadata": {},
   "outputs": [
    {
     "data": {
      "text/plain": [
       "28.274333882308138"
      ]
     },
     "execution_count": 11,
     "metadata": {},
     "output_type": "execute_result"
    }
   ],
   "source": [
    "# Test the area method\n",
    "circle = Circle(3)\n",
    "circle.area()"
   ]
  },
  {
   "cell_type": "code",
   "execution_count": 12,
   "id": "4ef92b45-72fc-49e4-9dc8-d1617ac4838a",
   "metadata": {},
   "outputs": [
    {
     "data": {
      "text/plain": [
       "12.566370614359172"
      ]
     },
     "execution_count": 12,
     "metadata": {},
     "output_type": "execute_result"
    }
   ],
   "source": [
    "# Change the radius of the circle by updating the radius attribute directly.\n",
    "circle.radius = 2\n",
    "circle.area()"
   ]
  },
  {
   "cell_type": "markdown",
   "id": "6531c8c4-ec93-490f-8547-7e0e661d17e6",
   "metadata": {},
   "source": [
    "## Adding Arguments to Instance Methods\n",
    "The preceding example showed an instance method that took only the positional `self` parameter. Often, you need to specify other inputs to compute our methods. For instance, in Exercise 74, Adding an Instance Method to Our Pet Class, you hardcoded the definition of \"tall\" as any pet with a height greater than or equal to 50. Instead, you could allow that definition to be passed in via the method in the following manner:"
   ]
  },
  {
   "cell_type": "code",
   "execution_count": 13,
   "id": "de8fe3f2-62ae-43f3-b769-9be324d16f26",
   "metadata": {},
   "outputs": [],
   "source": [
    "# An example of a class where the instance method is_tall has a parameter that is compared to the current value of the height instance attribute.\n",
    "class Pet():\n",
    "    def __init__(self, height):\n",
    "        self.height = height\n",
    "        \n",
    "    is_human = False\n",
    "    owner = \"Michael Smith\"\n",
    "    \n",
    "    def is_tall(self, tall_if_at_least):\n",
    "        return self.height >= tall_if_at_least"
   ]
  },
  {
   "cell_type": "code",
   "execution_count": 14,
   "id": "be490803-984c-4848-b601-6ba7e1f35b23",
   "metadata": {},
   "outputs": [
    {
     "data": {
      "text/plain": [
       "True"
      ]
     },
     "execution_count": 14,
     "metadata": {},
     "output_type": "execute_result"
    }
   ],
   "source": [
    "bowser = Pet(40)\n",
    "bowser.is_tall(30)"
   ]
  },
  {
   "cell_type": "code",
   "execution_count": 15,
   "id": "3322ea32-a0ce-41dc-a0c9-fef994df74d6",
   "metadata": {},
   "outputs": [
    {
     "data": {
      "text/plain": [
       "False"
      ]
     },
     "execution_count": 15,
     "metadata": {},
     "output_type": "execute_result"
    }
   ],
   "source": [
    "# Test the instance method is_tall with a value greater than the current value of the height attribute.\n",
    "bowser.is_tall(50)"
   ]
  },
  {
   "cell_type": "markdown",
   "id": "e6cfcd86-f63a-4b55-8b84-253b57fc73bd",
   "metadata": {},
   "source": [
    "## The `__str__` method\n",
    "Like `__init__`, the `__str__` method is another special instance method that you need to know about. This is the method that is called whenever the object is rendered as a string."
   ]
  },
  {
   "cell_type": "code",
   "execution_count": 16,
   "id": "24e90b33-8a31-4b6b-9941-89d66c39cb7c",
   "metadata": {},
   "outputs": [],
   "source": [
    "# An example of the __str__ instance method in use\n",
    "class Pet():\n",
    "    def __init__(self, height, name):\n",
    "        self.height = height\n",
    "        self.name = name\n",
    "        \n",
    "    is_human = False\n",
    "    owner = \"Michael Smith\"\n",
    "    \n",
    "    def __str__(self):\n",
    "        return \"%s (height: %s cm)\" % (self.name, self.height)"
   ]
  },
  {
   "cell_type": "code",
   "execution_count": 17,
   "id": "296e8936-766d-4f6a-80c9-48f4f70d4223",
   "metadata": {},
   "outputs": [
    {
     "name": "stdout",
     "output_type": "stream",
     "text": [
      "Rudolf (height: 40 cm)\n"
     ]
    }
   ],
   "source": [
    "# Test the method\n",
    "my_other_pet = Pet(40, \"Rudolf\")\n",
    "print(my_other_pet)"
   ]
  },
  {
   "cell_type": "markdown",
   "id": "af48c388-6f00-4db5-a77f-c6e517e7ef99",
   "metadata": {},
   "source": [
    "## Static Methods\n",
    "Static methods are similar to instance methods, except that they do not implicitly pass the positional `self` argument. Static methods are defined by using the `@staticmethod` decorator. Decorators allow us to alter the behavior of functions and classes."
   ]
  },
  {
   "cell_type": "code",
   "execution_count": 18,
   "id": "3285699b-fce1-4950-8303-c49859fb5c83",
   "metadata": {},
   "outputs": [],
   "source": [
    "# An example of a class with a static method\n",
    "class Pet():\n",
    "    def __init__(self, height):\n",
    "        self.height = height\n",
    "        \n",
    "    is_human = False\n",
    "    owner = \"Michael Smith\"\n",
    "    \n",
    "    @staticmethod\n",
    "    def owned_by_smith_family():\n",
    "        return \"Smith\" in Pet.owner"
   ]
  },
  {
   "cell_type": "code",
   "execution_count": 19,
   "id": "e534990d-c87f-493c-9160-9dfe2a03d5df",
   "metadata": {},
   "outputs": [
    {
     "data": {
      "text/plain": [
       "True"
      ]
     },
     "execution_count": 19,
     "metadata": {},
     "output_type": "execute_result"
    }
   ],
   "source": [
    "# Test the method\n",
    "nibbles = Pet(100)\n",
    "nibbles.owned_by_smith_family()"
   ]
  },
  {
   "cell_type": "markdown",
   "id": "daf51d46-65cd-4476-965e-f0469bd2fd18",
   "metadata": {},
   "source": [
    "## Class Methods\n",
    "The third type of method you will explore is class methods. Class methods are like instance methods, except that instead of the instance of an object being passed as the first positional self argument, the class itself is passed as the first argument. As with static methods, you use a decorator to designate a class method."
   ]
  },
  {
   "cell_type": "code",
   "execution_count": 20,
   "id": "2407824d-9984-4c1e-9f25-9b4a0a48d002",
   "metadata": {},
   "outputs": [],
   "source": [
    "# An example of a class method.\n",
    "class Australian():\n",
    "    \n",
    "    is_human = True\n",
    "    enjoys_sport = True\n",
    "    \n",
    "    @classmethod\n",
    "    def is_sporty_human(cls):\n",
    "        return cls.is_human and cls.enjoys_sport"
   ]
  },
  {
   "cell_type": "code",
   "execution_count": 21,
   "id": "facd1df5-f9d4-4e02-b691-d5d3c0778aa4",
   "metadata": {},
   "outputs": [
    {
     "data": {
      "text/plain": [
       "True"
      ]
     },
     "execution_count": 21,
     "metadata": {},
     "output_type": "execute_result"
    }
   ],
   "source": [
    "# Test the method\n",
    "Australian.is_sporty_human()"
   ]
  },
  {
   "cell_type": "code",
   "execution_count": 22,
   "id": "2c5b21c9-c1c4-49b5-bd1d-879cc05a4971",
   "metadata": {},
   "outputs": [
    {
     "data": {
      "text/plain": [
       "True"
      ]
     },
     "execution_count": 22,
     "metadata": {},
     "output_type": "execute_result"
    }
   ],
   "source": [
    "# Alternatively here is an example of calling the method on an instance of the class.\n",
    "aussie = Australian()\n",
    "aussie.is_sporty_human()"
   ]
  },
  {
   "cell_type": "code",
   "execution_count": 31,
   "id": "03855a3c-3038-4d9d-b47f-72ef1110e33c",
   "metadata": {},
   "outputs": [],
   "source": [
    "# An example of using class methods as utilities within a class.\n",
    "class Country():\n",
    "    def __init__(self, name=\"Unspecicified\", population=None, size_kmsq=None):\n",
    "        self.name = name\n",
    "        self.population=population\n",
    "        self.size_kmsq = size_kmsq\n",
    "        \n",
    "    # Takes a square miles input from the user and converts it to square kilometres.\n",
    "    @classmethod\n",
    "    def create_with_msq(cls, name, population, size_msq):\n",
    "        size_kmsq = size_msq / 0.621371 ** 2\n",
    "        return cls(name, population, size_kmsq)"
   ]
  },
  {
   "cell_type": "code",
   "execution_count": 32,
   "id": "2e7ec06c-0025-4144-a95e-1e5e9949761a",
   "metadata": {},
   "outputs": [
    {
     "data": {
      "text/plain": [
       "1968392.1818017708"
      ]
     },
     "execution_count": 32,
     "metadata": {},
     "output_type": "execute_result"
    }
   ],
   "source": [
    "# Create an instance of the class to test its class method\n",
    "mexico = Country.create_with_msq(\"Mexico\", 150000000, 760000)\n",
    "mexico.size_kmsq"
   ]
  },
  {
   "cell_type": "markdown",
   "id": "c2c6290f-c9e7-46d3-a9b7-10ee646cb7c9",
   "metadata": {},
   "source": [
    "## Properties\n",
    "\n",
    "Properties are used to manage the attributes of objects. They are an important and powerful aspect of object-oriented programming but can be challenging to grasp at first. For example, suppose you have an object that has a `height` attribute and a `width` attribute. You might also want such an object to have an `area` property, which is simply the product of the `height` and `width` attributes. You would prefer not to save the area as an attribute of the shape because the area should update whenever the height or width changes. In this sort of scenario, you will want to use a property."
   ]
  },
  {
   "cell_type": "code",
   "execution_count": 1,
   "id": "906011d6-3ae5-4153-a003-2c3d8f4bbf61",
   "metadata": {},
   "outputs": [],
   "source": [
    "# An example of a class without the property decorator\n",
    "class Temperature():\n",
    "    def __init__(self, celsius, fahrenheit):\n",
    "        self.celsius = celsius\n",
    "        self.fahrenheit = fahrenheit"
   ]
  },
  {
   "cell_type": "code",
   "execution_count": 2,
   "id": "e0ed7578-3ee2-4d71-8662-b0ab7badd8d1",
   "metadata": {},
   "outputs": [
    {
     "data": {
      "text/plain": [
       "32"
      ]
     },
     "execution_count": 2,
     "metadata": {},
     "output_type": "execute_result"
    }
   ],
   "source": [
    "# Create some instances\n",
    "freezing = Temperature(0, 32)\n",
    "freezing.fahrenheit"
   ]
  },
  {
   "cell_type": "code",
   "execution_count": 3,
   "id": "325cee1e-1689-409f-b7a9-0a6565aa8362",
   "metadata": {},
   "outputs": [],
   "source": [
    "# An example of deconstructing the Temparature class to store the temperature in Fahrenheit only when needed.\n",
    "class Temperature():\n",
    "    def __init__(self, celsius):\n",
    "        self.celsius = celsius\n",
    "        \n",
    "    def fahrenheit(self):\n",
    "        return self.celsius * 9 / 5 + 32"
   ]
  },
  {
   "cell_type": "code",
   "execution_count": 4,
   "id": "79b6a6a8-7c9f-410c-9afd-ff43e6d60fc4",
   "metadata": {},
   "outputs": [
    {
     "name": "stdout",
     "output_type": "stream",
     "text": [
      "32.0\n"
     ]
    }
   ],
   "source": [
    "# Example 1\n",
    "my_temp = Temperature(0)\n",
    "print(my_temp.fahrenheit())"
   ]
  },
  {
   "cell_type": "code",
   "execution_count": 5,
   "id": "a4a9a084-6f22-4448-9a93-793501472463",
   "metadata": {},
   "outputs": [
    {
     "name": "stdout",
     "output_type": "stream",
     "text": [
      "14.0\n"
     ]
    }
   ],
   "source": [
    "# Example 2\n",
    "my_temp.celsius = -10\n",
    "print(my_temp.fahrenheit())"
   ]
  },
  {
   "cell_type": "code",
   "execution_count": 6,
   "id": "8431af3c-1c04-48b9-931b-5e9321069298",
   "metadata": {},
   "outputs": [],
   "source": [
    "# An example of using the property decorator in the Temperature class to make it an attribute of the class\n",
    "class Temperature():\n",
    "    def __init__(self, celsius):\n",
    "        self.celsius = celsius\n",
    "        \n",
    "    @property    \n",
    "    def fahrenheit(self):\n",
    "        return self.celsius * 9 / 5 + 32"
   ]
  },
  {
   "cell_type": "code",
   "execution_count": 7,
   "id": "5e4dc9bc-00ac-4328-850e-72c940e0fa50",
   "metadata": {},
   "outputs": [
    {
     "data": {
      "text/plain": [
       "212.0"
      ]
     },
     "execution_count": 7,
     "metadata": {},
     "output_type": "execute_result"
    }
   ],
   "source": [
    "# An example of accessing the Fahrenheit property\n",
    "freezing = Temperature(100)\n",
    "freezing.fahrenheit"
   ]
  },
  {
   "cell_type": "markdown",
   "id": "4d15b314-d947-43b1-beb2-eed1641ecc55",
   "metadata": {},
   "source": [
    "### Setters\n",
    "The setter method will be called whenever a user assigns a value to a property. This will allow us to write code where the user doesn't need to think about which attributes of an object are stored as instance attributes rather than computed by functions. Here is an example of what Exercise 79, Full Name Property, would look like if we added a full name setter:"
   ]
  },
  {
   "cell_type": "code",
   "execution_count": 10,
   "id": "42215ed8-a3cf-4030-8502-1c02227a748d",
   "metadata": {},
   "outputs": [],
   "source": [
    "class Person():\n",
    "    def __init__(self, first_name, last_name):\n",
    "        self.first_name = first_name\n",
    "        self.last_name = last_name\n",
    "        \n",
    "    @property\n",
    "    def full_name(self):\n",
    "        return \"%s %s\" %(self.first_name, self.last_name)\n",
    "    \n",
    "    @full_name.setter\n",
    "    def full_name(self, name):\n",
    "        first, last = name.split(\" \")\n",
    "        self.first_name = first\n",
    "        self.last_name = last"
   ]
  },
  {
   "cell_type": "code",
   "execution_count": 11,
   "id": "3d822cbe-1b37-4c6b-9517-c345b2744057",
   "metadata": {},
   "outputs": [
    {
     "data": {
      "text/plain": [
       "'Schmidt'"
      ]
     },
     "execution_count": 11,
     "metadata": {},
     "output_type": "execute_result"
    }
   ],
   "source": [
    "# This allows you to update their last name or first name as you wish\n",
    "customer = Person('Mary', 'Lou')\n",
    "customer.full_name = 'Mary Schmidt'\n",
    "customer.last_name"
   ]
  },
  {
   "cell_type": "markdown",
   "id": "70d867a7-1c65-48ef-ac28-3c5572a28f90",
   "metadata": {},
   "source": [
    "## Validation via the Setter Method\n",
    "Another common use of the setter method is to prevent the user from setting values that shouldn't be allowed. If you consider our previous example with the `Temperature` class, the minimum temperature theoretically possible is approximately -460 degrees Fahrenheit. It seems prudent that you prevent people from creating temperatures that are lower than this value. You can update the setter method from the previous exercise as follows:"
   ]
  },
  {
   "cell_type": "code",
   "execution_count": 1,
   "id": "0f03765e-921b-4e87-ba4f-51f10e15896b",
   "metadata": {},
   "outputs": [],
   "source": [
    "# Define a class that allows the user to update the Fahrenheit property directly.\n",
    "class Temperature():\n",
    "    def __init__(self, celsius):\n",
    "        self.celsius = celsius\n",
    "        \n",
    "    @property\n",
    "    def fahrenheit(self):\n",
    "        return self.celsius * 9 / 5 + 32\n",
    "    \n",
    "    # This updates the celsius attribute after the conversion of fahrenheit to celsius and raise a value error if the argument is invalid\n",
    "    @fahrenheit.setter\n",
    "    def fahrenheit(self, value):\n",
    "        if value < -460:\n",
    "            raise ValueError(\"Temperatures less than -460F are not possible\")\n",
    "        self.celsius = (value - 32) * 5 / 9     "
   ]
  },
  {
   "cell_type": "code",
   "execution_count": 3,
   "id": "922b636d-b279-46b1-ba5e-c064f180ab9b",
   "metadata": {},
   "outputs": [],
   "source": [
    "# Test the setter method with an invalid input\n",
    "temp = Temperature(5)\n",
    "# temp.fahrenheit = -500"
   ]
  },
  {
   "cell_type": "markdown",
   "id": "c014020f-4f08-4559-9f70-2b778a650b7c",
   "metadata": {},
   "source": [
    "## Inheritance\n",
    "Class inheritance allows attributes and methods to be passed from one class to another. For example, suppose there is already a class available in a Python package that does almost everything you want. However, you just wish it had one extra method or attribute that would make it right for your purpose. Instead of rewriting the entire class, you could inherit the class and add additional properties, or change existing properties."
   ]
  },
  {
   "cell_type": "code",
   "execution_count": 1,
   "id": "74c7041c-5282-4b35-9a77-179828334571",
   "metadata": {},
   "outputs": [],
   "source": [
    "# Create the Cat class\n",
    "class Cat():\n",
    "    is_feline = True\n",
    "    \n",
    "    def __init__(self, name, weight):\n",
    "        self.name = name\n",
    "        self.weight = weight"
   ]
  },
  {
   "cell_type": "code",
   "execution_count": 2,
   "id": "b3949800-9c59-41e9-9c02-632c43ed5f0f",
   "metadata": {},
   "outputs": [],
   "source": [
    "# Create the Dog class\n",
    "class Dog():\n",
    "    is_feline = False\n",
    "    \n",
    "    def __init__(self, name, weight):\n",
    "        self.name = name\n",
    "        self.weight = weight\n",
    "        \n",
    "# Note: These classes invalidate the DRY pricinciple."
   ]
  },
  {
   "cell_type": "markdown",
   "id": "87d49817-4d60-4c9f-832e-5c1c5963e1d9",
   "metadata": {},
   "source": [
    "### Single Inheritance\n",
    "Single inheritance, also known as sub-classing, involves creating a child class that inherits the attributes and methods of a single parent class. Taking the preceding example of cats and dogs, we can instead create a `Pet` class that represents all the common parts of the `Cat` and `Dog` classes:"
   ]
  },
  {
   "cell_type": "code",
   "execution_count": 3,
   "id": "dd21bf4e-713f-4c90-a423-e3e6aa575cf7",
   "metadata": {},
   "outputs": [],
   "source": [
    "# Create the Pet class\n",
    "class Pet():\n",
    "    def __init__(self, name, weight):\n",
    "        self.name = name\n",
    "        self.weight = weight"
   ]
  },
  {
   "cell_type": "code",
   "execution_count": 4,
   "id": "843c45dc-5f3e-471f-a155-36cabc9fadce",
   "metadata": {},
   "outputs": [],
   "source": [
    "# The Cat and Dog class can now be created by sub-classing with the parent class Pet.\n",
    "class Cat(Pet):\n",
    "    is_feline = True\n",
    "\n",
    "class Dog(Pet):\n",
    "    is_feline = False"
   ]
  },
  {
   "cell_type": "code",
   "execution_count": 5,
   "id": "6c6d592b-b34b-4dd0-9302-4e561db34e2e",
   "metadata": {},
   "outputs": [
    {
     "data": {
      "text/plain": [
       "'Kibbles'"
      ]
     },
     "execution_count": 5,
     "metadata": {},
     "output_type": "execute_result"
    }
   ],
   "source": [
    "# Test your classes\n",
    "my_cat = Cat('Kibbles', 8)\n",
    "my_cat.name"
   ]
  },
  {
   "cell_type": "markdown",
   "id": "ae7e8010-6ff9-4968-8c59-cea2c20f7a2c",
   "metadata": {},
   "source": [
    "## Sub-Classing Classes from Python Packages\n",
    "In our examples so far, you have written the parent class ourselves. However, often, the reason for sub-classing is that a class already exists in a third-party package, and you just want to extend the functionality of that class with a few custom methods.  \n",
    "\n",
    "For example:"
   ]
  },
  {
   "cell_type": "code",
   "execution_count": 3,
   "id": "0435a2f0-79bb-4137-9015-079709960c01",
   "metadata": {},
   "outputs": [],
   "source": [
    "# Creating a sub-class of int that has an instance method which computes whether an integer is divisible by another number.\n",
    "class MyInt(int):\n",
    "    def is_divisible_by(self, x):\n",
    "        return self % x == 0  "
   ]
  },
  {
   "cell_type": "code",
   "execution_count": 4,
   "id": "119d90f7-d97f-44b6-8ea1-151484c8e9de",
   "metadata": {},
   "outputs": [
    {
     "data": {
      "text/plain": [
       "True"
      ]
     },
     "execution_count": 4,
     "metadata": {},
     "output_type": "execute_result"
    }
   ],
   "source": [
    "# Create some objects\n",
    "a = MyInt(8)\n",
    "a.is_divisible_by(2)"
   ]
  },
  {
   "cell_type": "markdown",
   "id": "cae4ce88-ebdd-426e-afa0-69c60fcd919b",
   "metadata": {},
   "source": [
    "## Overriding Methods\n",
    "When inheriting classes, you often do so in order to change the behavior of the class, not just to extend the behavior. The custom methods or attributes you create on a child class can be used to override the method or attribute that was inherited from the parent."
   ]
  },
  {
   "cell_type": "code",
   "execution_count": 4,
   "id": "794ab7f2-8a3a-4b2b-8d0f-638075351201",
   "metadata": {},
   "outputs": [],
   "source": [
    "class Person():\n",
    "    def __init__(self, first_name, last_name):\n",
    "        self.first_name = first_name\n",
    "        self.last_name = last_name\n",
    "        \n",
    "    @property\n",
    "    def full_name(self):\n",
    "        return \"%s %s\" %(self.first_name, self.last_name)\n",
    "    \n",
    "    @full_name.setter\n",
    "    def full_name(self, name):\n",
    "        first, last = name.split(' ')\n",
    "        self.first_name = first\n",
    "        self.last_name  = last"
   ]
  },
  {
   "cell_type": "code",
   "execution_count": 13,
   "id": "f4ffad30-26d8-436b-b75d-5eabc10b66d4",
   "metadata": {},
   "outputs": [],
   "source": [
    "# Create a sub-class of Person that will print out three or more names in a person's name\n",
    "class BetterPerson(Person):\n",
    "    @property\n",
    "    def full_name(self):\n",
    "        return \"%s %s\" %(self.first_name, self.last_name)\n",
    "    \n",
    "    @full_name.setter\n",
    "    def full_name(self, name):\n",
    "        names = name.split(' ')\n",
    "        self.first_name = names[0]\n",
    "        if len(names) > 2:\n",
    "            self.last_name = ' '.join(names[1:])\n",
    "        else:\n",
    "            self.last_name = names[1]"
   ]
  },
  {
   "cell_type": "code",
   "execution_count": 14,
   "id": "9782244e-db3c-4d38-81c9-b32df44b435d",
   "metadata": {},
   "outputs": [
    {
     "name": "stdout",
     "output_type": "stream",
     "text": [
      "Mary\n",
      "Anne Smith\n"
     ]
    }
   ],
   "source": [
    "# Test the class with some instances\n",
    "my_person = BetterPerson('Mary', 'Smith')\n",
    "my_person.full_name = 'Mary Anne Smith'\n",
    "print(my_person.first_name)\n",
    "print(my_person.last_name)"
   ]
  },
  {
   "cell_type": "markdown",
   "id": "eac51dea-824a-4384-8253-2ff9cde6fafa",
   "metadata": {},
   "source": [
    "### Calling the Parent Method with super()\n",
    "Suppose the parent class has a method that is almost what you want it to be, but you need to make a small alteration to the logic. If you override the method as you did previously, you'll need to specify the entire logic of the method again, which may become a violation of the DRY principle. When building an application, you often require code from third-party libraries, and some of this code can be quite complex. If a certain method has 100 lines of code, you wouldn't want to include all that code in your repository in order to simply change one of those lines."
   ]
  },
  {
   "cell_type": "code",
   "execution_count": 24,
   "id": "997c0751-5b3e-46e6-87aa-f2382f8be055",
   "metadata": {},
   "outputs": [],
   "source": [
    "# An example of super() and its use.\n",
    "class Person():\n",
    "    def __init__(self, first_name, last_name):\n",
    "        self.first_name = first_name\n",
    "        self.last_name = last_name\n",
    "        \n",
    "    def speak(self):\n",
    "         print('Hello, my name is %s' % self.first_name)\n",
    "            \n",
    "            \n",
    "# A sub-class of Person\n",
    "class TalkativePerson(Person):\n",
    "    def speak(self):\n",
    "        print('Hello, my name is %s' %(self.first_name))\n",
    "        print('It is a pleasure to meet you!')"
   ]
  },
  {
   "cell_type": "code",
   "execution_count": 25,
   "id": "b51fc673-8cb7-404a-a870-cbf4aca5f88c",
   "metadata": {},
   "outputs": [
    {
     "name": "stdout",
     "output_type": "stream",
     "text": [
      "Hello, my name is John\n",
      "It is a pleasure to meet you!\n"
     ]
    }
   ],
   "source": [
    "# Create some instances\n",
    "john = TalkativePerson('John', 'Tomic')\n",
    "john.speak()"
   ]
  },
  {
   "cell_type": "code",
   "execution_count": 26,
   "id": "47481a44-2264-4ba3-8e7d-8be6a2d4f3e0",
   "metadata": {},
   "outputs": [],
   "source": [
    "# Using super()\n",
    "class TalkativePerson(Person):\n",
    "    def speak(self):\n",
    "        super().speak()    \n",
    "        print('It is a pleasure to meet you!')"
   ]
  },
  {
   "cell_type": "code",
   "execution_count": 27,
   "id": "b324599b-35e5-4613-88f5-56bac69aef79",
   "metadata": {},
   "outputs": [
    {
     "name": "stdout",
     "output_type": "stream",
     "text": [
      "Hello, my name is John\n",
      "It is a pleasure to meet you!\n"
     ]
    }
   ],
   "source": [
    "john = TalkativePerson('John', 'Tomic')\n",
    "john.speak()"
   ]
  },
  {
   "cell_type": "code",
   "execution_count": null,
   "id": "520d2406-9bb4-439e-bd4a-9158396f8468",
   "metadata": {},
   "outputs": [],
   "source": []
  }
 ],
 "metadata": {
  "kernelspec": {
   "display_name": "Python 3",
   "language": "python",
   "name": "python3"
  },
  "language_info": {
   "codemirror_mode": {
    "name": "ipython",
    "version": 3
   },
   "file_extension": ".py",
   "mimetype": "text/x-python",
   "name": "python",
   "nbconvert_exporter": "python",
   "pygments_lexer": "ipython3",
   "version": "3.8.8"
  },
  "widgets": {
   "application/vnd.jupyter.widget-state+json": {
    "state": {},
    "version_major": 2,
    "version_minor": 0
   }
  }
 },
 "nbformat": 4,
 "nbformat_minor": 5
}
