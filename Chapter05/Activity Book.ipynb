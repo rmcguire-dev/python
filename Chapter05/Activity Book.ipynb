{
 "cells": [
  {
   "cell_type": "markdown",
   "id": "8ac5ddbf-41ac-4536-bcd5-78a941bb7094",
   "metadata": {},
   "source": [
    "## Classes and Objects\n",
    "Classes are fundamental to object-oriented programming languages such as Python. A class is simply a template for creating objects. Classes define an object's various properties and specify the things you can do with that object. So far in this book, you have been relying on classes defined in the Python standard library or built into the Python programming language itself."
   ]
  },
  {
   "cell_type": "code",
   "execution_count": 14,
   "id": "16e69002-6284-4075-a8dd-1c3f1a12012a",
   "metadata": {},
   "outputs": [],
   "source": [
    "# Example 1\n",
    "x = 10"
   ]
  },
  {
   "cell_type": "code",
   "execution_count": 15,
   "id": "9e8f3765-e948-492b-8d4d-93f81fdbc7ed",
   "metadata": {},
   "outputs": [
    {
     "data": {
      "text/plain": [
       "10"
      ]
     },
     "execution_count": 15,
     "metadata": {},
     "output_type": "execute_result"
    }
   ],
   "source": [
    "x"
   ]
  },
  {
   "cell_type": "code",
   "execution_count": 16,
   "id": "044ffc6c-e478-4ede-ac43-26637145ae63",
   "metadata": {},
   "outputs": [
    {
     "data": {
      "text/plain": [
       "int"
      ]
     },
     "execution_count": 16,
     "metadata": {},
     "output_type": "execute_result"
    }
   ],
   "source": [
    "# x is a mwmber of the integer class\n",
    "type(x)"
   ]
  },
  {
   "cell_type": "code",
   "execution_count": 17,
   "id": "3fee4b37-8fc8-468f-b6d7-ddddc462683f",
   "metadata": {},
   "outputs": [
    {
     "data": {
      "text/plain": [
       "4"
      ]
     },
     "execution_count": 17,
     "metadata": {},
     "output_type": "execute_result"
    }
   ],
   "source": [
    "# A method from the integer class which computes the number of binary digits for the value x\n",
    "x.bit_length()"
   ]
  },
  {
   "cell_type": "code",
   "execution_count": 20,
   "id": "c1e8881e-79de-43da-af19-d9cae714e540",
   "metadata": {},
   "outputs": [
    {
     "name": "stdout",
     "output_type": "stream",
     "text": [
      "int([x]) -> integer\n",
      "int(x, base=10) -> integer\n",
      "\n",
      "Convert a number or string to an integer, or return 0 if no arguments\n",
      "are given.  If x is a number, return x.__int__().  For floating point\n",
      "numbers, this truncates towards zero.\n",
      "\n",
      "If x is not a number or if base is given, then x must be a string,\n",
      "bytes, or bytearray instance representing an integer literal in the\n",
      "given base.  The literal can be preceded by '+' or '-' and be surrounded\n",
      "by whitespace.  The base defaults to 10.  Valid bases are 0 and 2-36.\n",
      "Base 0 means to interpret the base from the string as an integer literal.\n",
      ">>> int('0b100', base=0)\n",
      "4\n"
     ]
    }
   ],
   "source": [
    "# Prints out a docstring for an object and its class.\n",
    "print(x.__doc__)"
   ]
  },
  {
   "cell_type": "markdown",
   "id": "33277233-bcb1-49be-b187-f62994cc9111",
   "metadata": {},
   "source": [
    "## Activity 14: Creating Classes and Inheriting from a Parent Class"
   ]
  },
  {
   "cell_type": "code",
   "execution_count": 41,
   "id": "83d4d48a-9e88-4db3-83e7-6d9df89cb879",
   "metadata": {},
   "outputs": [],
   "source": [
    "class Polygon():\n",
    "    \"\"\"A class that computes the area and perimeter of a square or a rectangle.\"\"\"\n",
    "    \n",
    "    def __init__(self, number_of_sides, side_length):\n",
    "        self.number_of_sides = number_of_sides\n",
    "        self.side_length = side_length\n",
    "        \n",
    "    def __str__(self):\n",
    "        return \"Polygon with %s sides\" %(self.number_of_sides)  \n",
    "        \n",
    "    @property\n",
    "    def num_sides(self):\n",
    "        return self.number_of_sides\n",
    "        \n",
    "        \n",
    "    @property\n",
    "    def perimeter(self):\n",
    "        return self.number_of_sides * self.side_length"
   ]
  },
  {
   "cell_type": "code",
   "execution_count": 40,
   "id": "0e174dd0-7a87-4221-9a46-3a03d49f2cbb",
   "metadata": {},
   "outputs": [],
   "source": [
    "class Rectangle(Polygon):\n",
    "    def __init__(self, height, width):\n",
    "        self.height = height\n",
    "        self.width = width\n",
    "        \n",
    "    @property\n",
    "    def area(self):\n",
    "        return self.height * self.width\n",
    "    \n",
    "    @property\n",
    "    def perimeter(self):\n",
    "        return 2 * (self.height + self.width)"
   ]
  },
  {
   "cell_type": "code",
   "execution_count": 42,
   "id": "ed432f8c-1549-4da0-9886-a878ae78c631",
   "metadata": {},
   "outputs": [],
   "source": [
    "class Square(Rectangle):\n",
    "    def __init__(self, height):\n",
    "        super().__init__(height, height)"
   ]
  },
  {
   "cell_type": "code",
   "execution_count": 43,
   "id": "3d96c67b-2695-4dbe-8533-a783859dd245",
   "metadata": {},
   "outputs": [],
   "source": [
    "r = Rectangle(1, 5)\n",
    "s = Square(5)"
   ]
  },
  {
   "cell_type": "code",
   "execution_count": 44,
   "id": "7c0346e1-6ca9-4a80-9b0a-207aa3d9e8b5",
   "metadata": {},
   "outputs": [
    {
     "data": {
      "text/plain": [
       "(5, 12)"
      ]
     },
     "execution_count": 44,
     "metadata": {},
     "output_type": "execute_result"
    }
   ],
   "source": [
    "r.area, r.perimeter"
   ]
  },
  {
   "cell_type": "code",
   "execution_count": 45,
   "id": "d7bab980-876a-42cf-a18f-9b0103ae7a9d",
   "metadata": {},
   "outputs": [
    {
     "data": {
      "text/plain": [
       "(25, 20)"
      ]
     },
     "execution_count": 45,
     "metadata": {},
     "output_type": "execute_result"
    }
   ],
   "source": [
    "s.area, s.perimeter"
   ]
  },
  {
   "cell_type": "code",
   "execution_count": null,
   "id": "7b136996-f89e-4222-8100-8d886b1aa282",
   "metadata": {},
   "outputs": [],
   "source": []
  }
 ],
 "metadata": {
  "kernelspec": {
   "display_name": "Python 3",
   "language": "python",
   "name": "python3"
  },
  "language_info": {
   "codemirror_mode": {
    "name": "ipython",
    "version": 3
   },
   "file_extension": ".py",
   "mimetype": "text/x-python",
   "name": "python",
   "nbconvert_exporter": "python",
   "pygments_lexer": "ipython3",
   "version": "3.8.8"
  },
  "widgets": {
   "application/vnd.jupyter.widget-state+json": {
    "state": {},
    "version_major": 2,
    "version_minor": 0
   }
  }
 },
 "nbformat": 4,
 "nbformat_minor": 5
}
