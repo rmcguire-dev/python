{
 "cells": [
  {
   "cell_type": "markdown",
   "id": "b2607006-570e-4639-b669-5516eaefdf1e",
   "metadata": {},
   "source": [
    "## Activity 6: Using a Nested List to Store Employee Data"
   ]
  },
  {
   "cell_type": "code",
   "execution_count": null,
   "id": "1b61f93e-8ff5-410d-9f8b-00720205329d",
   "metadata": {},
   "outputs": [],
   "source": []
  },
  {
   "cell_type": "code",
   "execution_count": 53,
   "id": "b06b29ff-26d9-4186-9fbd-601dec31630f",
   "metadata": {},
   "outputs": [],
   "source": [
    "# Initialize an employees nested list\n",
    "employees = [[\"John McKee\", 38, \"Sales\"], [\"Lisa Crawford\", 29, \"Marketing\"], [\"Sujan Patel\", 33, \"HR\"]]"
   ]
  },
  {
   "cell_type": "code",
   "execution_count": 54,
   "id": "d648508b-207e-4eb1-8528-d8d80f385c5f",
   "metadata": {},
   "outputs": [
    {
     "name": "stdout",
     "output_type": "stream",
     "text": [
      "[['John McKee', 38, 'Sales'], ['Lisa Crawford', 29, 'Marketing'], ['Sujan Patel', 33, 'HR']]\n"
     ]
    }
   ],
   "source": [
    "# Output the employees list\n",
    "print(employees)"
   ]
  },
  {
   "cell_type": "code",
   "execution_count": 56,
   "id": "47a94154-8d57-41bb-94f8-e3ff6aa3ae11",
   "metadata": {},
   "outputs": [
    {
     "name": "stdout",
     "output_type": "stream",
     "text": [
      "Name: John McKee\n",
      "Age: 38\n",
      "Department: Sales\n",
      "--------------------\n",
      "Name: Lisa Crawford\n",
      "Age: 29\n",
      "Department: Marketing\n",
      "--------------------\n",
      "Name: Sujan Patel\n",
      "Age: 33\n",
      "Department: HR\n",
      "--------------------\n"
     ]
    }
   ],
   "source": [
    "# Output the details of all employees in a presentable format\n",
    "for i in range(len(employees)):\n",
    "    print(\"Name: {}\".format(employees[i][0]))\n",
    "    print(\"Age: {}\".format(employees[i][1]))\n",
    "    print(\"Department: {}\".format(employees[i][2]))\n",
    "    print(20 * \"-\")"
   ]
  },
  {
   "cell_type": "code",
   "execution_count": 57,
   "id": "a7679641-4629-4ca5-8f27-c83f9491e721",
   "metadata": {},
   "outputs": [
    {
     "name": "stdout",
     "output_type": "stream",
     "text": [
      "['Lisa Crawford', 29, 'Marketing']\n",
      "Name: Lisa Crawford\n",
      "Age: 29\n",
      "Department Marketing\n",
      "--------------------\n"
     ]
    }
   ],
   "source": [
    "# Output the details of \"Lisa Crawford\" in presentable format\n",
    "print(employees[1][0:])\n",
    "print(\"Name: {}\".format(employees[1][0]))\n",
    "print(\"Age: {}\".format(employees[1][1]))\n",
    "print(\"Department {}\".format(employees[1][2]))\n",
    "print(20 * \"-\")"
   ]
  },
  {
   "cell_type": "markdown",
   "id": "abc7b08b-d6cb-4ba2-a54f-959524788c23",
   "metadata": {},
   "source": [
    "## Activity 7: Storing Company Employee Table Data Using a List and a Dictionary"
   ]
  },
  {
   "cell_type": "code",
   "execution_count": 5,
   "id": "c52c50e4-ff53-4777-8284-9adbc14c48dc",
   "metadata": {},
   "outputs": [],
   "source": [
    "# Initialize an emplty list\n",
    "employees = []"
   ]
  },
  {
   "cell_type": "code",
   "execution_count": 6,
   "id": "93130f13-def9-4e98-bb83-a36216478daa",
   "metadata": {},
   "outputs": [],
   "source": [
    "# Create an employee1 dicitonary\n",
    "employee1 = {\n",
    "    \"name\": \"John McKnee\",\n",
    "    \"age\": 38,\n",
    "    \"department\": \"Sales\"\n",
    "}"
   ]
  },
  {
   "cell_type": "code",
   "execution_count": 7,
   "id": "d4795f3d-72be-4ff8-a1c5-75e0d421e42e",
   "metadata": {},
   "outputs": [],
   "source": [
    "# Create an employee2 dictionary\n",
    "employee2 = {\n",
    "    \"name\": \"Lisa Crawford\",\n",
    "    \"age\": 29,\n",
    "    \"department\": \"Marketing\"\n",
    "}"
   ]
  },
  {
   "cell_type": "code",
   "execution_count": 8,
   "id": "25b84b67-6961-4f27-8b2e-02c997947cfa",
   "metadata": {},
   "outputs": [],
   "source": [
    "# Create an employee3 dictionary\n",
    "employee3 = {\n",
    "    \"name\": \"Sujan Patel\",\n",
    "    \"age\": 33,\n",
    "    \"department\": \"HR\"\n",
    "}"
   ]
  },
  {
   "cell_type": "code",
   "execution_count": 9,
   "id": "b74e8627-2f7f-4f93-a216-36af329da1ba",
   "metadata": {},
   "outputs": [],
   "source": [
    "# Add the dictionaries to the employees list\n",
    "employees.append(employee1)\n",
    "employees.append(employee2)\n",
    "employees.append(employee3)"
   ]
  },
  {
   "cell_type": "code",
   "execution_count": 10,
   "id": "bfa417b0-938e-4378-ada2-cc0f4e0f84fc",
   "metadata": {},
   "outputs": [
    {
     "name": "stdout",
     "output_type": "stream",
     "text": [
      "[{'name': 'John McKnee', 'age': 38, 'department': 'Sales'}, {'name': 'Lisa Crawford', 'age': 29, 'department': 'Marketing'}, {'name': 'Sujan Patel', 'age': 33, 'department': 'HR'}]\n"
     ]
    }
   ],
   "source": [
    "print(employees)"
   ]
  },
  {
   "cell_type": "code",
   "execution_count": 49,
   "id": "f7431ecb-6d1e-4c5c-9dbd-56a060950d05",
   "metadata": {},
   "outputs": [
    {
     "name": "stdout",
     "output_type": "stream",
     "text": [
      "Name: John McKnee\n",
      "Age: 38\n",
      "Department: Sales\n",
      "--------------------\n",
      "Name: Lisa Crawford\n",
      "Age: 29\n",
      "Department: Marketing\n",
      "--------------------\n",
      "Name: Sujan Patel\n",
      "Age: 33\n",
      "Department: HR\n",
      "--------------------\n"
     ]
    }
   ],
   "source": [
    "# Output the employees details in a presentable format\n",
    "for employee in employees:\n",
    "    print(\"Name: {}\".format(employee['name']))\n",
    "    print(\"Age: {}\".format(employee['age']))\n",
    "    print(\"Department: {}\".format(employee['department']))\n",
    "    print('-' * 20)"
   ]
  },
  {
   "cell_type": "code",
   "execution_count": 51,
   "id": "1bda3428-c26e-4da7-8db3-492816dc208f",
   "metadata": {},
   "outputs": [
    {
     "name": "stdout",
     "output_type": "stream",
     "text": [
      "Name: Sujan Patel\n",
      "Age: 33\n",
      "Department: HR\n",
      "--------------------\n"
     ]
    }
   ],
   "source": [
    "# Print out the details of employee \"Sujan Patel\" in a presentable format\n",
    "for employee in employees:\n",
    "    if employee[\"name\"] == \"Sujan Patel\":\n",
    "        print(\"Name: {}\".format(employee['name']))\n",
    "        print(\"Age: {}\".format(employee['age']))\n",
    "        print(\"Department: {}\".format(employee['department']))\n",
    "        print('-' * 20)    "
   ]
  },
  {
   "cell_type": "code",
   "execution_count": null,
   "id": "a521d32d-cdb0-46df-ae71-2c00429a98da",
   "metadata": {},
   "outputs": [],
   "source": []
  }
 ],
 "metadata": {
  "kernelspec": {
   "display_name": "Python 3",
   "language": "python",
   "name": "python3"
  },
  "language_info": {
   "codemirror_mode": {
    "name": "ipython",
    "version": 3
   },
   "file_extension": ".py",
   "mimetype": "text/x-python",
   "name": "python",
   "nbconvert_exporter": "python",
   "pygments_lexer": "ipython3",
   "version": "3.8.8"
  }
 },
 "nbformat": 4,
 "nbformat_minor": 5
}
