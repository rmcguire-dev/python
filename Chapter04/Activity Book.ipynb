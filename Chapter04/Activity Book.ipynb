{
 "cells": [
  {
   "cell_type": "markdown",
   "id": "23d53f8e-d90f-45cb-8f0c-93bd4331c1c5",
   "metadata": {},
   "source": [
    "## Activity 13: Visualizing the Titanic Dataset Using a Pie Chart and Bar Plots"
   ]
  },
  {
   "cell_type": "code",
   "execution_count": 15,
   "id": "12aeda0b-8704-4045-aacd-e1416548e28b",
   "metadata": {},
   "outputs": [],
   "source": [
    "# Load the CSV file\n",
    "import csv\n",
    "lines = []\n",
    "with open('titanic_train.csv') as csv_file:\n",
    "    csv_reader = csv.reader(csv_file, delimiter=',')\n",
    "    for line in csv_reader:\n",
    "        lines.append(line)"
   ]
  },
  {
   "cell_type": "code",
   "execution_count": 27,
   "id": "6593f2b3-7da9-48fa-b6ac-b58e4ce05536",
   "metadata": {},
   "outputs": [],
   "source": [
    "# Prepare a data object that stores all the passengers details using the following variables\n",
    "data = lines[1:]\n",
    "passengers = []\n",
    "headers = lines[0]"
   ]
  },
  {
   "cell_type": "code",
   "execution_count": 28,
   "id": "8f7b4ac3-a973-4fb1-a679-d577648dcd7b",
   "metadata": {},
   "outputs": [],
   "source": [
    "# Method I - Using a dictionary\n",
    "for d in data:\n",
    "    p = {}\n",
    "    for i in range(0,len(headers)):\n",
    "        key = headers[i]\n",
    "        value = d[i]\n",
    "        p[key] = value\n",
    "    passengers.append(p)"
   ]
  },
  {
   "cell_type": "code",
   "execution_count": 29,
   "id": "e3f4e633-de6d-4b6a-9fd9-90a25daad03f",
   "metadata": {},
   "outputs": [],
   "source": [
    "# Method I - Create some list comprehensions\n",
    "survived = [p['Survived'] for p in passengers]\n",
    "pclass = [p['Pclass'] for p in passengers]\n",
    "age = [float(p['Age']) for p in passengers if p['Age'] != '']\n",
    "gender_survived = [p['Sex'] for p in passengers if int(p['Survived']) == 1]"
   ]
  },
  {
   "cell_type": "code",
   "execution_count": 19,
   "id": "f4cb2314-c7cb-41d5-9654-4e92dfef38f2",
   "metadata": {},
   "outputs": [],
   "source": [
    "# for d in data: \n",
    "    # passengers.append(d)"
   ]
  },
  {
   "cell_type": "code",
   "execution_count": 20,
   "id": "5e57a0e1-9fc7-4e2d-8cca-f5b375954bc4",
   "metadata": {},
   "outputs": [],
   "source": [
    "# survived = []\n",
    "# pclass = []\n",
    "# age = []\n",
    "# gender_survived = []"
   ]
  },
  {
   "cell_type": "code",
   "execution_count": 21,
   "id": "aed79eb6-f1db-495f-9cc1-cd6fea86b1ac",
   "metadata": {},
   "outputs": [],
   "source": [
    "# for i in range(0, len(passengers)): \n",
    "    # survived.append(passengers[i][1])"
   ]
  },
  {
   "cell_type": "code",
   "execution_count": 22,
   "id": "07a333d6-0388-4a5e-b4e6-d347d1bd53d1",
   "metadata": {},
   "outputs": [],
   "source": [
    "# for i in range(0, len(passengers)): \n",
    "    # pclass.append(passengers[i][2])"
   ]
  },
  {
   "cell_type": "code",
   "execution_count": 23,
   "id": "2da43145-9d9f-4210-866f-2eea44009e72",
   "metadata": {},
   "outputs": [],
   "source": [
    "# for i in range(0, len(passengers)): \n",
    "    # age.append(passengers[i][5])"
   ]
  },
  {
   "cell_type": "code",
   "execution_count": 24,
   "id": "6b838475-686e-49a0-a900-6da0f45b563b",
   "metadata": {},
   "outputs": [],
   "source": [
    "# for i in range(0, len(passengers)): \n",
    "    # gender_survived.append(passengers[i][4])"
   ]
  },
  {
   "cell_type": "code",
   "execution_count": 30,
   "id": "06611f9c-1dc5-4a95-afba-f6cc7d9ea984",
   "metadata": {},
   "outputs": [
    {
     "data": {
      "image/png": "[encoded data removed]",
      "text/plain": [
       "<Figure size 432x288 with 1 Axes>"
      ]
     },
     "metadata": {},
     "output_type": "display_data"
    }
   ],
   "source": [
    "import matplotlib.pyplot as plt\n",
    "\n",
    "# Data to plot\n",
    "survived_or_not_survived = []\n",
    "survived_or_not_survived.append(survived.count('0'))\n",
    "survived_or_not_survived.append(survived.count('1'))\n",
    "labels = 0, 1\n",
    "\n",
    "# Plot\n",
    "plt.pie(survived_or_not_survived, labels=labels, autopct='%1.1f%%', colors=['lightblue', 'lightgreen', 'yellow'])\n",
    "plt.title('Survived')\n",
    "plt.show()"
   ]
  },
  {
   "cell_type": "code",
   "execution_count": 33,
   "id": "a5deb08e-d864-41e8-adc0-d20df31e0f0e",
   "metadata": {},
   "outputs": [
    {
     "data": {
      "image/png": "[encoded data removed]",
      "text/plain": [
       "<Figure size 432x288 with 1 Axes>"
      ]
     },
     "metadata": {
      "needs_background": "light"
     },
     "output_type": "display_data"
    }
   ],
   "source": [
    "import matplotlib.pyplot as plt\n",
    "\n",
    "# Data to plot\n",
    "gender = []\n",
    "gender.append(gender_survived.count(\"male\"))\n",
    "gender.append(gender_survived.count(\"female\"))\n",
    "sex = [\"male\", \"female\"]\n",
    "\n",
    "# Plot\n",
    "plt.title('surviving passengers count by gender')\n",
    "plt.bar(sex, gender)\n",
    "plt.show()"
   ]
  },
  {
   "cell_type": "code",
   "execution_count": null,
   "id": "be0912cc-4738-4c91-830c-c08b25b47797",
   "metadata": {},
   "outputs": [],
   "source": []
  }
 ],
 "metadata": {
  "kernelspec": {
   "display_name": "Python 3",
   "language": "python",
   "name": "python3"
  },
  "language_info": {
   "codemirror_mode": {
    "name": "ipython",
    "version": 3
   },
   "file_extension": ".py",
   "mimetype": "text/x-python",
   "name": "python",
   "nbconvert_exporter": "python",
   "pygments_lexer": "ipython3",
   "version": "3.8.8"
  }
 },
 "nbformat": 4,
 "nbformat_minor": 5
}
