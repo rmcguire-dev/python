{
 "cells": [
  {
   "cell_type": "markdown",
   "id": "05efa59c-40dc-48ed-b579-1b9b17c7769d",
   "metadata": {},
   "source": [
    "# 4. Extending Python, Files, Errors, and Graphs\n",
    "\n",
    "By the end of this chapter, you will be able to read and write to files using Python; use defensive programming techniques, such as assertions, to debug your code; use exceptions, assertions, and tests with a defensive mindset and plot, draw and create graphs as outputs using Python.  We will cover the basic input/output (I/O) operations for Python and how to use the matplotlib and seaborn libraries to create visualizations."
   ]
  },
  {
   "cell_type": "markdown",
   "id": "d113370b-d974-42bc-94f0-44f71afe5e59",
   "metadata": {},
   "source": [
    "## Writing Files"
   ]
  },
  {
   "cell_type": "code",
   "execution_count": 1,
   "id": "b35dca26-48a8-423d-983f-880dc93aec84",
   "metadata": {},
   "outputs": [],
   "source": [
    "# This code snippet allows us to open a file in w+, a mode that supports both reading and writing"
   ]
  },
  {
   "cell_type": "markdown",
   "id": "f1acc4f6-396b-47bf-bcf0-8d884ae11223",
   "metadata": {},
   "source": [
    "``python\n",
    "f = open(\"log.txt\",\"w+\")\n",
    "``"
   ]
  },
  {
   "cell_type": "markdown",
   "id": "ac07bec5-84ba-4104-89ca-4bc9e1ae694e",
   "metadata": {},
   "source": [
    "## Writing Assertions"
   ]
  },
  {
   "cell_type": "code",
   "execution_count": 1,
   "id": "f7a6358f-b7dd-485f-87be-f2abeb541e95",
   "metadata": {},
   "outputs": [],
   "source": [
    "# Initialize x to the value 2\n",
    "x = 2"
   ]
  },
  {
   "cell_type": "code",
   "execution_count": 2,
   "id": "8fa6beb4-68c9-45c2-b470-72d92bbb0a08",
   "metadata": {},
   "outputs": [
    {
     "ename": "AssertionError",
     "evalue": "Invalid value",
     "output_type": "error",
     "traceback": [
      "\u001b[1;31m---------------------------------------------------------------------------\u001b[0m",
      "\u001b[1;31mAssertionError\u001b[0m                            Traceback (most recent call last)",
      "\u001b[1;32m<ipython-input-2-5b4c1cdc729e>\u001b[0m in \u001b[0;36m<module>\u001b[1;34m\u001b[0m\n\u001b[0;32m      1\u001b[0m \u001b[1;31m# If assertion is false print out \"Invalid value\"\u001b[0m\u001b[1;33m\u001b[0m\u001b[1;33m\u001b[0m\u001b[1;33m\u001b[0m\u001b[0m\n\u001b[1;32m----> 2\u001b[1;33m \u001b[1;32massert\u001b[0m \u001b[0mx\u001b[0m \u001b[1;33m<\u001b[0m \u001b[1;36m1\u001b[0m\u001b[1;33m,\u001b[0m \u001b[1;34m\"Invalid value\"\u001b[0m\u001b[1;33m\u001b[0m\u001b[1;33m\u001b[0m\u001b[0m\n\u001b[0m",
      "\u001b[1;31mAssertionError\u001b[0m: Invalid value"
     ]
    }
   ],
   "source": [
    "# If assertion is false return an assertion error with the the value \"Invalid value\"\n",
    "assert x < 1, \"Invalid value\""
   ]
  },
  {
   "cell_type": "markdown",
   "id": "cbe8b5c3-f9b8-47e5-82a9-43213c0f6f14",
   "metadata": {},
   "source": [
    "## Extending Graphs\n",
    "Sometimes, you will need to show multiple charts in the same figure for comparison purposes, or to extend the depth of the story that you are telling. For instance, in an election, you want one chart that shows the percentage, and another chart that shows the actual votes. You will now take a look at how you can use subplots in matplotlib in the following example."
   ]
  },
  {
   "cell_type": "code",
   "execution_count": 11,
   "id": "d7623e0f-2230-47c8-8ca4-2cd44d1f04f4",
   "metadata": {},
   "outputs": [
    {
     "data": {
      "text/plain": [
       "Text(0.5, 0.98, 'Voting Results')"
      ]
     },
     "execution_count": 11,
     "metadata": {},
     "output_type": "execute_result"
    },
    {
     "data": {
      "image/png": "[encoded data removed]",
      "text/plain": [
       "<Figure size 576x288 with 2 Axes>"
      ]
     },
     "metadata": {
      "needs_background": "light"
     },
     "output_type": "display_data"
    }
   ],
   "source": [
    "import matplotlib.pyplot as plt\n",
    "# Split the figure into 2 subplots\n",
    "fig = plt.figure(figsize=(8,4))\n",
    "ax1 = fig.add_subplot(121) # 121 means split into 1 row , 2 columns, and put in 1st part.\n",
    "ax2 = fig.add_subplot(122) # 122 means split into 1 row , 2 columns, and put in 2nd part.\n",
    "# Plot Pie (Subplot 1)\n",
    "labels = ['Adrian', 'Monica', 'Jared']\n",
    "num = [230, 100, 98]\n",
    "ax1.pie(num, labels=labels, autopct='%1.1f%%', colors=['lightblue', 'lightgreen', 'yellow'])\n",
    "ax1.set_title('Pie Chart (Subplot 1)')\n",
    "# Plot Bar Chart (Subplot 2)\n",
    "labels = ['Adrian', 'Monica', 'Jared']\n",
    "num = [230, 100, 98]\n",
    "plt.bar(labels, num, color=['lightblue', 'lightgreen', 'yellow'])\n",
    "ax2.set_title('Bar Chart (Subplot 2)')\n",
    "ax2.set_xlabel('Candidate')\n",
    "ax2.set_ylabel('Votes')\n",
    "fig.suptitle('Voting Results', size=14) "
   ]
  },
  {
   "cell_type": "code",
   "execution_count": null,
   "id": "ecbf7648-8dce-4131-8b14-79e98441d0c8",
   "metadata": {},
   "outputs": [],
   "source": []
  }
 ],
 "metadata": {
  "kernelspec": {
   "display_name": "Python 3",
   "language": "python",
   "name": "python3"
  },
  "language_info": {
   "codemirror_mode": {
    "name": "ipython",
    "version": 3
   },
   "file_extension": ".py",
   "mimetype": "text/x-python",
   "name": "python",
   "nbconvert_exporter": "python",
   "pygments_lexer": "ipython3",
   "version": "3.8.8"
  }
 },
 "nbformat": 4,
 "nbformat_minor": 5
}
